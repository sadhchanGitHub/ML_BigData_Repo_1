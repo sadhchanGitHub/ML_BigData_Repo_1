{
 "cells": [
  {
   "cell_type": "markdown",
   "id": "e0cb1d97",
   "metadata": {},
   "source": [
    "# v2.1 - Random Forest Balanced SMOTE with DASK"
   ]
  },
  {
   "cell_type": "code",
   "execution_count": 571,
   "id": "d3e22053",
   "metadata": {},
   "outputs": [],
   "source": [
    "import os\n",
    "import time\n",
    "import numpy as np\n",
    "import pandas as pd\n",
    "import matplotlib.pyplot as plt\n",
    "import seaborn as sns\n",
    "import networkx as nx\n",
    "from sklearn import preprocessing\n",
    "import geopy\n",
    "from geopy.distance import geodesic\n",
    "import pickle\n",
    "from sklearn.ensemble import RandomForestClassifier\n",
    "import dask.dataframe as dd\n"
   ]
  },
  {
   "cell_type": "code",
   "execution_count": 572,
   "id": "d3ff9499",
   "metadata": {},
   "outputs": [],
   "source": [
    "import sys\n",
    "sys.path.append('../references')  # Add the references folder to the system path\n",
    "model_specs = 'Random Forest SMOTE using DASK Threshold_0.3'"
   ]
  },
  {
   "cell_type": "code",
   "execution_count": 573,
   "id": "ab52f294",
   "metadata": {},
   "outputs": [],
   "source": [
    "start_time_notebook = time.time()\n"
   ]
  },
  {
   "cell_type": "code",
   "execution_count": 574,
   "id": "c56c046a",
   "metadata": {},
   "outputs": [],
   "source": [
    "# Directory to save the figures \n",
    "\n",
    "input_src_dir = '/Users/sadhvichandragiri/desktop/coding/ZHAW_Project/ML_BigData_Repo_1/data/raw'\n",
    "output_dir_figures_train = '/Users/sadhvichandragiri/desktop/coding/ZHAW_Project/ML_BigData_Repo_1/reports/figures/train_figures'\n",
    "output_dir_figures_test = '/Users/sadhvichandragiri/desktop/coding/ZHAW_Project/ML_BigData_Repo_1/reports/figures/test_figures'\n",
    "reports_output_dir = '/Users/sadhvichandragiri/desktop/coding/ZHAW_Project/ML_BigData_Repo_1/reports'"
   ]
  },
  {
   "cell_type": "code",
   "execution_count": 575,
   "id": "e37d27bd",
   "metadata": {},
   "outputs": [
    {
     "name": "stdout",
     "output_type": "stream",
     "text": [
      "Train\n"
     ]
    }
   ],
   "source": [
    "# Define which dataset to use\n",
    "use_test_data = False  # Set to True when using fraudtest.csv\n",
    "\n",
    "# Determine dataset type based on the variable\n",
    "dataset_type = 'Test' if use_test_data else 'Train'\n",
    "print(dataset_type)\n",
    "\n",
    "# Load the appropriate dataset\n",
    "\n",
    "if use_test_data:\n",
    "    output_dir_figures = output_dir_figures_test\n",
    "else:\n",
    "    output_dir_figures = output_dir_figures_train"
   ]
  },
  {
   "cell_type": "code",
   "execution_count": 576,
   "id": "bd0bc5e2",
   "metadata": {},
   "outputs": [],
   "source": [
    "# Generate the preprocess file name dynamically\n",
    "# Get the current timestamp\n",
    "timestamp = time.strftime(\"%Y%m%d_%H%M%S\")  # Format: YYYYMMDD_HHMMSS\n",
    "\n",
    "logfile_title = 'LogFile'\n",
    "logfile_name = f\"{model_specs}_{dataset_type}_{logfile_title.replace(',', '').lower().split('.')[0]}_{timestamp}.txt\"\n",
    "\n",
    "logfile_path = os.path.join(reports_output_dir, logfile_name)\n",
    "\n",
    "# Function to log times to a file\n",
    "def log_time(step_name, start_time):\n",
    "    end_time = time.time()\n",
    "    elapsed_time = end_time - start_time\n",
    "    log_message = (f\"{step_name} completed at {time.ctime(end_time)}. \"\n",
    "                   f\"Elapsed time: {elapsed_time // 60:.0f} minutes and {elapsed_time % 60:.2f} seconds\\n\")\n",
    "    \n",
    "    # Append log to file\n",
    "    with open(logfile_path, 'a') as f:\n",
    "        f.write(log_message)\n",
    "    \n",
    "    # Print the message to the console as well\n",
    "    print(log_message)\n"
   ]
  },
  {
   "cell_type": "code",
   "execution_count": 577,
   "id": "383fd5cc",
   "metadata": {},
   "outputs": [
    {
     "name": "stdout",
     "output_type": "stream",
     "text": [
      "Random Forest SMORE using DASK Threshold_0.3_Train Notebook  started at...  completed at Fri Nov  1 13:27:48 2024. Elapsed time: 0 minutes and 0.07 seconds\n",
      "\n"
     ]
    }
   ],
   "source": [
    "log_time(f\"{model_specs}_{dataset_type} Notebook  started at... \", start_time_notebook)\n",
    "start_time = time.time()"
   ]
  },
  {
   "cell_type": "raw",
   "id": "a17fc867",
   "metadata": {},
   "source": [
    "# Load the appropriate dataset\n",
    "\n",
    "if use_test_data:\n",
    "    df = pd.read_csv(f\"{input_src_dir}/fraudTest.csv\")  # Concatenate the directory with the filename\n",
    "else:\n",
    "    df = pd.read_csv(f\"{input_src_dir}/fraudTrain.csv\")\n"
   ]
  },
  {
   "cell_type": "markdown",
   "id": "0253dfc7",
   "metadata": {},
   "source": [
    "# Use Dask already from the beginning\n"
   ]
  },
  {
   "cell_type": "code",
   "execution_count": 578,
   "id": "0b58eee6",
   "metadata": {},
   "outputs": [
    {
     "name": "stdout",
     "output_type": "stream",
     "text": [
      "Starting the DASK Client completed at Fri Nov  1 13:27:48 2024. Elapsed time: 0 minutes and 0.09 seconds\n",
      "\n"
     ]
    },
    {
     "name": "stderr",
     "output_type": "stream",
     "text": [
      "/Users/sadhvichandragiri/opt/anaconda3/envs/ZHAW_Project/lib/python3.10/site-packages/distributed/node.py:187: UserWarning: Port 8787 is already in use.\n",
      "Perhaps you already have a cluster running?\n",
      "Hosting the HTTP server on port 57127 instead\n",
      "  warnings.warn(\n"
     ]
    }
   ],
   "source": [
    "from dask.distributed import Client\n",
    "from sklearn.ensemble import RandomForestClassifier\n",
    "import dask.dataframe as dd\n",
    "\n",
    "log_time(\"Starting the DASK Client\", start_time)\n",
    "\n",
    "# Start Dask client\n",
    "client = Client()"
   ]
  },
  {
   "cell_type": "code",
   "execution_count": 579,
   "id": "a5b76b9a",
   "metadata": {},
   "outputs": [],
   "source": [
    "\n",
    "\n",
    "# Load the dataset directly into Dask\n",
    "if use_test_data:\n",
    "    df_pre = dd.read_csv(f\"{input_src_dir}/fraudTest.csv\", assume_missing=True)\n",
    "else:\n",
    "    df_pre = dd.read_csv(f\"{input_src_dir}/fraudTrain.csv\", assume_missing=True)\n",
    "\n",
    "\n",
    "# Now proceed with preprocessing, feature engineering, and model training on `df`\n"
   ]
  },
  {
   "cell_type": "code",
   "execution_count": 580,
   "id": "abe2bb1f",
   "metadata": {},
   "outputs": [
    {
     "name": "stdout",
     "output_type": "stream",
     "text": [
      "Number of partitions: 5\n",
      "Columns: Index(['Unnamed: 0', 'TransactionTime', 'CreditCardNumber', 'merchant',\n",
      "       'category', 'TransactionAmount', 'first', 'last', 'gender', 'street',\n",
      "       'city', 'state', 'zip', 'lat', 'long', 'city_pop', 'job', 'DateOfBirth',\n",
      "       'trans_num', 'unix_time', 'merch_lat', 'merch_long', 'is_fraud'],\n",
      "      dtype='object')\n",
      "   Unnamed: 0      TransactionTime  CreditCardNumber  \\\n",
      "0         0.0  2019-01-01 00:00:18      2.703186e+15   \n",
      "1         1.0  2019-01-01 00:00:44      6.304233e+11   \n",
      "2         2.0  2019-01-01 00:00:51      3.885949e+13   \n",
      "3         3.0  2019-01-01 00:01:16      3.534094e+15   \n",
      "4         4.0  2019-01-01 00:03:06      3.755342e+14   \n",
      "\n",
      "                             merchant       category  TransactionAmount  \\\n",
      "0          fraud_Rippin, Kub and Mann       misc_net               4.97   \n",
      "1     fraud_Heller, Gutmann and Zieme    grocery_pos             107.23   \n",
      "2                fraud_Lind-Buckridge  entertainment             220.11   \n",
      "3  fraud_Kutch, Hermiston and Farrell  gas_transport              45.00   \n",
      "4                 fraud_Keeling-Crist       misc_pos              41.96   \n",
      "\n",
      "       first     last gender                        street  ...      lat  \\\n",
      "0   Jennifer    Banks      F                561 Perry Cove  ...  36.0788   \n",
      "1  Stephanie     Gill      F  43039 Riley Greens Suite 393  ...  48.8878   \n",
      "2     Edward  Sanchez      M      594 White Dale Suite 530  ...  42.1808   \n",
      "3     Jeremy    White      M   9443 Cynthia Court Apt. 038  ...  46.2306   \n",
      "4      Tyler   Garcia      M              408 Bradley Rest  ...  38.4207   \n",
      "\n",
      "       long  city_pop                                job  DateOfBirth  \\\n",
      "0  -81.1781    3495.0          Psychologist, counselling   1988-03-09   \n",
      "1 -118.2105     149.0  Special educational needs teacher   1978-06-21   \n",
      "2 -112.2620    4154.0        Nature conservation officer   1962-01-19   \n",
      "3 -112.1138    1939.0                    Patent attorney   1967-01-12   \n",
      "4  -79.4629      99.0     Dance movement psychotherapist   1986-03-28   \n",
      "\n",
      "                          trans_num     unix_time  merch_lat  merch_long  \\\n",
      "0  0b242abb623afc578575680df30655b9  1.325376e+09  36.011293  -82.048315   \n",
      "1  1f76529f8574734946361c461b024d99  1.325376e+09  49.159047 -118.186462   \n",
      "2  a1a22d70485983eac12b5b88dad1cf95  1.325376e+09  43.150704 -112.154481   \n",
      "3  6b849c168bdad6f867558c3793159a81  1.325376e+09  47.034331 -112.561071   \n",
      "4  a41d7549acf90789359a9aa5346dcb46  1.325376e+09  38.674999  -78.632459   \n",
      "\n",
      "   is_fraud  \n",
      "0       0.0  \n",
      "1       0.0  \n",
      "2       0.0  \n",
      "3       0.0  \n",
      "4       0.0  \n",
      "\n",
      "[5 rows x 23 columns]\n"
     ]
    }
   ],
   "source": [
    "# Optionally repartition the dataset if necessary\n",
    "df_pre = df_pre.repartition(npartitions=5)\n",
    "\n",
    "\n",
    "# Strip whitespace from column names and rename\n",
    "df_pre.columns = df_pre.columns.str.strip()\n",
    "df_pre = df_pre.rename(columns={'amt': 'TransactionAmount', 'cc_num': 'CreditCardNumber', 'dob': 'DateOfBirth', 'trans_date_trans_time': 'TransactionTime'})\n",
    "\n",
    "# Repartition to ensure consistency\n",
    "df_pre = df_pre.repartition(npartitions=5)\n",
    "\n",
    "# Preview without converting to Pandas\n",
    "print(\"Number of partitions:\", df_pre.npartitions)\n",
    "print(\"Columns:\", df_pre.columns)\n",
    "print(df_pre.head())  # No .compute() here\n",
    "\n",
    "# Final transformations or computations\n",
    "# Only use .compute() at the very end if needed, for example:\n",
    "df = df_pre.compute()  # Converts to Pandas for the entire dataset\n"
   ]
  },
  {
   "cell_type": "code",
   "execution_count": 581,
   "id": "6a11b824",
   "metadata": {},
   "outputs": [
    {
     "name": "stdout",
     "output_type": "stream",
     "text": [
      "Index(['Unnamed: 0', 'TransactionTime', 'CreditCardNumber', 'merchant',\n",
      "       'category', 'TransactionAmount', 'first', 'last', 'gender', 'street',\n",
      "       'city', 'state', 'zip', 'lat', 'long', 'city_pop', 'job', 'DateOfBirth',\n",
      "       'trans_num', 'unix_time', 'merch_lat', 'merch_long', 'is_fraud'],\n",
      "      dtype='object')\n",
      "(1296675, 23)\n"
     ]
    }
   ],
   "source": [
    "print(df.columns)\n",
    "print(df.shape)\n"
   ]
  },
  {
   "cell_type": "raw",
   "id": "9042c84c",
   "metadata": {},
   "source": [
    "df.columns = df.columns.str.strip()\n"
   ]
  },
  {
   "cell_type": "raw",
   "id": "a6829be1",
   "metadata": {},
   "source": [
    "df = df.rename(columns={'amt': 'TransactionAmount', 'cc_num': 'CreditCardNumber', 'dob': 'DateOfBirth', 'trans_date_trans_time': 'TransactionTime'})\n"
   ]
  },
  {
   "cell_type": "raw",
   "id": "7500a890",
   "metadata": {},
   "source": [
    "print(df.columns)\n"
   ]
  },
  {
   "cell_type": "code",
   "execution_count": 582,
   "id": "73a7c91d",
   "metadata": {},
   "outputs": [],
   "source": [
    "# Convert to Pandas and generate TransactionID\n",
    "df = df_pre.compute()\n",
    "df = df.reset_index(drop=True)\n",
    "df['TransactionID'] = df.index + 1  # Unique TransactionID\n",
    "\n"
   ]
  },
  {
   "cell_type": "code",
   "execution_count": 583,
   "id": "5c847926",
   "metadata": {
    "scrolled": true
   },
   "outputs": [
    {
     "name": "stdout",
     "output_type": "stream",
     "text": [
      "Columns: Index(['Unnamed: 0', 'TransactionTime', 'CreditCardNumber', 'merchant',\n",
      "       'category', 'TransactionAmount', 'first', 'last', 'gender', 'street',\n",
      "       'city', 'state', 'zip', 'lat', 'long', 'city_pop', 'job', 'DateOfBirth',\n",
      "       'trans_num', 'unix_time', 'merch_lat', 'merch_long', 'is_fraud',\n",
      "       'TransactionID'],\n",
      "      dtype='object')\n"
     ]
    }
   ],
   "source": [
    "\n",
    "print(\"Columns:\", df.columns)\n"
   ]
  },
  {
   "cell_type": "raw",
   "id": "02327c04",
   "metadata": {},
   "source": [
    "#debug\n",
    "import pandas as pd\n",
    "df_check = pd.read_csv(f\"{input_src_dir}/fraudTrain.csv\")\n",
    "print(\"Original CSV Row Count:\", len(df_check))\n"
   ]
  },
  {
   "cell_type": "raw",
   "id": "96d16888",
   "metadata": {},
   "source": [
    "#debug\n",
    "df = dd.read_csv(f\"{input_src_dir}/fraudTrain.csv\", assume_missing=True)\n",
    "row_count = df.size.compute() // len(df.columns)  # Approximate row count\n",
    "print(\"Row count after loading:\", row_count)\n"
   ]
  },
  {
   "cell_type": "code",
   "execution_count": 584,
   "id": "d3babc4f",
   "metadata": {},
   "outputs": [
    {
     "name": "stdout",
     "output_type": "stream",
     "text": [
      "Missing values per column:\n",
      " Unnamed: 0           0\n",
      "TransactionTime      0\n",
      "CreditCardNumber     0\n",
      "merchant             0\n",
      "category             0\n",
      "TransactionAmount    0\n",
      "first                0\n",
      "last                 0\n",
      "gender               0\n",
      "street               0\n",
      "city                 0\n",
      "state                0\n",
      "zip                  0\n",
      "lat                  0\n",
      "long                 0\n",
      "city_pop             0\n",
      "job                  0\n",
      "DateOfBirth          0\n",
      "trans_num            0\n",
      "unix_time            0\n",
      "merch_lat            0\n",
      "merch_long           0\n",
      "is_fraud             0\n",
      "TransactionID        0\n",
      "dtype: int64\n"
     ]
    }
   ],
   "source": [
    "# Check for missing values\n",
    "missing_values = df.isnull().sum()\n",
    "print(\"Missing values per column:\\n\", missing_values)\n",
    "\n",
    "# no missing values"
   ]
  },
  {
   "cell_type": "code",
   "execution_count": 585,
   "id": "5dc29333",
   "metadata": {},
   "outputs": [
    {
     "name": "stdout",
     "output_type": "stream",
     "text": [
      "is_fraud\n",
      "0.0    1289169\n",
      "1.0       7506\n",
      "Name: count, dtype: int64\n",
      "is_fraud\n",
      "0.0    99.421135\n",
      "1.0     0.578865\n",
      "Name: proportion, dtype: float64\n"
     ]
    }
   ],
   "source": [
    "# Count of fraud and non-fraud transactions\n",
    "fraud_counts = df['is_fraud'].value_counts()\n",
    "print(fraud_counts)\n",
    "\n",
    "# Optionally, you can get it in percentage terms\n",
    "fraud_percentage = df['is_fraud'].value_counts(normalize=True) * 100\n",
    "print(fraud_percentage)\n"
   ]
  },
  {
   "cell_type": "code",
   "execution_count": 586,
   "id": "5c60dd27",
   "metadata": {},
   "outputs": [
    {
     "data": {
      "text/plain": [
       "983"
      ]
     },
     "execution_count": 586,
     "metadata": {},
     "output_type": "execute_result"
    }
   ],
   "source": [
    "#how many unique credit cards in the data set ??\n",
    "df['CreditCardNumber'].nunique()"
   ]
  },
  {
   "cell_type": "code",
   "execution_count": 587,
   "id": "391577c3",
   "metadata": {},
   "outputs": [
    {
     "name": "stdout",
     "output_type": "stream",
     "text": [
      "Index(['Unnamed: 0', 'TransactionTime', 'CreditCardNumber', 'merchant',\n",
      "       'category', 'TransactionAmount', 'first', 'last', 'gender', 'street',\n",
      "       'city', 'state', 'zip', 'lat', 'long', 'city_pop', 'job', 'DateOfBirth',\n",
      "       'trans_num', 'unix_time', 'merch_lat', 'merch_long', 'is_fraud',\n",
      "       'TransactionID'],\n",
      "      dtype='object')\n"
     ]
    }
   ],
   "source": [
    "print(df.columns)"
   ]
  },
  {
   "cell_type": "code",
   "execution_count": 588,
   "id": "75b3c066",
   "metadata": {},
   "outputs": [],
   "source": [
    "# Convert TransactionTime to datetime\n",
    "df['TransactionTime'] = pd.to_datetime(df['TransactionTime'])\n",
    "\n",
    "# Optional: Convert DateOfBirth to datetime, if needed\n",
    "df['DateOfBirth'] = pd.to_datetime(df['DateOfBirth'], errors='coerce')"
   ]
  },
  {
   "cell_type": "code",
   "execution_count": 589,
   "id": "52941f07",
   "metadata": {},
   "outputs": [
    {
     "name": "stdout",
     "output_type": "stream",
     "text": [
      "DatetimeIndex(['2019-01-01 00:00:18', '2019-01-01 00:00:44',\n",
      "               '2019-01-01 00:00:51', '2019-01-01 00:01:16',\n",
      "               '2019-01-01 00:03:06', '2019-01-01 00:04:08',\n",
      "               '2019-01-01 00:04:42', '2019-01-01 00:05:08',\n",
      "               '2019-01-01 00:05:18', '2019-01-01 00:06:01',\n",
      "               ...\n",
      "               '2020-06-21 12:08:42', '2020-06-21 12:09:22',\n",
      "               '2020-06-21 12:10:56', '2020-06-21 12:11:23',\n",
      "               '2020-06-21 12:11:36', '2020-06-21 12:12:08',\n",
      "               '2020-06-21 12:12:19', '2020-06-21 12:12:32',\n",
      "               '2020-06-21 12:13:36', '2020-06-21 12:13:37'],\n",
      "              dtype='datetime64[ns]', name='TransactionTime', length=1296675, freq=None)\n"
     ]
    }
   ],
   "source": [
    "# Set 'TransactionTime' as the index permanently\n",
    "df.set_index('TransactionTime', inplace=True)\n",
    "\n",
    "# Verify the index\n",
    "print(df.index)\n"
   ]
  },
  {
   "cell_type": "code",
   "execution_count": 590,
   "id": "55397673",
   "metadata": {},
   "outputs": [
    {
     "name": "stdout",
     "output_type": "stream",
     "text": [
      "Minimum Transaction Time: 2019-01-01 00:00:18\n",
      "Maximum Transaction Time: 2020-06-21 12:13:37\n"
     ]
    }
   ],
   "source": [
    "# Get the minimum and maximum transaction times from the index\n",
    "min_time = df.index.min()\n",
    "max_time = df.index.max()\n",
    "\n",
    "print(f\"Minimum Transaction Time: {min_time}\")\n",
    "print(f\"Maximum Transaction Time: {max_time}\")\n"
   ]
  },
  {
   "cell_type": "code",
   "execution_count": 591,
   "id": "a1fc7ac7",
   "metadata": {},
   "outputs": [
    {
     "data": {
      "text/html": [
       "<div>\n",
       "<style scoped>\n",
       "    .dataframe tbody tr th:only-of-type {\n",
       "        vertical-align: middle;\n",
       "    }\n",
       "\n",
       "    .dataframe tbody tr th {\n",
       "        vertical-align: top;\n",
       "    }\n",
       "\n",
       "    .dataframe thead th {\n",
       "        text-align: right;\n",
       "    }\n",
       "</style>\n",
       "<table border=\"1\" class=\"dataframe\">\n",
       "  <thead>\n",
       "    <tr style=\"text-align: right;\">\n",
       "      <th></th>\n",
       "      <th>Unnamed: 0</th>\n",
       "      <th>CreditCardNumber</th>\n",
       "      <th>merchant</th>\n",
       "      <th>category</th>\n",
       "      <th>TransactionAmount</th>\n",
       "      <th>first</th>\n",
       "      <th>last</th>\n",
       "      <th>gender</th>\n",
       "      <th>street</th>\n",
       "      <th>city</th>\n",
       "      <th>...</th>\n",
       "      <th>long</th>\n",
       "      <th>city_pop</th>\n",
       "      <th>job</th>\n",
       "      <th>DateOfBirth</th>\n",
       "      <th>trans_num</th>\n",
       "      <th>unix_time</th>\n",
       "      <th>merch_lat</th>\n",
       "      <th>merch_long</th>\n",
       "      <th>is_fraud</th>\n",
       "      <th>TransactionID</th>\n",
       "    </tr>\n",
       "    <tr>\n",
       "      <th>TransactionTime</th>\n",
       "      <th></th>\n",
       "      <th></th>\n",
       "      <th></th>\n",
       "      <th></th>\n",
       "      <th></th>\n",
       "      <th></th>\n",
       "      <th></th>\n",
       "      <th></th>\n",
       "      <th></th>\n",
       "      <th></th>\n",
       "      <th></th>\n",
       "      <th></th>\n",
       "      <th></th>\n",
       "      <th></th>\n",
       "      <th></th>\n",
       "      <th></th>\n",
       "      <th></th>\n",
       "      <th></th>\n",
       "      <th></th>\n",
       "      <th></th>\n",
       "      <th></th>\n",
       "    </tr>\n",
       "  </thead>\n",
       "  <tbody>\n",
       "    <tr>\n",
       "      <th>2019-01-01 00:00:18</th>\n",
       "      <td>0.0</td>\n",
       "      <td>2.703186e+15</td>\n",
       "      <td>fraud_Rippin, Kub and Mann</td>\n",
       "      <td>misc_net</td>\n",
       "      <td>4.97</td>\n",
       "      <td>Jennifer</td>\n",
       "      <td>Banks</td>\n",
       "      <td>F</td>\n",
       "      <td>561 Perry Cove</td>\n",
       "      <td>Moravian Falls</td>\n",
       "      <td>...</td>\n",
       "      <td>-81.1781</td>\n",
       "      <td>3495.0</td>\n",
       "      <td>Psychologist, counselling</td>\n",
       "      <td>1988-03-09</td>\n",
       "      <td>0b242abb623afc578575680df30655b9</td>\n",
       "      <td>1.325376e+09</td>\n",
       "      <td>36.011293</td>\n",
       "      <td>-82.048315</td>\n",
       "      <td>0.0</td>\n",
       "      <td>1</td>\n",
       "    </tr>\n",
       "    <tr>\n",
       "      <th>2019-01-01 00:00:44</th>\n",
       "      <td>1.0</td>\n",
       "      <td>6.304233e+11</td>\n",
       "      <td>fraud_Heller, Gutmann and Zieme</td>\n",
       "      <td>grocery_pos</td>\n",
       "      <td>107.23</td>\n",
       "      <td>Stephanie</td>\n",
       "      <td>Gill</td>\n",
       "      <td>F</td>\n",
       "      <td>43039 Riley Greens Suite 393</td>\n",
       "      <td>Orient</td>\n",
       "      <td>...</td>\n",
       "      <td>-118.2105</td>\n",
       "      <td>149.0</td>\n",
       "      <td>Special educational needs teacher</td>\n",
       "      <td>1978-06-21</td>\n",
       "      <td>1f76529f8574734946361c461b024d99</td>\n",
       "      <td>1.325376e+09</td>\n",
       "      <td>49.159047</td>\n",
       "      <td>-118.186462</td>\n",
       "      <td>0.0</td>\n",
       "      <td>2</td>\n",
       "    </tr>\n",
       "    <tr>\n",
       "      <th>2019-01-01 00:00:51</th>\n",
       "      <td>2.0</td>\n",
       "      <td>3.885949e+13</td>\n",
       "      <td>fraud_Lind-Buckridge</td>\n",
       "      <td>entertainment</td>\n",
       "      <td>220.11</td>\n",
       "      <td>Edward</td>\n",
       "      <td>Sanchez</td>\n",
       "      <td>M</td>\n",
       "      <td>594 White Dale Suite 530</td>\n",
       "      <td>Malad City</td>\n",
       "      <td>...</td>\n",
       "      <td>-112.2620</td>\n",
       "      <td>4154.0</td>\n",
       "      <td>Nature conservation officer</td>\n",
       "      <td>1962-01-19</td>\n",
       "      <td>a1a22d70485983eac12b5b88dad1cf95</td>\n",
       "      <td>1.325376e+09</td>\n",
       "      <td>43.150704</td>\n",
       "      <td>-112.154481</td>\n",
       "      <td>0.0</td>\n",
       "      <td>3</td>\n",
       "    </tr>\n",
       "    <tr>\n",
       "      <th>2019-01-01 00:01:16</th>\n",
       "      <td>3.0</td>\n",
       "      <td>3.534094e+15</td>\n",
       "      <td>fraud_Kutch, Hermiston and Farrell</td>\n",
       "      <td>gas_transport</td>\n",
       "      <td>45.00</td>\n",
       "      <td>Jeremy</td>\n",
       "      <td>White</td>\n",
       "      <td>M</td>\n",
       "      <td>9443 Cynthia Court Apt. 038</td>\n",
       "      <td>Boulder</td>\n",
       "      <td>...</td>\n",
       "      <td>-112.1138</td>\n",
       "      <td>1939.0</td>\n",
       "      <td>Patent attorney</td>\n",
       "      <td>1967-01-12</td>\n",
       "      <td>6b849c168bdad6f867558c3793159a81</td>\n",
       "      <td>1.325376e+09</td>\n",
       "      <td>47.034331</td>\n",
       "      <td>-112.561071</td>\n",
       "      <td>0.0</td>\n",
       "      <td>4</td>\n",
       "    </tr>\n",
       "    <tr>\n",
       "      <th>2019-01-01 00:03:06</th>\n",
       "      <td>4.0</td>\n",
       "      <td>3.755342e+14</td>\n",
       "      <td>fraud_Keeling-Crist</td>\n",
       "      <td>misc_pos</td>\n",
       "      <td>41.96</td>\n",
       "      <td>Tyler</td>\n",
       "      <td>Garcia</td>\n",
       "      <td>M</td>\n",
       "      <td>408 Bradley Rest</td>\n",
       "      <td>Doe Hill</td>\n",
       "      <td>...</td>\n",
       "      <td>-79.4629</td>\n",
       "      <td>99.0</td>\n",
       "      <td>Dance movement psychotherapist</td>\n",
       "      <td>1986-03-28</td>\n",
       "      <td>a41d7549acf90789359a9aa5346dcb46</td>\n",
       "      <td>1.325376e+09</td>\n",
       "      <td>38.674999</td>\n",
       "      <td>-78.632459</td>\n",
       "      <td>0.0</td>\n",
       "      <td>5</td>\n",
       "    </tr>\n",
       "  </tbody>\n",
       "</table>\n",
       "<p>5 rows × 23 columns</p>\n",
       "</div>"
      ],
      "text/plain": [
       "                     Unnamed: 0  CreditCardNumber  \\\n",
       "TransactionTime                                     \n",
       "2019-01-01 00:00:18         0.0      2.703186e+15   \n",
       "2019-01-01 00:00:44         1.0      6.304233e+11   \n",
       "2019-01-01 00:00:51         2.0      3.885949e+13   \n",
       "2019-01-01 00:01:16         3.0      3.534094e+15   \n",
       "2019-01-01 00:03:06         4.0      3.755342e+14   \n",
       "\n",
       "                                               merchant       category  \\\n",
       "TransactionTime                                                          \n",
       "2019-01-01 00:00:18          fraud_Rippin, Kub and Mann       misc_net   \n",
       "2019-01-01 00:00:44     fraud_Heller, Gutmann and Zieme    grocery_pos   \n",
       "2019-01-01 00:00:51                fraud_Lind-Buckridge  entertainment   \n",
       "2019-01-01 00:01:16  fraud_Kutch, Hermiston and Farrell  gas_transport   \n",
       "2019-01-01 00:03:06                 fraud_Keeling-Crist       misc_pos   \n",
       "\n",
       "                     TransactionAmount      first     last gender  \\\n",
       "TransactionTime                                                     \n",
       "2019-01-01 00:00:18               4.97   Jennifer    Banks      F   \n",
       "2019-01-01 00:00:44             107.23  Stephanie     Gill      F   \n",
       "2019-01-01 00:00:51             220.11     Edward  Sanchez      M   \n",
       "2019-01-01 00:01:16              45.00     Jeremy    White      M   \n",
       "2019-01-01 00:03:06              41.96      Tyler   Garcia      M   \n",
       "\n",
       "                                           street            city  ...  \\\n",
       "TransactionTime                                                    ...   \n",
       "2019-01-01 00:00:18                561 Perry Cove  Moravian Falls  ...   \n",
       "2019-01-01 00:00:44  43039 Riley Greens Suite 393          Orient  ...   \n",
       "2019-01-01 00:00:51      594 White Dale Suite 530      Malad City  ...   \n",
       "2019-01-01 00:01:16   9443 Cynthia Court Apt. 038         Boulder  ...   \n",
       "2019-01-01 00:03:06              408 Bradley Rest        Doe Hill  ...   \n",
       "\n",
       "                         long  city_pop                                job  \\\n",
       "TransactionTime                                                              \n",
       "2019-01-01 00:00:18  -81.1781    3495.0          Psychologist, counselling   \n",
       "2019-01-01 00:00:44 -118.2105     149.0  Special educational needs teacher   \n",
       "2019-01-01 00:00:51 -112.2620    4154.0        Nature conservation officer   \n",
       "2019-01-01 00:01:16 -112.1138    1939.0                    Patent attorney   \n",
       "2019-01-01 00:03:06  -79.4629      99.0     Dance movement psychotherapist   \n",
       "\n",
       "                     DateOfBirth                         trans_num  \\\n",
       "TransactionTime                                                      \n",
       "2019-01-01 00:00:18   1988-03-09  0b242abb623afc578575680df30655b9   \n",
       "2019-01-01 00:00:44   1978-06-21  1f76529f8574734946361c461b024d99   \n",
       "2019-01-01 00:00:51   1962-01-19  a1a22d70485983eac12b5b88dad1cf95   \n",
       "2019-01-01 00:01:16   1967-01-12  6b849c168bdad6f867558c3793159a81   \n",
       "2019-01-01 00:03:06   1986-03-28  a41d7549acf90789359a9aa5346dcb46   \n",
       "\n",
       "                        unix_time  merch_lat  merch_long  is_fraud  \\\n",
       "TransactionTime                                                      \n",
       "2019-01-01 00:00:18  1.325376e+09  36.011293  -82.048315       0.0   \n",
       "2019-01-01 00:00:44  1.325376e+09  49.159047 -118.186462       0.0   \n",
       "2019-01-01 00:00:51  1.325376e+09  43.150704 -112.154481       0.0   \n",
       "2019-01-01 00:01:16  1.325376e+09  47.034331 -112.561071       0.0   \n",
       "2019-01-01 00:03:06  1.325376e+09  38.674999  -78.632459       0.0   \n",
       "\n",
       "                     TransactionID  \n",
       "TransactionTime                     \n",
       "2019-01-01 00:00:18              1  \n",
       "2019-01-01 00:00:44              2  \n",
       "2019-01-01 00:00:51              3  \n",
       "2019-01-01 00:01:16              4  \n",
       "2019-01-01 00:03:06              5  \n",
       "\n",
       "[5 rows x 23 columns]"
      ]
     },
     "execution_count": 591,
     "metadata": {},
     "output_type": "execute_result"
    }
   ],
   "source": [
    "df.head()"
   ]
  },
  {
   "cell_type": "code",
   "execution_count": 592,
   "id": "10777762",
   "metadata": {},
   "outputs": [
    {
     "name": "stdout",
     "output_type": "stream",
     "text": [
      "Initial Steps Completed File Loading, Describe, Date Conversions etc..   completed at Fri Nov  1 13:28:12 2024. Elapsed time: 0 minutes and 23.68 seconds\n",
      "\n"
     ]
    }
   ],
   "source": [
    "log_time(\"Initial Steps Completed File Loading, Describe, Date Conversions etc..  \", start_time)\n",
    "log_time(\"--------------------------------------------------- ------------------  \", start_time)\n"
   ]
  },
  {
   "cell_type": "markdown",
   "id": "e4b32d0d",
   "metadata": {},
   "source": [
    "# Feature Engineering"
   ]
  },
  {
   "cell_type": "code",
   "execution_count": 593,
   "id": "ca771ac4",
   "metadata": {},
   "outputs": [],
   "source": [
    "# Log pre-process time at various steps\n",
    "start_time = time.time()\n"
   ]
  },
  {
   "cell_type": "code",
   "execution_count": 594,
   "id": "a2a6ec4c",
   "metadata": {},
   "outputs": [
    {
     "name": "stdout",
     "output_type": "stream",
     "text": [
      "START - Feature Engineering .....   completed at Fri Nov  1 13:28:12 2024. Elapsed time: 0 minutes and 0.01 seconds\n",
      "\n"
     ]
    }
   ],
   "source": [
    "log_time(\"START - Feature Engineering .....  \", start_time)\n",
    "start_time = time.time()"
   ]
  },
  {
   "cell_type": "code",
   "execution_count": 595,
   "id": "31252f6e",
   "metadata": {},
   "outputs": [],
   "source": [
    "\n",
    "# Clip outliers if necessary\n",
    "df['TransactionAmount'] = df['TransactionAmount'].clip(upper=df['TransactionAmount'].quantile(0.99))\n",
    "\n"
   ]
  },
  {
   "cell_type": "code",
   "execution_count": 596,
   "id": "bf9e3c7a",
   "metadata": {},
   "outputs": [
    {
     "name": "stderr",
     "output_type": "stream",
     "text": [
      "/var/folders/xp/synrlbr15rx4pkqjmwqk80k80000gn/T/ipykernel_14803/1075701793.py:2: FutureWarning: A value is trying to be set on a copy of a DataFrame or Series through chained assignment using an inplace method.\n",
      "The behavior will change in pandas 3.0. This inplace method will never work because the intermediate object on which we are setting values always behaves as a copy.\n",
      "\n",
      "For example, when doing 'df[col].method(value, inplace=True)', try using 'df.method({col: value}, inplace=True)' or df[col] = df[col].method(value) instead, to perform the operation inplace on the original object.\n",
      "\n",
      "\n",
      "  df['TransactionAmount'].replace([np.inf, -np.inf], np.nan, inplace=True)\n"
     ]
    }
   ],
   "source": [
    "\n",
    "# Replace inf values with NaN (in case they exist in the 'TransactionAmount' column)\n",
    "df['TransactionAmount'].replace([np.inf, -np.inf], np.nan, inplace=True)\n"
   ]
  },
  {
   "cell_type": "markdown",
   "id": "2b21308e",
   "metadata": {},
   "source": [
    "# next type of VIZ via transaction id vs transaction count\n"
   ]
  },
  {
   "cell_type": "code",
   "execution_count": 597,
   "id": "70594f9d",
   "metadata": {},
   "outputs": [],
   "source": [
    "# Extract hour from TransactionTime\n",
    "df['Hour'] = df.index.hour  # Since TransactionTime is already set as the index\n"
   ]
  },
  {
   "cell_type": "code",
   "execution_count": 598,
   "id": "ea729e48",
   "metadata": {},
   "outputs": [
    {
     "name": "stdout",
     "output_type": "stream",
     "text": [
      "High-Risk Hours: [22, 23, 1, 0, 2, 3]\n",
      "                     Hour  HighRiskHour\n",
      "TransactionTime                        \n",
      "2019-01-01 00:00:18     0             1\n",
      "2019-01-01 00:00:44     0             1\n",
      "2019-01-01 00:00:51     0             1\n",
      "2019-01-01 00:01:16     0             1\n",
      "2019-01-01 00:03:06     0             1\n",
      "...                   ...           ...\n",
      "2020-06-21 12:12:08    12             0\n",
      "2020-06-21 12:12:19    12             0\n",
      "2020-06-21 12:12:32    12             0\n",
      "2020-06-21 12:13:36    12             0\n",
      "2020-06-21 12:13:37    12             0\n",
      "\n",
      "[1296675 rows x 2 columns]\n"
     ]
    }
   ],
   "source": [
    "# Calculate fraud rate by hour\n",
    "fraud_rate_by_hour = df.groupby('Hour')['is_fraud'].mean()\n",
    "\n",
    "# Sort by fraud rate in descending order\n",
    "fraud_rate_by_hour = fraud_rate_by_hour.sort_values(ascending=False)\n",
    "\n",
    "# Define a threshold for high-risk hours (adjust as needed)\n",
    "threshold = fraud_rate_by_hour.mean()  # Mean fraud rate across all hours\n",
    "\n",
    "# Dynamically identify high-risk hours based on the threshold\n",
    "high_risk_hours = fraud_rate_by_hour[fraud_rate_by_hour > threshold].index.tolist()\n",
    "\n",
    "# Print high-risk hours for reference\n",
    "print(\"High-Risk Hours:\", high_risk_hours)\n",
    "\n",
    "# Create the HighRiskHour flag based on dynamically identified high-risk hours\n",
    "df['HighRiskHour'] = df['Hour'].apply(lambda x: 1 if x in high_risk_hours else 0)\n",
    "\n",
    "# Print a sample of the DataFrame to verify the new column\n",
    "print(df[['Hour', 'HighRiskHour']])\n"
   ]
  },
  {
   "cell_type": "markdown",
   "id": "e75736fa",
   "metadata": {},
   "source": [
    "1. Time-Based Analysis:\n",
    "Already explored daily and hourly trends in transaction volumes, but now dive deeper into fraud patterns based on time.\n",
    "\n"
   ]
  },
  {
   "cell_type": "code",
   "execution_count": 599,
   "id": "a61c0eb4",
   "metadata": {
    "scrolled": true
   },
   "outputs": [],
   "source": [
    "#Weekday vs. Weekend: Is fraud more common on weekdays or weekends?\n",
    "df['DayOfWeek'] = df.index.dayofweek  # 0 = Monday, 6 = Sunday\n",
    "fraud_by_day = df[df['is_fraud'] == 1]['DayOfWeek'].value_counts().sort_index()\n",
    "non_fraud_by_day = df[df['is_fraud'] == 0]['DayOfWeek'].value_counts().sort_index()\n",
    "\n"
   ]
  },
  {
   "cell_type": "code",
   "execution_count": 600,
   "id": "f0d77fc0",
   "metadata": {},
   "outputs": [],
   "source": [
    "\n",
    "# Define the correct day order\n",
    "day_order = ['Sunday', 'Monday', 'Tuesday', 'Wednesday', 'Thursday', 'Friday', 'Saturday']\n",
    "\n",
    "\n",
    "df['DayName'] = df.index.day_name()\n",
    "# Convert the 'DayName' column to a categorical type with the correct order\n",
    "df['DayName'] = pd.Categorical(df['DayName'], categories=day_order, ordered=True)\n",
    "\n",
    "fraud_by_day = df[df['is_fraud'] == 1]['DayName'].value_counts().sort_index()\n",
    "non_fraud_by_day = df[df['is_fraud'] == 0]['DayName'].value_counts().sort_index()\n",
    "\n"
   ]
  },
  {
   "cell_type": "code",
   "execution_count": 601,
   "id": "3edc7f62",
   "metadata": {},
   "outputs": [
    {
     "name": "stdout",
     "output_type": "stream",
     "text": [
      "Percentage of fraud on weekends: 32.55%\n",
      "Percentage of non-fraud on weekends: 34.84%\n"
     ]
    }
   ],
   "source": [
    "df['IsWeekend'] = df['DayOfWeek'].apply(lambda x: 1 if x >= 5 else 0)\n",
    "weekend_fraud = df[df['is_fraud'] == 1]['IsWeekend'].mean()\n",
    "weekend_non_fraud = df[df['is_fraud'] == 0]['IsWeekend'].mean()\n",
    "\n",
    "print(f\"Percentage of fraud on weekends: {weekend_fraud * 100:.2f}%\")\n",
    "print(f\"Percentage of non-fraud on weekends: {weekend_non_fraud * 100:.2f}%\")\n"
   ]
  },
  {
   "cell_type": "code",
   "execution_count": 602,
   "id": "67a62065",
   "metadata": {},
   "outputs": [
    {
     "name": "stdout",
     "output_type": "stream",
     "text": [
      "Part1 - TrxAmount, Hour, DayOfWeeek etc.. completed at Fri Nov  1 13:28:14 2024. Elapsed time: 0 minutes and 2.71 seconds\n",
      "\n"
     ]
    }
   ],
   "source": [
    "log_time(\"Part1 - TrxAmount, Hour, DayOfWeeek etc..\", start_time)\n",
    "start_time = time.time()\n"
   ]
  },
  {
   "cell_type": "raw",
   "id": "b51d0f2e",
   "metadata": {},
   "source": [
    "# Calculate distance between cardholder and merchant\n",
    "df['distance'] = df.apply(lambda row: geodesic((row['lat'], row['long']), (row['merch_lat'], row['merch_long'])).km, axis=1)\n"
   ]
  },
  {
   "cell_type": "code",
   "execution_count": 603,
   "id": "1f04c2dd",
   "metadata": {},
   "outputs": [
    {
     "name": "stdout",
     "output_type": "stream",
     "text": [
      "['.DS_Store', 'v_2.0_RandomForest_Credit_Card_Fraud_Detection.ipynb', 'v_2.1_RandomForest_Balanced_SMOTE_Credit_Card_Fraud_Detection.ipynb', 'v_0.0_LogisticRegression_Credit_Card_Fraud_Detection.ipynb', '.gitkeep', 'v_2.1_RandomForest_Balanced_SMOTE_Credit_Card_Fraud_Detection.ipynb copy', '__pycache__', 'v_0.1_LogisticRegression_Balanced_Credit_Card_Fraud_Detection.ipynb', '.ipynb_checkpoints', 'v_1.0_DecisionTrees_Credit_Card_Fraud_Detection.ipynb', 'v_1.1_DecisionTrees_Credit_Card_Fraud_Detection.ipynb']\n"
     ]
    }
   ],
   "source": [
    "import os\n",
    "print(os.listdir())  # List all files in the current directory\n"
   ]
  },
  {
   "cell_type": "markdown",
   "id": "3f3a9514",
   "metadata": {},
   "source": [
    "# MULTIPROCESSING : distance"
   ]
  },
  {
   "cell_type": "code",
   "execution_count": 604,
   "id": "40c0bbf1",
   "metadata": {
    "scrolled": true
   },
   "outputs": [
    {
     "name": "stderr",
     "output_type": "stream",
     "text": [
      "/Users/sadhvichandragiri/opt/anaconda3/envs/ZHAW_Project/lib/python3.10/site-packages/numpy/core/fromnumeric.py:59: FutureWarning: 'DataFrame.swapaxes' is deprecated and will be removed in a future version. Please use 'DataFrame.transpose' instead.\n",
      "  return bound(*args, **kwds)\n"
     ]
    },
    {
     "name": "stdout",
     "output_type": "stream",
     "text": [
      "Part2 - Distance Calculation with Multiprocessing (4 cores) completed at Fri Nov  1 13:29:29 2024. Elapsed time: 1 minutes and 14.53 seconds\n",
      "\n",
      "                         lat      long  merch_lat  merch_long    distance\n",
      "TransactionTime                                                          \n",
      "2019-01-01 00:00:18  36.0788  -81.1781  36.011293  -82.048315   78.773821\n",
      "2019-01-01 00:00:44  48.8878 -118.2105  49.159047 -118.186462   30.216618\n",
      "2019-01-01 00:00:51  42.1808 -112.2620  43.150704 -112.154481  108.102912\n",
      "2019-01-01 00:01:16  46.2306 -112.1138  47.034331 -112.561071   95.685115\n",
      "2019-01-01 00:03:06  38.4207  -79.4629  38.674999  -78.632459   77.702395\n"
     ]
    }
   ],
   "source": [
    "import pandas as pd\n",
    "from geopy.distance import geodesic\n",
    "import multiprocessing as mp\n",
    "import numpy as np\n",
    "import time\n",
    "import sys\n",
    "from distance_calculation import calculate_distance_chunk\n",
    "\n",
    "start_time = time.time()\n",
    "\n",
    "\n",
    "# Add the current working directory to the system path\n",
    "sys.path.append(os.getcwd())\n",
    "\n",
    "# Multiprocessing function to split the dataframe and apply the distance calculation\n",
    "def parallel_distance_calculation(df, num_partitions=None):\n",
    "    if num_partitions is None:\n",
    "        num_partitions = mp.cpu_count()  # Use all available CPU cores\n",
    "    \n",
    "    # Split the dataframe into chunks\n",
    "    df_split = np.array_split(df, num_partitions)\n",
    "    \n",
    "    # Create a multiprocessing Pool\n",
    "    with mp.Pool(num_partitions) as pool:\n",
    "        # Apply the calculate_distance_chunk function to each chunk in parallel\n",
    "        result = pool.map(calculate_distance_chunk, df_split)\n",
    "    \n",
    "    # Concatenate the results back into a single dataframe\n",
    "    return pd.concat(result)\n",
    "\n",
    "# Main block to ensure multiprocessing works correctly\n",
    "if __name__ == \"__main__\":\n",
    "    start_time = time.time()\n",
    "\n",
    "    # Assuming df has the columns ['lat', 'long', 'merch_lat', 'merch_long']\n",
    "    \n",
    "    # Run with limited number of cores (e.g., 4 cores)\n",
    "    df = parallel_distance_calculation(df, num_partitions=4)  # Use 4 cores instead of all available cores\n",
    "\n",
    "    # Log the time taken for distance calculation with multiprocessing\n",
    "    log_time(\"Part2 - Distance Calculation with Multiprocessing (4 cores)\", start_time)\n",
    "\n",
    "    # Check the first few rows to verify the result\n",
    "    print(df[['lat', 'long', 'merch_lat', 'merch_long', 'distance']].head())\n"
   ]
  },
  {
   "cell_type": "code",
   "execution_count": 605,
   "id": "7c72a4a8",
   "metadata": {},
   "outputs": [
    {
     "name": "stdout",
     "output_type": "stream",
     "text": [
      "/Users/sadhvichandragiri/Desktop/coding/ZHAW_Project/ML_BigData_Repo_1/notebooks\n"
     ]
    }
   ],
   "source": [
    "import os\n",
    "print(os.getcwd())  # This will print the current working directory\n"
   ]
  },
  {
   "cell_type": "markdown",
   "id": "8f985dcd",
   "metadata": {},
   "source": [
    "log_time(\"Part2 -  Distance Calculation\", start_time)\n",
    "start_time = time.time()\n"
   ]
  },
  {
   "cell_type": "code",
   "execution_count": 606,
   "id": "50a155e1",
   "metadata": {},
   "outputs": [
    {
     "data": {
      "text/plain": [
       "array([0., 1.])"
      ]
     },
     "execution_count": 606,
     "metadata": {},
     "output_type": "execute_result"
    }
   ],
   "source": [
    "# Check unique values in the 'is_fraud' column\n",
    "df['is_fraud'].unique()\n"
   ]
  },
  {
   "cell_type": "code",
   "execution_count": 607,
   "id": "09d464f8",
   "metadata": {},
   "outputs": [],
   "source": [
    "# Fraud vs Non-Fraud by Merchant Category\n",
    "fraud_by_category = df[df['is_fraud'] == 1]['category'].value_counts().head(10)\n",
    "non_fraud_by_category = df[df['is_fraud'] == 0]['category'].value_counts().head(10)\n",
    "\n"
   ]
  },
  {
   "cell_type": "code",
   "execution_count": 608,
   "id": "07ec224f",
   "metadata": {},
   "outputs": [
    {
     "name": "stdout",
     "output_type": "stream",
     "text": [
      "Top Fraudulent Merchant Categories: ['grocery_pos', 'shopping_net', 'misc_net', 'shopping_pos', 'gas_transport']\n"
     ]
    }
   ],
   "source": [
    "# Top 5 categories with the highest fraud counts\n",
    "top_fraud_merchant_categories = df[df['is_fraud'] == 1]['category'].value_counts().head(5).index.tolist()\n",
    "\n",
    "# Print top fraudulent categories\n",
    "print(\"Top Fraudulent Merchant Categories:\", top_fraud_merchant_categories)\n",
    "\n",
    "# Create HighRiskMerchantCategory flag\n",
    "df['HighRiskMerchantCategory'] = df['category'].apply(lambda x: 1 if x in top_fraud_merchant_categories else 0)\n",
    "\n"
   ]
  },
  {
   "cell_type": "code",
   "execution_count": 609,
   "id": "7780b1bb",
   "metadata": {},
   "outputs": [
    {
     "name": "stdout",
     "output_type": "stream",
     "text": [
      "HighRiskMerchantCategory\n",
      "0    763876\n",
      "1    532799\n",
      "Name: count, dtype: int64\n"
     ]
    }
   ],
   "source": [
    "# Print the count of 1s and 0s in HighRiskMerchantCategory\n",
    "print(df['HighRiskMerchantCategory'].value_counts())\n"
   ]
  },
  {
   "cell_type": "code",
   "execution_count": 610,
   "id": "221b8eda",
   "metadata": {},
   "outputs": [],
   "source": [
    "import pandas as pd\n",
    "\n",
    "# Ensure 'DateOfBirth' is in datetime format\n",
    "df['DateOfBirth'] = pd.to_datetime(df['DateOfBirth'], errors='coerce')  # Handle errors during conversion\n",
    "\n",
    "# Step 1: Calculate Age\n",
    "# Calculate age in years\n",
    "df['Age'] = (pd.Timestamp.now() - df['DateOfBirth']).dt.days // 365  # Age in years\n",
    "\n",
    "# Step 2: Create Age Groups\n",
    "# Define age bins and labels\n",
    "bins = [0, 18, 25, 35, 45, 55, 65, 100]  # Define your age bins, ensuring to cover all possible ages\n",
    "labels = ['0-18', '19-25', '26-35', '36-45', '46-55', '56-65', '66+']  # Corresponding labels\n",
    "\n",
    "# Create age group feature, include NaN values handling\n",
    "df['AgeGroup'] = pd.cut(df['Age'], bins=bins, labels=labels, right=False, include_lowest=True)\n",
    "\n",
    "# Verify the new features without truncating DataFrame\n",
    "#print(df[['DateOfBirth', 'Age', 'AgeGroup']].head(10))  # Display the first 10 entries\n"
   ]
  },
  {
   "cell_type": "code",
   "execution_count": 611,
   "id": "296a6aa7",
   "metadata": {},
   "outputs": [
    {
     "name": "stdout",
     "output_type": "stream",
     "text": [
      "Part3 - Merchant Categories & Age group completed at Fri Nov  1 13:29:30 2024. Elapsed time: 1 minutes and 15.80 seconds\n",
      "\n"
     ]
    }
   ],
   "source": [
    "log_time(\"Part3 - Merchant Categories & Age group\", start_time)\n",
    "start_time = time.time()\n"
   ]
  },
  {
   "cell_type": "raw",
   "id": "19dc4c6f",
   "metadata": {},
   "source": [
    "RapidTransactionFlag"
   ]
  },
  {
   "cell_type": "raw",
   "id": "8e07efaf",
   "metadata": {},
   "source": [
    "def count_transactions_within_last_hour(group):\n",
    "    # Create an empty list to hold the frequencies\n",
    "    frequencies = []\n",
    "    \n",
    "    # Loop over each transaction time in the group\n",
    "    for time in group.index:\n",
    "        # Count the number of transactions within the last hour\n",
    "        count = group[(group.index >= (time - pd.Timedelta(hours=1))) & (group.index <= time)].shape[0]\n",
    "        frequencies.append(count)\n",
    "    \n",
    "    return frequencies\n",
    "\n",
    "# Apply the function to each group\n",
    "df['TransactionFrequency'] = df.groupby('CreditCardNumber').apply(count_transactions_within_last_hour).reset_index(drop=True)\n",
    "print(df[['TransactionFrequency']].head(10))  # Display the first 10 entries\n"
   ]
  },
  {
   "cell_type": "markdown",
   "id": "39bc72de",
   "metadata": {},
   "source": [
    "# MULTIPROCESSING : count_transactions_within_last_hour"
   ]
  },
  {
   "cell_type": "code",
   "execution_count": 612,
   "id": "620555a5",
   "metadata": {},
   "outputs": [
    {
     "name": "stderr",
     "output_type": "stream",
     "text": [
      "/Users/sadhvichandragiri/opt/anaconda3/envs/ZHAW_Project/lib/python3.10/site-packages/numpy/core/fromnumeric.py:59: FutureWarning: 'DataFrame.swapaxes' is deprecated and will be removed in a future version. Please use 'DataFrame.transpose' instead.\n",
      "  return bound(*args, **kwds)\n"
     ]
    },
    {
     "name": "stdout",
     "output_type": "stream",
     "text": [
      "Part4 - TransactionFrequency Multiprocessing completed at Fri Nov  1 13:31:58 2024. Elapsed time: 2 minutes and 27.54 seconds\n",
      "\n",
      "                    TransactionFrequency\n",
      "TransactionTime                         \n",
      "2019-01-01 00:00:18                  NaN\n",
      "2019-01-01 00:00:44                  NaN\n",
      "2019-01-01 00:00:51                  NaN\n",
      "2019-01-01 00:01:16                  NaN\n",
      "2019-01-01 00:03:06                  NaN\n",
      "2019-01-01 00:04:08                  NaN\n",
      "2019-01-01 00:04:42                  NaN\n",
      "2019-01-01 00:05:08                  NaN\n",
      "2019-01-01 00:05:18                  NaN\n",
      "2019-01-01 00:06:01                  NaN\n"
     ]
    }
   ],
   "source": [
    "import pandas as pd\n",
    "import multiprocessing as mp\n",
    "import numpy as np\n",
    "import time\n",
    "from transaction_frequency import process_chunk  # Import from the .py file\n",
    "\n",
    "# Multiprocessing function to parallelize the transaction counting\n",
    "def parallel_count_transactions(df, num_partitions=None):\n",
    "    if num_partitions is None:\n",
    "        num_partitions = mp.cpu_count()  # Use all available CPU cores\n",
    "    \n",
    "    # Ensure the index is a datetime\n",
    "    df.index = pd.to_datetime(df.index)\n",
    "    \n",
    "    # Split the dataframe into chunks based on the number of partitions (CPU cores)\n",
    "    df_split = np.array_split(df, num_partitions)\n",
    "    \n",
    "    # Create a multiprocessing Pool\n",
    "    with mp.Pool(num_partitions) as pool:\n",
    "        # Apply the processing function to each chunk in parallel\n",
    "        result = pool.map(process_chunk, df_split)\n",
    "    \n",
    "    # Combine the results from each chunk into a single series, reset index for consistency\n",
    "    return pd.concat(result).reset_index(drop=True)\n",
    "\n",
    "# Assuming df has 'CreditCardNumber' as a column and transaction times are indexed\n",
    "if __name__ == \"__main__\":\n",
    "    start_time = time.time()\n",
    "\n",
    "    # Apply the parallel processing for transaction frequency counting\n",
    "    df['TransactionFrequency'] = parallel_count_transactions(df, num_partitions=4)  # Adjust num_partitions as needed\n",
    "\n",
    "    # Log the time taken for transaction frequency calculation with multiprocessing\n",
    "    log_time(\"Part4 - TransactionFrequency Multiprocessing\", start_time)\n",
    "\n",
    "    # Check the first 10 rows\n",
    "    print(df[['TransactionFrequency']].head(10))\n"
   ]
  },
  {
   "cell_type": "code",
   "execution_count": 613,
   "id": "f3e571f3",
   "metadata": {},
   "outputs": [
    {
     "name": "stdout",
     "output_type": "stream",
     "text": [
      "DatetimeIndex(['2019-01-01 00:00:18', '2019-01-01 00:00:44',\n",
      "               '2019-01-01 00:00:51', '2019-01-01 00:01:16',\n",
      "               '2019-01-01 00:03:06', '2019-01-01 00:04:08',\n",
      "               '2019-01-01 00:04:42', '2019-01-01 00:05:08',\n",
      "               '2019-01-01 00:05:18', '2019-01-01 00:06:01',\n",
      "               ...\n",
      "               '2020-06-21 12:08:42', '2020-06-21 12:09:22',\n",
      "               '2020-06-21 12:10:56', '2020-06-21 12:11:23',\n",
      "               '2020-06-21 12:11:36', '2020-06-21 12:12:08',\n",
      "               '2020-06-21 12:12:19', '2020-06-21 12:12:32',\n",
      "               '2020-06-21 12:13:36', '2020-06-21 12:13:37'],\n",
      "              dtype='datetime64[ns]', name='TransactionTime', length=1296675, freq=None)\n"
     ]
    }
   ],
   "source": [
    "df.index = pd.to_datetime(df.index)\n",
    "print(df.index)"
   ]
  },
  {
   "cell_type": "code",
   "execution_count": null,
   "id": "96249ca1",
   "metadata": {},
   "outputs": [],
   "source": []
  },
  {
   "cell_type": "code",
   "execution_count": 614,
   "id": "dadb160e",
   "metadata": {},
   "outputs": [
    {
     "name": "stderr",
     "output_type": "stream",
     "text": [
      "/var/folders/xp/synrlbr15rx4pkqjmwqk80k80000gn/T/ipykernel_14803/1490275857.py:2: FutureWarning: 'H' is deprecated and will be removed in a future version, please use 'h' instead.\n",
      "  transaction_counts_hourly = df.resample('H').size()\n",
      "/var/folders/xp/synrlbr15rx4pkqjmwqk80k80000gn/T/ipykernel_14803/1490275857.py:6: FutureWarning: 'H' is deprecated and will be removed in a future version, please use 'h' instead.\n",
      "  transaction_counts = df.groupby('CreditCardNumber').resample('H').size().reset_index(name='TransactionCount')\n"
     ]
    },
    {
     "name": "stdout",
     "output_type": "stream",
     "text": [
      "   CreditCardNumber     TransactionTime  TransactionCount\n",
      "0      6.041621e+10 2019-01-01 12:00:00                 1\n",
      "1      6.041621e+10 2019-01-01 13:00:00                 0\n",
      "2      6.041621e+10 2019-01-01 14:00:00                 0\n",
      "3      6.041621e+10 2019-01-01 15:00:00                 0\n",
      "4      6.041621e+10 2019-01-01 16:00:00                 0\n",
      "5      6.041621e+10 2019-01-01 17:00:00                 0\n",
      "6      6.041621e+10 2019-01-01 18:00:00                 0\n",
      "7      6.041621e+10 2019-01-01 19:00:00                 0\n",
      "8      6.041621e+10 2019-01-01 20:00:00                 0\n",
      "9      6.041621e+10 2019-01-01 21:00:00                 0\n"
     ]
    }
   ],
   "source": [
    "# Resample the data to count transactions every hour\n",
    "transaction_counts_hourly = df.resample('H').size()\n",
    "transaction_counts_daily = df.resample('D').size()\n",
    "\n",
    "# Combine with CreditCardNumber if necessary\n",
    "transaction_counts = df.groupby('CreditCardNumber').resample('H').size().reset_index(name='TransactionCount')\n",
    "print(transaction_counts.head(10))"
   ]
  },
  {
   "cell_type": "code",
   "execution_count": 615,
   "id": "97c19713",
   "metadata": {},
   "outputs": [
    {
     "name": "stdout",
     "output_type": "stream",
     "text": [
      "   CreditCardNumber  TotalTransactionCount\n",
      "0      6.041621e+10                   1518\n",
      "1      6.042293e+10                   1531\n",
      "2      6.042310e+10                    510\n",
      "3      6.042785e+10                    528\n",
      "4      6.048700e+10                    496\n",
      "5      6.049060e+10                   1010\n",
      "6      6.049559e+10                    518\n",
      "7      5.018030e+11                   1559\n",
      "8      5.018181e+11                      8\n",
      "9      5.018282e+11                    515\n"
     ]
    }
   ],
   "source": [
    "total_transactions = df.groupby('CreditCardNumber').size().reset_index(name='TotalTransactionCount')\n",
    "print(total_transactions.head(10))\n"
   ]
  },
  {
   "cell_type": "code",
   "execution_count": 616,
   "id": "aef71d2a",
   "metadata": {},
   "outputs": [
    {
     "name": "stdout",
     "output_type": "stream",
     "text": [
      "2019-01-01    1960\n",
      "2019-01-02     606\n",
      "2019-01-03     701\n",
      "2019-01-04     952\n",
      "2019-01-05     879\n",
      "              ... \n",
      "2020-06-17    1327\n",
      "2020-06-18    1547\n",
      "2020-06-19    1966\n",
      "2020-06-20    1910\n",
      "2020-06-21    1142\n",
      "Length: 537, dtype: int64\n",
      "         Unnamed: 0  CreditCardNumber  TransactionAmount           zip  \\\n",
      "count  1.061083e+06      1.061083e+06       1.061083e+06  1.061083e+06   \n",
      "mean   6.541777e+05      4.168739e+17       6.463842e+01  4.881377e+04   \n",
      "min    1.000000e+00      6.041621e+10       1.000000e+00  1.257000e+03   \n",
      "25%    3.399115e+05      1.800429e+14       9.500000e+00  2.623700e+04   \n",
      "50%    6.543810e+05      3.521417e+15       4.635000e+01  4.817400e+04   \n",
      "75%    9.639775e+05      4.642255e+15       8.223000e+01  7.204200e+04   \n",
      "max    1.296674e+06      4.992346e+18       5.459926e+02  9.978300e+04   \n",
      "std    3.688933e+05      1.308438e+18       8.254229e+01  2.689496e+04   \n",
      "\n",
      "                lat          long      city_pop  \\\n",
      "count  1.061083e+06  1.061083e+06  1.061083e+06   \n",
      "mean   3.853009e+01 -9.022821e+01  8.979136e+04   \n",
      "min    2.002710e+01 -1.656723e+02  2.300000e+01   \n",
      "25%    3.459060e+01 -9.679800e+01  7.430000e+02   \n",
      "50%    3.935430e+01 -8.747690e+01  2.470000e+03   \n",
      "75%    4.194040e+01 -8.015800e+01  2.047800e+04   \n",
      "max    6.669330e+01 -6.795030e+01  2.906700e+06   \n",
      "std    5.078796e+00  1.374857e+01  3.041541e+05   \n",
      "\n",
      "                         DateOfBirth     unix_time     merch_lat  \\\n",
      "count                        1061083  1.061083e+06  1.061083e+06   \n",
      "mean   1974-01-07 01:53:43.193284640  1.349452e+09  3.853026e+01   \n",
      "min              1924-10-30 00:00:00  1.325376e+09  1.902779e+01   \n",
      "25%              1962-12-06 00:00:00  1.339269e+09  3.471879e+01   \n",
      "50%              1975-12-28 00:00:00  1.349484e+09  3.935917e+01   \n",
      "75%              1987-05-05 00:00:00  1.359010e+09  4.195454e+01   \n",
      "max              2005-01-29 00:00:00  1.371817e+09  6.751027e+01   \n",
      "std                              NaN  1.264150e+07  5.112969e+00   \n",
      "\n",
      "         merch_long      is_fraud  TransactionID          Hour  HighRiskHour  \\\n",
      "count  1.061083e+06  1.061083e+06   1.061083e+06  1.061083e+06  1.061083e+06   \n",
      "mean  -9.022814e+01  5.652715e-03   6.541787e+05  1.323944e+01  2.301988e-01   \n",
      "min   -1.666701e+02  0.000000e+00   2.000000e+00  0.000000e+00  0.000000e+00   \n",
      "25%   -9.689874e+01  0.000000e+00   3.399125e+05  8.000000e+00  0.000000e+00   \n",
      "50%   -8.744732e+01  0.000000e+00   6.543820e+05  1.400000e+01  0.000000e+00   \n",
      "75%   -8.024346e+01  0.000000e+00   9.639785e+05  1.900000e+01  0.000000e+00   \n",
      "max   -6.695090e+01  1.000000e+00   1.296675e+06  2.300000e+01  1.000000e+00   \n",
      "std    1.376070e+01  7.497178e-02   3.688933e+05  6.727723e+00  4.209602e-01   \n",
      "\n",
      "          DayOfWeek     IsWeekend      distance  HighRiskMerchantCategory  \\\n",
      "count  1.061083e+06  1.061083e+06  1.061083e+06              1.061083e+06   \n",
      "mean   3.092014e+00  3.698118e-01  7.611910e+01              3.897716e-01   \n",
      "min    0.000000e+00  0.000000e+00  2.227351e-02              0.000000e+00   \n",
      "25%    1.000000e+00  0.000000e+00  5.535721e+01              0.000000e+00   \n",
      "50%    3.000000e+00  0.000000e+00  7.827691e+01              0.000000e+00   \n",
      "75%    5.000000e+00  1.000000e+00  9.849232e+01              1.000000e+00   \n",
      "max    6.000000e+00  1.000000e+00  1.518682e+02              1.000000e+00   \n",
      "std    2.263057e+00  4.827538e-01  2.909755e+01              4.876986e-01   \n",
      "\n",
      "                Age  \n",
      "count  1.061083e+06  \n",
      "mean   5.036095e+01  \n",
      "min    1.900000e+01  \n",
      "25%    3.700000e+01  \n",
      "50%    4.800000e+01  \n",
      "75%    6.100000e+01  \n",
      "max    1.000000e+02  \n",
      "std    1.738471e+01  \n"
     ]
    }
   ],
   "source": [
    "# Calculate the time difference between consecutive transactions\n",
    "time_diff = df.index.to_series().diff().dt.total_seconds()\n",
    "# Flag rapid transactions (within 5 minutes)\n",
    "df['RapidTransactionFlag'] = time_diff < 60  # For a 1-minute threshold\n",
    "\n",
    "# Create a temporary DataFrame for rapid transactions\n",
    "rapid_transactions = df[df['RapidTransactionFlag']]\n",
    "\n",
    "# Group by date and count the number of rapid transactions\n",
    "rapid_transaction_counts = rapid_transactions.groupby(rapid_transactions.index.date).size()\n",
    "print(rapid_transaction_counts)\n",
    "\n",
    "# Get a summary of the rapid transactions\n",
    "rapid_transactions_summary = rapid_transactions.describe()\n",
    "print(rapid_transactions_summary)\n"
   ]
  },
  {
   "cell_type": "code",
   "execution_count": 617,
   "id": "64e05375",
   "metadata": {},
   "outputs": [
    {
     "name": "stdout",
     "output_type": "stream",
     "text": [
      "Index(['Unnamed: 0', 'CreditCardNumber', 'merchant', 'category',\n",
      "       'TransactionAmount', 'first', 'last', 'gender', 'street', 'city',\n",
      "       'state', 'zip', 'lat', 'long', 'city_pop', 'job', 'DateOfBirth',\n",
      "       'trans_num', 'unix_time', 'merch_lat', 'merch_long', 'is_fraud',\n",
      "       'TransactionID', 'Hour', 'HighRiskHour', 'DayOfWeek', 'DayName',\n",
      "       'IsWeekend', 'distance', 'HighRiskMerchantCategory', 'Age', 'AgeGroup',\n",
      "       'TransactionFrequency', 'RapidTransactionFlag'],\n",
      "      dtype='object')\n"
     ]
    }
   ],
   "source": [
    "print(df.columns)\n"
   ]
  },
  {
   "cell_type": "code",
   "execution_count": 618,
   "id": "bca5e448",
   "metadata": {},
   "outputs": [
    {
     "name": "stdout",
     "output_type": "stream",
     "text": [
      "Part5 - RapidTransactionFlag completed at Fri Nov  1 13:32:08 2024. Elapsed time: 2 minutes and 38.29 seconds\n",
      "\n"
     ]
    }
   ],
   "source": [
    "log_time(\"Part5 - RapidTransactionFlag\", start_time)\n",
    "start_time = time.time()\n"
   ]
  },
  {
   "cell_type": "markdown",
   "id": "eb3b200c",
   "metadata": {},
   "source": [
    "Transaction Amount Features:\n",
    "Log Transaction Amount: Normalize the TransactionAmount by taking its logarithm to reduce skewness.\n",
    "Transaction Amount Flags: Create binary flags for high-value transactions (e.g., if TransactionAmount exceeds a certain threshold)."
   ]
  },
  {
   "cell_type": "code",
   "execution_count": 619,
   "id": "da75a878",
   "metadata": {},
   "outputs": [
    {
     "name": "stdout",
     "output_type": "stream",
     "text": [
      "                     TransactionAmount  LogTransactionAmount  \\\n",
      "TransactionTime                                                \n",
      "2019-01-01 00:00:18               4.97              1.786747   \n",
      "2019-01-01 00:00:44             107.23              4.684259   \n",
      "2019-01-01 00:00:51             220.11              5.398660   \n",
      "2019-01-01 00:01:16              45.00              3.828641   \n",
      "2019-01-01 00:03:06              41.96              3.760269   \n",
      "2019-01-01 00:04:08              94.63              4.560487   \n",
      "2019-01-01 00:04:42              44.54              3.818591   \n",
      "2019-01-01 00:05:08              71.65              4.285653   \n",
      "2019-01-01 00:05:18               4.27              1.662030   \n",
      "2019-01-01 00:06:01             198.39              5.295263   \n",
      "\n",
      "                     HighValueTransactionFlag  \n",
      "TransactionTime                                \n",
      "2019-01-01 00:00:18                     False  \n",
      "2019-01-01 00:00:44                      True  \n",
      "2019-01-01 00:00:51                      True  \n",
      "2019-01-01 00:01:16                     False  \n",
      "2019-01-01 00:03:06                     False  \n",
      "2019-01-01 00:04:08                     False  \n",
      "2019-01-01 00:04:42                     False  \n",
      "2019-01-01 00:05:08                     False  \n",
      "2019-01-01 00:05:18                     False  \n",
      "2019-01-01 00:06:01                      True  \n"
     ]
    }
   ],
   "source": [
    "\n",
    "# Sample DataFrame creation\n",
    "# Assume 'df' is your DataFrame and has a 'TransactionAmount' column\n",
    "# df = pd.read_csv('your_data.csv')  # Load your actual data\n",
    "\n",
    "# Step 1: Log Transaction Amount\n",
    "# Calculate the log of TransactionAmount\n",
    "df['LogTransactionAmount'] = np.log1p(df['TransactionAmount'])  # Use log1p for stability with 0 values\n",
    "\n",
    "# Step 2: Create Transaction Amount Flags\n",
    "# Define a threshold for high-value transactions\n",
    "threshold = 100  # Adjust the threshold based on your data context\n",
    "\n",
    "# Create a flag for high-value transactions\n",
    "df['HighValueTransactionFlag'] = df['TransactionAmount'] > threshold\n",
    "\n",
    "# Verify the new features\n",
    "print(df[['TransactionAmount', 'LogTransactionAmount', 'HighValueTransactionFlag']].head(10))  # Display the first 10 entries\n"
   ]
  },
  {
   "cell_type": "markdown",
   "id": "e217bc43",
   "metadata": {},
   "source": [
    "Behavioral Features:\n",
    "Count of Transactions in Last X Days: Count how many transactions have occurred in the last 7, 14, or 30 days.\n",
    "Average Transaction Amount in Last X Days: Calculate the average transaction amount over the same periods."
   ]
  },
  {
   "cell_type": "code",
   "execution_count": 620,
   "id": "25aeefda",
   "metadata": {},
   "outputs": [
    {
     "name": "stdout",
     "output_type": "stream",
     "text": [
      "                     TransactionCountLast7Days  TransactionCountLast14Days  \\\n",
      "TransactionTime                                                              \n",
      "2019-01-01 12:47:15                        1.0                         1.0   \n",
      "2019-01-02 08:44:57                        2.0                         2.0   \n",
      "2019-01-02 08:47:36                        3.0                         3.0   \n",
      "2019-01-02 12:38:14                        4.0                         4.0   \n",
      "2019-01-02 13:10:46                        5.0                         5.0   \n",
      "2019-01-03 13:56:35                        6.0                         6.0   \n",
      "2019-01-03 17:05:10                        7.0                         7.0   \n",
      "2019-01-04 13:59:55                        8.0                         8.0   \n",
      "2019-01-04 21:17:22                        9.0                         9.0   \n",
      "2019-01-05 00:42:24                       10.0                        10.0   \n",
      "\n",
      "                     TransactionCountLast30Days  \\\n",
      "TransactionTime                                   \n",
      "2019-01-01 12:47:15                         1.0   \n",
      "2019-01-02 08:44:57                         2.0   \n",
      "2019-01-02 08:47:36                         3.0   \n",
      "2019-01-02 12:38:14                         4.0   \n",
      "2019-01-02 13:10:46                         5.0   \n",
      "2019-01-03 13:56:35                         6.0   \n",
      "2019-01-03 17:05:10                         7.0   \n",
      "2019-01-04 13:59:55                         8.0   \n",
      "2019-01-04 21:17:22                         9.0   \n",
      "2019-01-05 00:42:24                        10.0   \n",
      "\n",
      "                     AverageTransactionAmountLast7Days  \\\n",
      "TransactionTime                                          \n",
      "2019-01-01 12:47:15                           7.270000   \n",
      "2019-01-02 08:44:57                          30.105000   \n",
      "2019-01-02 08:47:36                          47.430000   \n",
      "2019-01-02 12:38:14                          44.270000   \n",
      "2019-01-02 13:10:46                          40.852000   \n",
      "2019-01-03 13:56:35                          35.188333   \n",
      "2019-01-03 17:05:10                          31.365714   \n",
      "2019-01-04 13:59:55                          42.083750   \n",
      "2019-01-04 21:17:22                          40.378889   \n",
      "2019-01-05 00:42:24                          46.861000   \n",
      "\n",
      "                     AverageTransactionAmountLast14Days  \\\n",
      "TransactionTime                                           \n",
      "2019-01-01 12:47:15                            7.270000   \n",
      "2019-01-02 08:44:57                           30.105000   \n",
      "2019-01-02 08:47:36                           47.430000   \n",
      "2019-01-02 12:38:14                           44.270000   \n",
      "2019-01-02 13:10:46                           40.852000   \n",
      "2019-01-03 13:56:35                           35.188333   \n",
      "2019-01-03 17:05:10                           31.365714   \n",
      "2019-01-04 13:59:55                           42.083750   \n",
      "2019-01-04 21:17:22                           40.378889   \n",
      "2019-01-05 00:42:24                           46.861000   \n",
      "\n",
      "                     AverageTransactionAmountLast30Days  \n",
      "TransactionTime                                          \n",
      "2019-01-01 12:47:15                            7.270000  \n",
      "2019-01-02 08:44:57                           30.105000  \n",
      "2019-01-02 08:47:36                           47.430000  \n",
      "2019-01-02 12:38:14                           44.270000  \n",
      "2019-01-02 13:10:46                           40.852000  \n",
      "2019-01-03 13:56:35                           35.188333  \n",
      "2019-01-03 17:05:10                           31.365714  \n",
      "2019-01-04 13:59:55                           42.083750  \n",
      "2019-01-04 21:17:22                           40.378889  \n",
      "2019-01-05 00:42:24                           46.861000  \n"
     ]
    }
   ],
   "source": [
    "import pandas as pd\n",
    "\n",
    "# Assuming 'TransactionTime' is already set as the index and in datetime format\n",
    "\n",
    "# Step 1: Count of Transactions in Last X Days\n",
    "for days in [7, 14, 30]:\n",
    "    # Sort data by CreditCardNumber and TransactionTime to ensure rolling works properly\n",
    "    df = df.sort_values(by=['CreditCardNumber', 'TransactionTime'])\n",
    "    \n",
    "    # Apply rolling and count the number of transactions for each card\n",
    "    df[f'TransactionCountLast{days}Days'] = (\n",
    "        df.groupby('CreditCardNumber')['CreditCardNumber']\n",
    "        .rolling(f'{days}D')\n",
    "        .count()\n",
    "        .reset_index(level=0, drop=True)\n",
    "    )\n",
    "\n",
    "# Step 2: Average Transaction Amount in Last X Days\n",
    "for days in [7, 14, 30]:\n",
    "    # Sort data by CreditCardNumber and TransactionTime to ensure rolling works properly\n",
    "    df = df.sort_values(by=['CreditCardNumber', 'TransactionTime'])\n",
    "    \n",
    "    # Calculate the average transaction amount for each credit card in the last X days\n",
    "    df[f'AverageTransactionAmountLast{days}Days'] = (\n",
    "        df.groupby('CreditCardNumber')['TransactionAmount']\n",
    "        .rolling(f'{days}D')\n",
    "        .mean()\n",
    "        .reset_index(level=0, drop=True)\n",
    "    )\n",
    "\n",
    "# Verify the new features\n",
    "print(df[['TransactionCountLast7Days', 'TransactionCountLast14Days', 'TransactionCountLast30Days',\n",
    "           'AverageTransactionAmountLast7Days', 'AverageTransactionAmountLast14Days', 'AverageTransactionAmountLast30Days']].head(10))\n"
   ]
  },
  {
   "cell_type": "code",
   "execution_count": 621,
   "id": "ebcd77cc",
   "metadata": {},
   "outputs": [
    {
     "name": "stdout",
     "output_type": "stream",
     "text": [
      "Index(['Unnamed: 0', 'CreditCardNumber', 'merchant', 'category',\n",
      "       'TransactionAmount', 'first', 'last', 'gender', 'street', 'city',\n",
      "       'state', 'zip', 'lat', 'long', 'city_pop', 'job', 'DateOfBirth',\n",
      "       'trans_num', 'unix_time', 'merch_lat', 'merch_long', 'is_fraud',\n",
      "       'TransactionID', 'Hour', 'HighRiskHour', 'DayOfWeek', 'DayName',\n",
      "       'IsWeekend', 'distance', 'HighRiskMerchantCategory', 'Age', 'AgeGroup',\n",
      "       'TransactionFrequency', 'RapidTransactionFlag', 'LogTransactionAmount',\n",
      "       'HighValueTransactionFlag', 'TransactionCountLast7Days',\n",
      "       'TransactionCountLast14Days', 'TransactionCountLast30Days',\n",
      "       'AverageTransactionAmountLast7Days',\n",
      "       'AverageTransactionAmountLast14Days',\n",
      "       'AverageTransactionAmountLast30Days'],\n",
      "      dtype='object')\n"
     ]
    }
   ],
   "source": [
    "print(df.columns)  # Display all columns in the DataFrame\n"
   ]
  },
  {
   "cell_type": "code",
   "execution_count": 622,
   "id": "bc639c6e",
   "metadata": {},
   "outputs": [
    {
     "name": "stdout",
     "output_type": "stream",
     "text": [
      "Part6 - TransactionCountLast_X_Days & AverageTrxAmountLast_X_Days completed at Fri Nov  1 13:32:20 2024. Elapsed time: 0 minutes and 12.09 seconds\n",
      "\n"
     ]
    }
   ],
   "source": [
    "log_time(\"Part6 - TransactionCountLast_X_Days & AverageTrxAmountLast_X_Days\", start_time)\n",
    "start_time = time.time()\n"
   ]
  },
  {
   "cell_type": "code",
   "execution_count": null,
   "id": "2b0a24a1",
   "metadata": {},
   "outputs": [],
   "source": []
  },
  {
   "cell_type": "markdown",
   "id": "3b4aaef3",
   "metadata": {},
   "source": [
    "# Graph Construction with NetworkX:"
   ]
  },
  {
   "cell_type": "markdown",
   "id": "18793de2",
   "metadata": {},
   "source": [
    "Highlight Fraudulent Nodes: Overlay of fraudulent and non-fraudulent credit cards on this degree distribution to see if there’s a difference in their degrees."
   ]
  },
  {
   "cell_type": "code",
   "execution_count": 623,
   "id": "e26bd1d5",
   "metadata": {},
   "outputs": [
    {
     "name": "stdout",
     "output_type": "stream",
     "text": [
      "Number of unique credit card nodes: 983\n",
      "Number of unique merchant nodes: 693\n",
      "Number of credit card nodes with degrees: 983\n",
      "Number of merchant nodes with degrees: 693\n"
     ]
    }
   ],
   "source": [
    "\n",
    "\n",
    "# Create an empty graph\n",
    "G = nx.Graph()\n",
    "\n",
    "# Add edges between credit cards and merchants, including transaction amount as an edge attribute\n",
    "for idx, row in df.iterrows():\n",
    "    credit_card = str(row['CreditCardNumber'])\n",
    "    merchant = str(row['merchant'])\n",
    "    transaction_amount = row['TransactionAmount']  # Ensure TransactionAmount exists in your dataframe\n",
    "    \n",
    "    # Add an edge with the transaction amount as an attribute\n",
    "    G.add_edge(credit_card, merchant, transaction_amount=transaction_amount)\n",
    "\n",
    "\n",
    "# Calculate degrees for all nodes in the graph\n",
    "degrees = dict(G.degree())\n",
    "\n",
    "# Filter degrees for credit cards and merchants\n",
    "credit_card_nodes = df['CreditCardNumber'].astype(str).unique()\n",
    "merchant_nodes = df['merchant'].astype(str).unique()\n",
    "\n",
    "credit_card_degrees = {node: degrees[node] for node in credit_card_nodes if node in degrees}\n",
    "merchant_degrees = {node: degrees[node] for node in merchant_nodes if node in degrees}\n",
    "\n",
    "# Debugging: Print counts to ensure correctness\n",
    "print(f\"Number of unique credit card nodes: {len(credit_card_nodes)}\")\n",
    "print(f\"Number of unique merchant nodes: {len(merchant_nodes)}\")\n",
    "print(f\"Number of credit card nodes with degrees: {len(credit_card_degrees)}\")\n",
    "print(f\"Number of merchant nodes with degrees: {len(merchant_degrees)}\")\n",
    "\n",
    "# Create a new DataFrame for easier plotting\n",
    "degree_df = pd.DataFrame({\n",
    "    'CreditCardDegree': pd.Series(credit_card_degrees),\n",
    "    'MerchantDegree': pd.Series(merchant_degrees)\n",
    "})\n",
    "\n",
    "\n"
   ]
  },
  {
   "cell_type": "code",
   "execution_count": 624,
   "id": "a55584fd",
   "metadata": {},
   "outputs": [],
   "source": [
    "# Add degree information back to the original DataFrame\n",
    "df['degree'] = df['CreditCardNumber'].astype(str).map(credit_card_degrees)\n",
    "\n"
   ]
  },
  {
   "cell_type": "code",
   "execution_count": 625,
   "id": "6a8f6116",
   "metadata": {},
   "outputs": [],
   "source": [
    "# Check edges and their attributes\n",
    "#for edge in G.edges(data=True):\n",
    "#    print(edge)\n",
    "\n",
    "#do NOT print this, huge list\n"
   ]
  },
  {
   "cell_type": "code",
   "execution_count": 626,
   "id": "a9c525e6",
   "metadata": {},
   "outputs": [],
   "source": [
    "df['CreditCardNumber'] = df['CreditCardNumber'].astype(str)\n"
   ]
  },
  {
   "cell_type": "code",
   "execution_count": 627,
   "id": "5115524e",
   "metadata": {},
   "outputs": [],
   "source": [
    "fraud_mapping = df.set_index('CreditCardNumber')['is_fraud'].to_dict()\n"
   ]
  },
  {
   "cell_type": "code",
   "execution_count": 628,
   "id": "f9e261bf",
   "metadata": {},
   "outputs": [
    {
     "name": "stdout",
     "output_type": "stream",
     "text": [
      "Part7 - NetworkX Start Step completed at Fri Nov  1 13:33:59 2024. Elapsed time: 1 minutes and 38.75 seconds\n",
      "\n"
     ]
    }
   ],
   "source": [
    "log_time(\"Part7 - NetworkX Start Step\", start_time)\n",
    "start_time = time.time()\n"
   ]
  },
  {
   "cell_type": "raw",
   "id": "167571cb",
   "metadata": {},
   "source": [
    "betweenness_centrality"
   ]
  },
  {
   "cell_type": "raw",
   "id": "0093ce9f",
   "metadata": {},
   "source": [
    "# Calculate betweenness centrality\n",
    "betweenness_centrality = nx.betweenness_centrality(G)\n",
    "\n"
   ]
  },
  {
   "cell_type": "markdown",
   "id": "57ac75df",
   "metadata": {},
   "source": [
    "# MULTIPROCESSING : betweenness_centrality"
   ]
  },
  {
   "cell_type": "code",
   "execution_count": 629,
   "id": "50d69fea",
   "metadata": {},
   "outputs": [
    {
     "name": "stdout",
     "output_type": "stream",
     "text": [
      "Part8 - Betweenness Centrality Calculation with Multiprocessing completed at Fri Nov  1 13:37:16 2024. Elapsed time: 3 minutes and 16.40 seconds\n",
      "\n",
      "[('60416207185.0', 3.903743365141523e-05), ('fraud_Jones, Sawayn and Romaguera', 0.00016718121427278148), ('fraud_Berge LLC', 0.0003731639453736409), ('fraud_Luettgen PLC', 0.0002880918347168189), ('fraud_Daugherty LLC', 0.00026296051041424566), ('fraud_Beier and Sons', 0.00025675424900787366), ('fraud_Stamm-Witting', 0.00021600459190031658), ('fraud_Conroy-Emard', 0.00021409812196013464), ('fraud_Pollich LLC', 0.00029566515903354184), ('fraud_Monahan-Morar', 0.0002101294467358623)]\n"
     ]
    }
   ],
   "source": [
    "import networkx as nx\n",
    "import time\n",
    "from networkx_graph_betweeness_centrality import parallel_betweenness_centrality\n",
    "\n",
    "# Assuming G is your graph\n",
    "if __name__ == \"__main__\":\n",
    "    start_time = time.time()\n",
    "\n",
    "    # Calculate betweenness centrality using parallel processing\n",
    "    betweenness_centrality = parallel_betweenness_centrality(G, num_partitions=4)  # Adjust number of cores if needed\n",
    "\n",
    "    # Log the time taken for betweenness centrality calculation with multiprocessing\n",
    "    log_time(\"Part8 - Betweenness Centrality Calculation with Multiprocessing\", start_time)\n",
    "\n",
    "    # Check a few centrality values\n",
    "    print(list(betweenness_centrality.items())[:10])\n"
   ]
  },
  {
   "cell_type": "raw",
   "id": "4e7b4462",
   "metadata": {},
   "source": [
    "import os\n",
    "print(os.listdir())\n"
   ]
  },
  {
   "cell_type": "code",
   "execution_count": 630,
   "id": "85bd6fad",
   "metadata": {},
   "outputs": [],
   "source": [
    "df['betweenness_centrality'] = df['CreditCardNumber'].map(betweenness_centrality)\n"
   ]
  },
  {
   "cell_type": "code",
   "execution_count": 631,
   "id": "fb8bf772",
   "metadata": {},
   "outputs": [
    {
     "name": "stdout",
     "output_type": "stream",
     "text": [
      "count    1.296675e+06\n",
      "mean     4.163569e-05\n",
      "std      1.178525e-05\n",
      "min      2.728628e-09\n",
      "25%      3.630433e-05\n",
      "50%      4.399435e-05\n",
      "75%      5.147284e-05\n",
      "max      5.736748e-05\n",
      "Name: betweenness_centrality, dtype: float64\n",
      "0\n"
     ]
    }
   ],
   "source": [
    "print(df['betweenness_centrality'].describe())\n",
    "print(df['betweenness_centrality'].isna().sum())  # Check for missing values\n"
   ]
  },
  {
   "cell_type": "code",
   "execution_count": 632,
   "id": "e5e4b947",
   "metadata": {},
   "outputs": [
    {
     "name": "stdout",
     "output_type": "stream",
     "text": [
      "60416207185: None\n",
      "fraud_Kutch-Ferry: 0.00026288184139774875\n"
     ]
    }
   ],
   "source": [
    "# Check betweenness centrality for specific credit card numbers\n",
    "sample_nodes = ['60416207185', 'fraud_Kutch-Ferry']  # Replace with actual nodes\n",
    "for node in sample_nodes:\n",
    "    print(f\"{node}: {betweenness_centrality.get(node)}\")\n"
   ]
  },
  {
   "cell_type": "raw",
   "id": "a33a0b35",
   "metadata": {},
   "source": [
    "log_time(\"Part8 - Feature Engineering -- NetworkX betweenness_centrality\", start_time)\n",
    "start_time = time.time()\n"
   ]
  },
  {
   "cell_type": "markdown",
   "id": "b13fdd8e",
   "metadata": {},
   "source": [
    "2. Visualize Communities in the Network:\n",
    "\n",
    "You could apply community detection to uncover fraud rings or clusters of merchants targeted by fraudsters. The Louvain algorithm is great for this."
   ]
  },
  {
   "cell_type": "code",
   "execution_count": 633,
   "id": "b5f148a5",
   "metadata": {},
   "outputs": [],
   "source": [
    "import community.community_louvain as community_louvain\n",
    "\n",
    "\n",
    "# Apply Louvain method for community detection\n",
    "partition = community_louvain.best_partition(G)\n",
    "\n"
   ]
  },
  {
   "cell_type": "code",
   "execution_count": 634,
   "id": "8fd26394",
   "metadata": {},
   "outputs": [],
   "source": [
    "\n",
    "# Apply Louvain method for community detection\n",
    "partition = community_louvain.best_partition(G)\n",
    "\n",
    "# Create positions for nodes using a spring layout\n",
    "pos = nx.spring_layout(G)\n",
    "\n",
    "# Add the community information to the DataFrame\n",
    "df['community'] = df['CreditCardNumber'].map(partition)\n",
    "\n",
    "# Highlight fraud nodes separately\n",
    "fraud_nodes = df[df['is_fraud'] == 1]['CreditCardNumber'].values\n",
    "\n",
    "\n"
   ]
  },
  {
   "cell_type": "code",
   "execution_count": 635,
   "id": "95613930",
   "metadata": {},
   "outputs": [],
   "source": [
    "# Add the community information to the DataFrame\n",
    "df['community'] = df['CreditCardNumber'].map(partition)\n",
    "\n",
    "# Calculate the percentage of fraud in each community\n",
    "community_fraud = df.groupby('community')['is_fraud'].mean()\n",
    "\n"
   ]
  },
  {
   "cell_type": "code",
   "execution_count": 636,
   "id": "d9407a0e",
   "metadata": {},
   "outputs": [
    {
     "name": "stdout",
     "output_type": "stream",
     "text": [
      "community\n",
      "0    0.004183\n",
      "1    0.004469\n",
      "2    0.008229\n",
      "3    0.011753\n",
      "Name: is_fraud, dtype: float64\n"
     ]
    }
   ],
   "source": [
    "\n",
    "# Print fraud rate per community\n",
    "print(community_fraud)\n"
   ]
  },
  {
   "cell_type": "code",
   "execution_count": 637,
   "id": "17572504",
   "metadata": {},
   "outputs": [
    {
     "name": "stdout",
     "output_type": "stream",
     "text": [
      "community\n",
      "0    681595\n",
      "1    143427\n",
      "2    433959\n",
      "3     37694\n",
      "dtype: int64\n"
     ]
    }
   ],
   "source": [
    "community_size = df.groupby('community').size()\n",
    "print(community_size)\n"
   ]
  },
  {
   "cell_type": "code",
   "execution_count": 638,
   "id": "43cca311",
   "metadata": {},
   "outputs": [],
   "source": [
    "# Combine fraud rates and community sizes into a single DataFrame\n",
    "fraud_vs_size = pd.concat([community_fraud, df.groupby('community').size()], axis=1)\n",
    "fraud_vs_size.columns = ['FraudRate', 'CommunitySize']\n",
    "\n"
   ]
  },
  {
   "cell_type": "code",
   "execution_count": 639,
   "id": "accbc68f",
   "metadata": {},
   "outputs": [
    {
     "name": "stdout",
     "output_type": "stream",
     "text": [
      "community\n",
      "3    0.011753\n",
      "2    0.008229\n",
      "1    0.004469\n",
      "0    0.004183\n",
      "Name: is_fraud, dtype: float64\n"
     ]
    }
   ],
   "source": [
    "top_fraud_communities = community_fraud.sort_values(ascending=False).head(5)\n",
    "print(top_fraud_communities)\n"
   ]
  },
  {
   "cell_type": "code",
   "execution_count": 640,
   "id": "4a875aea",
   "metadata": {},
   "outputs": [],
   "source": [
    "# Get the community labels of the top fraud communities\n",
    "top_community_labels = top_fraud_communities.index.tolist()\n",
    "\n",
    "# Filter the DataFrame for only the top fraud communities\n",
    "top_communities_df = df[df['community'].isin(top_community_labels)]\n"
   ]
  },
  {
   "cell_type": "code",
   "execution_count": 641,
   "id": "88b0bb95",
   "metadata": {},
   "outputs": [
    {
     "name": "stdout",
     "output_type": "stream",
     "text": [
      "merchant\n",
      "fraud_Kozey-Boehm                       0.025723\n",
      "fraud_Herman, Treutel and Dickens       0.025385\n",
      "fraud_Kerluke-Abshire                   0.022307\n",
      "fraud_Brown PLC                         0.022109\n",
      "fraud_Goyette Inc                       0.021616\n",
      "fraud_Terry-Huel                        0.021543\n",
      "fraud_Jast Ltd                          0.021505\n",
      "fraud_Schmeler, Bashirian and Price     0.020833\n",
      "fraud_Boyer-Reichert                    0.019916\n",
      "fraud_Langworth, Boehm and Gulgowski    0.019807\n",
      "Name: is_fraud, dtype: float64\n"
     ]
    }
   ],
   "source": [
    "# Show Only the Top Merchants by Fraud Rate:\n",
    "# Instead of displaying all merchants, you can filter the plot to show only the top 10 or 20 merchants with the highest fraud rates.\n",
    "\n",
    "# Calculate fraud rate by merchant in the top fraud communities\n",
    "merchant_fraud_rate = top_communities_df.groupby('merchant')['is_fraud'].mean()\n",
    "\n",
    "# Sort merchants by fraud rate in descending order\n",
    "top_merchants = merchant_fraud_rate.sort_values(ascending=False).head(10)\n",
    "\n",
    "# Print top 10 merchants with highest fraud rate\n",
    "print(top_merchants)\n"
   ]
  },
  {
   "cell_type": "code",
   "execution_count": 642,
   "id": "bbd1dc14",
   "metadata": {},
   "outputs": [],
   "source": [
    "\n",
    "# Assuming 'category' is a column representing merchant categories\n",
    "merchantcategory_fraud = top_communities_df.groupby('category')['is_fraud'].mean()\n",
    "\n",
    "# Sort the fraud rate by merchant category in descending order\n",
    "merchantcategory_fraud_sorted = merchantcategory_fraud.sort_values(ascending=False)\n"
   ]
  },
  {
   "cell_type": "code",
   "execution_count": 643,
   "id": "2e7c000f",
   "metadata": {},
   "outputs": [
    {
     "name": "stdout",
     "output_type": "stream",
     "text": [
      "Part9 - Community & Top Merchants completed at Fri Nov  1 13:38:20 2024. Elapsed time: 4 minutes and 20.82 seconds\n",
      "\n"
     ]
    }
   ],
   "source": [
    "\n",
    "log_time(\"Part9 - Community & Top Merchants\", start_time)\n",
    "start_time = time.time()\n"
   ]
  },
  {
   "cell_type": "code",
   "execution_count": 644,
   "id": "154aa31d",
   "metadata": {},
   "outputs": [
    {
     "name": "stdout",
     "output_type": "stream",
     "text": [
      "Graph Density: 0.34130445623909095\n"
     ]
    }
   ],
   "source": [
    "# Check the density of the graph (a measure of sparsity)\n",
    "density = nx.density(G)\n",
    "print(f\"Graph Density: {density}\")\n"
   ]
  },
  {
   "cell_type": "code",
   "execution_count": 645,
   "id": "5e360c64",
   "metadata": {},
   "outputs": [
    {
     "name": "stdout",
     "output_type": "stream",
     "text": [
      "Average Degree of Nodes: 571.6849642004773\n"
     ]
    }
   ],
   "source": [
    "# Calculate and print the average degree\n",
    "degree_sequence = [degree for node, degree in G.degree()]\n",
    "average_degree = sum(degree_sequence) / len(degree_sequence)\n",
    "print(f\"Average Degree of Nodes: {average_degree}\")\n"
   ]
  },
  {
   "cell_type": "code",
   "execution_count": 646,
   "id": "5fa3b21e",
   "metadata": {},
   "outputs": [
    {
     "name": "stdout",
     "output_type": "stream",
     "text": [
      "Part10 - Density completed at Fri Nov  1 13:38:20 2024. Elapsed time: 0 minutes and 0.03 seconds\n",
      "\n"
     ]
    }
   ],
   "source": [
    "log_time(\"Part10 - Density\", start_time)\n",
    "start_time = time.time()\n"
   ]
  },
  {
   "cell_type": "markdown",
   "id": "ed6bcacc",
   "metadata": {},
   "source": [
    "The results you’ve provided show:\n",
    "\n",
    "    Graph Density: 0.2513\n",
    "        This is a moderate density value. A density of 0 would indicate a completely disconnected graph, while a value close to 1 would indicate a very tightly connected graph (like a clique). A density of 0.25 means about 25% of the possible connections between nodes are present, which suggests the graph isn’t overly sparse, but it’s not densely connected either.\n",
    "\n",
    "    Average Degree: 406.18\n",
    "        This is relatively high, meaning that, on average, each node (credit card or merchant) is connected to about 406 other nodes. This high degree could indicate that nodes, especially credit cards, are interacting with many merchants. However, these connections are likely not forming closed loops or triangles, which is why the clustering coefficient is zero for all nodes.\n",
    "\n",
    "What This Means:\n",
    "\n",
    "    Even though the average degree is high, suggesting that credit cards are interacting with many merchants, the interactions are likely not forming triangles (where connected nodes are also connected to each other). This results in zero clustering coefficients across the board.\n",
    "\n",
    "    The moderate graph density indicates that the network is connected to some extent, but not densely enough to produce high clustering coefficients.\n",
    "\n",
    "Why This Happens:\n",
    "\n",
    "In transaction networks, it’s common for credit cards to interact with different merchants, but merchants don’t typically transact with each other, which means closed triangles (required for a non-zero clustering coefficient) are rare. In fraud detection, this is normal, as fraudsters typically transact with many distinct merchants rather than creating highly connected communities.\n",
    "Next Steps:\n",
    "\n",
    "Given the moderate density and high degree of the nodes, the clustering coefficient might not be the most insightful metric. Instead, you could focus on the following:\n",
    "1. Focus on Betweenness Centrality and Degree:\n",
    "\n",
    "These metrics are more likely to highlight key nodes (e.g., credit cards or merchants) that are crucial in the transaction network. You’ve already calculated betweenness centrality, and the average degree indicates that some credit cards or merchants might have a significant number of connections.\n",
    "2. Look for Key Nodes (High Degree or Centrality):\n",
    "\n",
    "You could identify nodes with high degree or betweenness centrality to see if they’re involved in fraudulent transactions."
   ]
  },
  {
   "cell_type": "code",
   "execution_count": 647,
   "id": "452804a2",
   "metadata": {},
   "outputs": [
    {
     "name": "stdout",
     "output_type": "stream",
     "text": [
      "Index(['Unnamed: 0', 'CreditCardNumber', 'merchant', 'category',\n",
      "       'TransactionAmount', 'first', 'last', 'gender', 'street', 'city',\n",
      "       'state', 'zip', 'lat', 'long', 'city_pop', 'job', 'DateOfBirth',\n",
      "       'trans_num', 'unix_time', 'merch_lat', 'merch_long', 'is_fraud',\n",
      "       'TransactionID', 'Hour', 'HighRiskHour', 'DayOfWeek', 'DayName',\n",
      "       'IsWeekend', 'distance', 'HighRiskMerchantCategory', 'Age', 'AgeGroup',\n",
      "       'TransactionFrequency', 'RapidTransactionFlag', 'LogTransactionAmount',\n",
      "       'HighValueTransactionFlag', 'TransactionCountLast7Days',\n",
      "       'TransactionCountLast14Days', 'TransactionCountLast30Days',\n",
      "       'AverageTransactionAmountLast7Days',\n",
      "       'AverageTransactionAmountLast14Days',\n",
      "       'AverageTransactionAmountLast30Days', 'degree',\n",
      "       'betweenness_centrality', 'community'],\n",
      "      dtype='object')\n"
     ]
    }
   ],
   "source": [
    "print(df.columns)"
   ]
  },
  {
   "cell_type": "code",
   "execution_count": 648,
   "id": "d5be3c6a",
   "metadata": {},
   "outputs": [],
   "source": [
    "selected_features = [\n",
    "    'TransactionAmount', 'LogTransactionAmount', 'HighValueTransactionFlag',\n",
    "    'TransactionCountLast7Days', 'TransactionCountLast14Days', 'TransactionCountLast30Days',\n",
    "    'AverageTransactionAmountLast7Days', 'AverageTransactionAmountLast14Days', 'AverageTransactionAmountLast30Days',\n",
    "    'Hour', 'HighRiskHour', 'DayOfWeek', 'IsWeekend', 'TransactionFrequency', 'RapidTransactionFlag',\n",
    "    'lat', 'long', 'merch_lat', 'merch_long', 'distance', 'city_pop',\n",
    "    'Age', 'AgeGroup', 'gender', 'state', 'city',\n",
    "    'degree', 'betweenness_centrality', 'community'\n",
    "]\n",
    "\n",
    "df_selected_features = df[selected_features]\n"
   ]
  },
  {
   "cell_type": "markdown",
   "id": "51f21f1e",
   "metadata": {},
   "source": [
    "# Page rank as new feature"
   ]
  },
  {
   "cell_type": "code",
   "execution_count": 649,
   "id": "6fda32dc",
   "metadata": {},
   "outputs": [],
   "source": [
    "# Calculate PageRank for each node in the graph\n",
    "pagerank = nx.pagerank(G)\n",
    "\n",
    "# Map the PageRank values to the 'CreditCardNumber' in the DataFrame\n",
    "df['pagerank'] = df['CreditCardNumber'].map(pagerank)\n"
   ]
  },
  {
   "cell_type": "code",
   "execution_count": 650,
   "id": "53596e20",
   "metadata": {},
   "outputs": [
    {
     "name": "stdout",
     "output_type": "stream",
     "text": [
      "0\n"
     ]
    }
   ],
   "source": [
    "# Check for NaN values in the pagerank column\n",
    "print(df['pagerank'].isna().sum())\n"
   ]
  },
  {
   "cell_type": "code",
   "execution_count": 651,
   "id": "f5e2620b",
   "metadata": {},
   "outputs": [
    {
     "name": "stdout",
     "output_type": "stream",
     "text": [
      "count    1.296675e+06\n",
      "mean     5.971670e-04\n",
      "std      7.856303e-05\n",
      "min      9.478567e-05\n",
      "25%      5.812104e-04\n",
      "50%      6.195727e-04\n",
      "75%      6.566711e-04\n",
      "max      6.834763e-04\n",
      "Name: pagerank, dtype: float64\n"
     ]
    }
   ],
   "source": [
    "# Check descriptive statistics of pagerank values\n",
    "print(df['pagerank'].describe())\n",
    "\n"
   ]
  },
  {
   "cell_type": "code",
   "execution_count": 652,
   "id": "a525047f",
   "metadata": {},
   "outputs": [
    {
     "name": "stdout",
     "output_type": "stream",
     "text": [
      "Number of nodes with zero PageRank: 0\n"
     ]
    }
   ],
   "source": [
    "# Check how many nodes have a PageRank of zero\n",
    "zero_pagerank_count = (df['pagerank'] == 0).sum()\n",
    "print(f\"Number of nodes with zero PageRank: {zero_pagerank_count}\")\n"
   ]
  },
  {
   "cell_type": "code",
   "execution_count": 653,
   "id": "c97f80b2",
   "metadata": {},
   "outputs": [
    {
     "name": "stdout",
     "output_type": "stream",
     "text": [
      "Average PageRank for Fraud: 0.000505843602201983\n",
      "Average PageRank for Non-Fraud: 0.0005976986758972222\n"
     ]
    }
   ],
   "source": [
    "# Compare the average PageRank for fraud and non-fraud transactions\n",
    "fraud_avg_pagerank = df[df['is_fraud'] == 1]['pagerank'].mean()\n",
    "non_fraud_avg_pagerank = df[df['is_fraud'] == 0]['pagerank'].mean()\n",
    "\n",
    "print(f\"Average PageRank for Fraud: {fraud_avg_pagerank}\")\n",
    "print(f\"Average PageRank for Non-Fraud: {non_fraud_avg_pagerank}\")\n"
   ]
  },
  {
   "cell_type": "code",
   "execution_count": 654,
   "id": "47121274",
   "metadata": {},
   "outputs": [],
   "source": [
    "selected_features.append('pagerank')\n",
    "df_selected_features = df[selected_features]\n"
   ]
  },
  {
   "cell_type": "code",
   "execution_count": 655,
   "id": "439c0ecd",
   "metadata": {},
   "outputs": [
    {
     "name": "stdout",
     "output_type": "stream",
     "text": [
      "Index(['TransactionAmount', 'LogTransactionAmount', 'HighValueTransactionFlag',\n",
      "       'TransactionCountLast7Days', 'TransactionCountLast14Days',\n",
      "       'TransactionCountLast30Days', 'AverageTransactionAmountLast7Days',\n",
      "       'AverageTransactionAmountLast14Days',\n",
      "       'AverageTransactionAmountLast30Days', 'Hour', 'HighRiskHour',\n",
      "       'DayOfWeek', 'IsWeekend', 'TransactionFrequency',\n",
      "       'RapidTransactionFlag', 'lat', 'long', 'merch_lat', 'merch_long',\n",
      "       'distance', 'city_pop', 'Age', 'AgeGroup', 'gender', 'state', 'city',\n",
      "       'degree', 'betweenness_centrality', 'community', 'pagerank'],\n",
      "      dtype='object')\n"
     ]
    }
   ],
   "source": [
    "print(df_selected_features.columns)"
   ]
  },
  {
   "cell_type": "code",
   "execution_count": 656,
   "id": "ae9a67f2",
   "metadata": {},
   "outputs": [
    {
     "name": "stdout",
     "output_type": "stream",
     "text": [
      "(1296675, 46)\n"
     ]
    }
   ],
   "source": [
    "print(df.shape)"
   ]
  },
  {
   "cell_type": "code",
   "execution_count": 657,
   "id": "a89b08a0",
   "metadata": {},
   "outputs": [
    {
     "name": "stdout",
     "output_type": "stream",
     "text": [
      "Part11 - PageRank completed at Fri Nov  1 13:38:23 2024. Elapsed time: 0 minutes and 2.43 seconds\n",
      "\n"
     ]
    }
   ],
   "source": [
    "log_time(\"Part11 - PageRank\", start_time)\n",
    "start_time = time.time()\n"
   ]
  },
  {
   "cell_type": "code",
   "execution_count": 658,
   "id": "e17cecc8",
   "metadata": {},
   "outputs": [],
   "source": [
    "# Decision Trees start"
   ]
  },
  {
   "cell_type": "code",
   "execution_count": 659,
   "id": "56237852",
   "metadata": {},
   "outputs": [
    {
     "name": "stdout",
     "output_type": "stream",
     "text": [
      "END - Feature Engineering .....   completed at Fri Nov  1 13:38:23 2024. Elapsed time: 0 minutes and 0.02 seconds\n",
      "\n"
     ]
    }
   ],
   "source": [
    "log_time(\"END - Feature Engineering .....  \", start_time)\n",
    "start_time = time.time()\n",
    "log_time(\"--------------------------------------------------- ------------------  \", start_time)\n",
    "start_time = time.time()"
   ]
  },
  {
   "cell_type": "code",
   "execution_count": null,
   "id": "8ac908b1",
   "metadata": {},
   "outputs": [],
   "source": []
  },
  {
   "cell_type": "code",
   "execution_count": 660,
   "id": "163f30c6",
   "metadata": {},
   "outputs": [
    {
     "name": "stdout",
     "output_type": "stream",
     "text": [
      "START - Random Forest with DASK .....   completed at Fri Nov  1 13:38:23 2024. Elapsed time: 0 minutes and 0.01 seconds\n",
      "\n"
     ]
    }
   ],
   "source": [
    "log_time(f\"{model_specs}_{dataset_type} START Model ....  \", start_time)\n",
    "start_time = time.time()"
   ]
  },
  {
   "cell_type": "markdown",
   "id": "14312bfe",
   "metadata": {},
   "source": [
    "Close the dASK Client"
   ]
  },
  {
   "cell_type": "raw",
   "id": "a7575e8b",
   "metadata": {},
   "source": [
    "from dask.distributed import Client\n",
    "from sklearn.ensemble import RandomForestClassifier\n",
    "from sklearn.metrics import accuracy_score, classification_report\n",
    "import dask.dataframe as dd\n",
    "import pandas as pd\n",
    "import os\n",
    "\n",
    "# Start Dask client\n",
    "client = Client()\n",
    "\n",
    "# Define directory paths and other configurations\n",
    "reports_output_dir = \"/path/to/reports\"  # Define the directory to save reports\n",
    "dataset_type = \"train\" if not use_test_data else \"test\"  # Set based on evaluation type\n",
    "\n",
    "# Load and preprocess function for both train and test datasets\n",
    "def load_and_preprocess(data_source):\n",
    "    X = df[selected_features]\n",
    "    y = df['is_fraud']\n",
    "    \n",
    "    # Convert to Dask, categorize, one-hot encode, then back to Pandas\n",
    "    X = dd.from_pandas(X, npartitions=5).categorize()\n",
    "    X = dd.get_dummies(X, drop_first=True).compute()  # Convert Dask DataFrame to Pandas\n",
    "    y = dd.from_pandas(y, npartitions=5).compute()  # Convert Dask Series to Pandas\n",
    "    return X, y\n",
    "\n",
    "# Model training and evaluation\n",
    "if use_test_data:\n",
    "    # Load and preprocess test data\n",
    "    X_test, y_test = load_and_preprocess(f\"{input_src_dir}/fraudTest.csv\")\n",
    "    \n",
    "    # Evaluate on test data\n",
    "    y_test_pred = model.predict(X_test)\n",
    "    test_accuracy = accuracy_score(y_test, y_test_pred)\n",
    "    print(\"Accuracy on test data:\", test_accuracy)\n",
    "    \n",
    "    # Generate classification report for test data\n",
    "    clf_report = classification_report(y_test, y_test_pred)\n",
    "    print(\"Classification Report: \" , clf_report)\n",
    "    \n",
    "else:\n",
    "    # Load and preprocess train data\n",
    "    X_train, y_train = load_and_preprocess(df)\n",
    "\n",
    "    # Train Random Forest model on train data\n",
    "    model = RandomForestClassifier(n_estimators=100, max_depth=20, random_state=42)\n",
    "    model.fit(X_train, y_train)\n",
    "\n",
    "    # Evaluate on train data\n",
    "    y_train_pred = model.predict(X_train)\n",
    "    train_accuracy = accuracy_score(y_train, y_train_pred)\n",
    "    print(\"Accuracy on train data:\", train_accuracy)\n",
    "    \n",
    "    # Generate classification report for train data\n",
    "    clf_report = classification_report(y_train, y_train_pred)\n",
    "    print(\"Classification Report: \", clf_report)\n",
    "    accuracy = train_accuracy if not use_test_data else test_accuracy\n",
    "\n"
   ]
  },
  {
   "cell_type": "markdown",
   "id": "ce3a86f8",
   "metadata": {},
   "source": [
    "# The following worked wonderfully"
   ]
  },
  {
   "cell_type": "code",
   "execution_count": null,
   "id": "3ae088d8",
   "metadata": {},
   "outputs": [],
   "source": []
  },
  {
   "cell_type": "markdown",
   "id": "36e6f6e4",
   "metadata": {},
   "source": [
    "Optimize Feature Set: Consider focusing more on these top features to streamline the model, which could reduce noise and potentially improve generalization.\n",
    "\n",
    "Interaction Features: You might explore interaction terms (e.g., combining distance with high transaction amounts) if you suspect relationships between features could capture more nuanced patterns."
   ]
  },
  {
   "cell_type": "markdown",
   "id": "b5027114",
   "metadata": {},
   "source": [
    "# the below code with optimized features also worked great"
   ]
  },
  {
   "cell_type": "markdown",
   "id": "e25ef169",
   "metadata": {},
   "source": [
    "def load_and_preprocess(df, selected_features, sample_fraction=1.0):\n",
    "    # Filter `selected_features` to include only columns available in `df`\n",
    "    selected_features = [col for col in selected_features if col in df.columns]\n",
    "    \n",
    "    # Sample a fraction of the data for debugging if needed\n",
    "    if sample_fraction < 1.0:\n",
    "        df = df.sample(frac=sample_fraction, random_state=42)\n",
    "    \n",
    "    X = df[selected_features].copy()\n",
    "    y = df['is_fraud'].copy()\n",
    "\n",
    "    # Define numeric and categorical features explicitly\n",
    "    numeric_features = [\n",
    "        'TransactionAmount', 'LogTransactionAmount', 'TransactionCountLast7Days', \n",
    "        'TransactionCountLast14Days', 'TransactionCountLast30Days', \n",
    "        'AverageTransactionAmountLast7Days', 'AverageTransactionAmountLast14Days', \n",
    "        'AverageTransactionAmountLast30Days', 'lat', 'long', 'merch_lat', \n",
    "        'merch_long', 'distance', 'city_pop', 'degree', 'betweenness_centrality'\n",
    "    ]\n",
    "    \n",
    "    categorical_features = [\n",
    "        'HighValueTransactionFlag', 'HighRiskHour', 'IsWeekend', 'AgeGroup', \n",
    "        'gender', 'state', 'city', 'community', 'TransactionFrequency'\n",
    "    ]\n",
    "    \n",
    "    # Use only the numeric and categorical columns available in `X`\n",
    "    numeric_features = [col for col in numeric_features if col in X.columns]\n",
    "    categorical_features = [col for col in categorical_features if col in X.columns]\n",
    "    \n",
    "    # Convert each numeric column to numeric type and fill NaNs with mean\n",
    "    for col in numeric_features:\n",
    "        X[col] = pd.to_numeric(X[col], errors='coerce')  # Convert to numeric, coerce errors to NaN\n",
    "        X[col] = X[col].fillna(X[col].mean())  # Fill NaNs with mean for each column\n",
    "\n",
    "    # Convert categorical columns to 'category' dtype and fill NaNs with \"Unknown\"\n",
    "    for col in categorical_features:\n",
    "        X[col] = X[col].astype(\"category\")\n",
    "        X[col] = X[col].cat.add_categories(\"Unknown\").fillna(\"Unknown\")\n",
    "\n",
    "    # Convert to Dask DataFrame\n",
    "    X = dd.from_pandas(X, npartitions=5)\n",
    "\n",
    "    # Explicitly categorize all categorical columns\n",
    "    X = X.categorize(columns=categorical_features)\n",
    "\n",
    "    # Apply one-hot encoding to categorized columns without immediately computing\n",
    "    X = dd.get_dummies(X, drop_first=True)\n",
    "\n",
    "    return X, y\n",
    "\n",
    "# Define optimized features\n",
    "optimized_features = [\n",
    "    'LogTransactionAmount', 'merch_lat', 'AverageTransactionAmountLast14Days',\n",
    "    'TransactionAmount', 'distance', 'merch_long', \n",
    "    'AverageTransactionAmountLast7Days', 'AverageTransactionAmountLast30Days',\n",
    "    'TransactionCountLast30Days', 'TransactionCountLast7Days'\n",
    "]\n",
    "\n",
    "# Load and preprocess with optimized features and handle missing columns automatically\n",
    "X_train, y_train = load_and_preprocess(df, optimized_features, sample_fraction=0.4)\n"
   ]
  },
  {
   "cell_type": "markdown",
   "id": "0e1d0994",
   "metadata": {},
   "source": [
    "# now with interaction features"
   ]
  },
  {
   "cell_type": "code",
   "execution_count": 661,
   "id": "6453aa69",
   "metadata": {},
   "outputs": [
    {
     "name": "stdout",
     "output_type": "stream",
     "text": [
      "False\n"
     ]
    }
   ],
   "source": [
    "print(use_test_data)"
   ]
  },
  {
   "cell_type": "markdown",
   "id": "a2820d1f",
   "metadata": {},
   "source": [
    "#Load_and_preprocess with OPTIMIZED features:\n",
    "The following is done successfully,howvere test set generated accuracy of"
   ]
  },
  {
   "cell_type": "markdown",
   "id": "630958cb",
   "metadata": {},
   "source": [
    "both downsampling and upsampling (using SMOTE) are applied to balance the classes. Here’s a breakdown of the approach and its purpose:\n",
    "Steps in the Code\n",
    "\n",
    "    Downsampling the Majority Class (non-fraud):\n",
    "        The non-fraud samples (majority class) are downsampled to match the number of fraud samples. This reduces the dataset size and helps balance it, ensuring the model doesn’t become overly biased toward the non-fraud majority.\n",
    "\n",
    "    SMOTE Upsampling:\n",
    "        After downsampling, SMOTE (Synthetic Minority Over-sampling Technique) is applied to further balance the data by synthetically creating additional samples of the minority class (fraud). This approach helps the model generalize by exposing it to varied patterns in the minority class.\n",
    "\n",
    "Why This Combination is Used\n",
    "\n",
    "Using both downsampling and SMOTE is beneficial in scenarios with extreme class imbalance, as it:\n",
    "\n",
    "    Reduces the dataset size, making training more efficient without overwhelming the model with non-fraud samples.\n",
    "    Adds synthetic diversity to the fraud class, improving the model’s ability to generalize to different fraud patterns.\n",
    "\n",
    "Why the Model May Still Struggle on fraudTest.csv\n",
    "\n",
    "Despite these efforts, testing on an imbalanced fraudTest.csv with no additional balancing measures means the model faces a very different class distribution compared to the training data. Here’s why the performance may not translate well to the test set:\n",
    "\n",
    "    Synthetic Patterns vs. Real Data: SMOTE creates synthetic samples that may not fully reflect real-world fraud cases. As a result, the model may be less accurate on genuine fraud cases in the test data.\n",
    "    Threshold Sensitivity: The default threshold may still be biased toward predicting non-fraud, as fraud cases remain rare in fraudTest.csv. Lowering this threshold can improve recall on fraud cases.\n",
    "\n",
    "Suggested Adjustments\n",
    "\n",
    "To improve test performance on fraudTest.csv:\n",
    "\n",
    "    Adjust the Classification Threshold: As previously recommended, lowering the threshold (e.g., to 0.3) will make the model more sensitive to fraud cases."
   ]
  },
  {
   "cell_type": "code",
   "execution_count": null,
   "id": "0ac0b0e8",
   "metadata": {},
   "outputs": [],
   "source": []
  },
  {
   "cell_type": "markdown",
   "id": "0d2e715b",
   "metadata": {},
   "source": [
    "below code is now comented out for above reason"
   ]
  },
  {
   "cell_type": "markdown",
   "id": "e4e0c282",
   "metadata": {},
   "source": [
    "from itertools import combinations\n",
    "import pandas as pd\n",
    "from sklearn.utils import resample\n",
    "from sklearn.ensemble import RandomForestClassifier\n",
    "from sklearn.metrics import accuracy_score, classification_report, roc_auc_score, precision_recall_curve, auc\n",
    "from imblearn.over_sampling import SMOTE\n",
    "import matplotlib.pyplot as plt\n",
    "from sklearn.experimental import enable_halving_search_cv  # Required for ParallelPostFit\n",
    "\n",
    "# Define optimized features at the top to make it accessible in both blocks\n",
    "optimized_features = [\n",
    "    'LogTransactionAmount', 'merch_lat', 'AverageTransactionAmountLast14Days',\n",
    "    'TransactionAmount', 'distance', 'merch_long', \n",
    "    'AverageTransactionAmountLast7Days', 'AverageTransactionAmountLast30Days',\n",
    "    'TransactionCountLast30Days', 'TransactionCountLast7Days'\n",
    "]\n",
    "\n",
    "def load_and_preprocess(df, selected_features, sample_fraction=1.0):\n",
    "    # Sample and select features\n",
    "    X_train = df[selected_features].sample(frac=sample_fraction)\n",
    "    y_train = df['is_fraud']  # Assuming 'is_fraud' is the target column\n",
    "    \n",
    "    # Convert to Pandas if using Dask DataFrame\n",
    "    if hasattr(X_train, \"compute\"):\n",
    "        X_train = X_train.compute().reset_index(drop=True)\n",
    "    else:\n",
    "        X_train = X_train.reset_index(drop=True)\n",
    "    \n",
    "    # Reset index for y_train if needed\n",
    "    y_train = y_train.reset_index(drop=True)\n",
    "\n",
    "    # Generate pairwise interactions only for features that exist in X_train\n",
    "    existing_features = [feature for feature in selected_features if feature in X_train.columns]\n",
    "    for feature1, feature2 in combinations(existing_features, 2):\n",
    "        interaction_name = f\"{feature1}_x_{feature2}\"\n",
    "        X_train[interaction_name] = X_train[feature1] * X_train[feature2]\n",
    "\n",
    "    print(X_train.head())  # Preview the final dataframe with interaction terms\n",
    "    return X_train, y_train\n",
    "\n",
    "# Model training and evaluation\n",
    "if use_test_data:\n",
    "    # Load and preprocess test data\n",
    "    X_test, y_test = load_and_preprocess(df, optimized_features)\n",
    "    X_test = X_test.reset_index(drop=True)\n",
    "\n",
    "    # Evaluate on test data\n",
    "    y_test_pred = model.predict(X_test)\n",
    "    test_accuracy = accuracy_score(y_test, y_test_pred)\n",
    "    print(\"Accuracy on test data:\", test_accuracy)\n",
    "    \n",
    "    # Classification report\n",
    "    clf_report = classification_report(y_test, y_test_pred)\n",
    "    print(\"Classification Report:\", clf_report)\n",
    "\n",
    "    # Calculate AUC-ROC\n",
    "    roc_auc = roc_auc_score(y_test, y_test_pred)\n",
    "    print(\"ROC AUC Score on test data:\", roc_auc)\n",
    "\n",
    "    # Calculate Precision-Recall curve\n",
    "    precision, recall, thresholds = precision_recall_curve(y_test, y_test_pred)\n",
    "    pr_auc = auc(recall, precision)\n",
    "    print(\"Precision-Recall AUC on test data:\", pr_auc)\n",
    "\n",
    "    # Plot Precision-Recall curve\n",
    "    plt.figure(figsize=(10, 6))\n",
    "    plt.plot(recall, precision, marker='.', label='Precision-Recall Curve (Test)')\n",
    "    plt.xlabel('Recall')\n",
    "    plt.ylabel('Precision')\n",
    "    roc_title = 'Random Forest with DASK Balanced & SMOTE - Precision-Recall Curve for Test Set'\n",
    "    plt.title(roc_title)\n",
    "    plt.legend()\n",
    "    plt.show()\n",
    "\n",
    "else:\n",
    "    # Training phase with sampling and SMOTE\n",
    "    X_train, y_train = load_and_preprocess(df, optimized_features, sample_fraction=1.0)\n",
    "    X_train = X_train.reset_index(drop=True)  # Convert X_train to Pandas if needed\n",
    "    y_train = y_train.reset_index(drop=True)  # Reset y_train index for alignment\n",
    "    \n",
    "\n",
    "    # Initialize model\n",
    "    # model = RandomForestClassifier(n_estimators=100, max_depth=20, random_state=42, class_weight='balanced')\n",
    "    # this lead to 50% accuracy on test data\n",
    "    \n",
    "    # so Set max_depth to a lower value, such as 10, to reduce the complexity and make the model more generalizable.\n",
    "    # Experiment with fewer estimators (e.g., n_estimators=50), which can also help prevent the model \n",
    "    #.       from learning overly specific patterns in the training data.\n",
    "    # this lead to 88% accuracy with sample factor = 0.4\n",
    "    \n",
    "    # now same model with sample factor = 0.8\n",
    "    \n",
    "    model = RandomForestClassifier(n_estimators=50, max_depth=10, random_state=42, class_weight='balanced')\n",
    "\n",
    "    \n",
    "\n",
    "    # Downsample and SMOTE Upsample\n",
    "    fraud = X_train[y_train == 1]\n",
    "    non_fraud = X_train[y_train == 0]\n",
    "\n",
    "    # Downsample non-fraud class to match fraud class size\n",
    "    non_fraud_downsampled = resample(non_fraud, replace=False, n_samples=len(fraud), random_state=42)\n",
    "\n",
    "    # Concatenate downsampled non-fraud and fraud samples\n",
    "    X_resampled = pd.concat([fraud, non_fraud_downsampled]).reset_index(drop=True)\n",
    "    y_resampled = pd.concat([\n",
    "        y_train.loc[fraud.index],\n",
    "        y_train.loc[non_fraud_downsampled.index]\n",
    "    ]).reset_index(drop=True)\n",
    "\n",
    "    # Verify that X_resampled and y_resampled have the same length\n",
    "    assert len(X_resampled) == len(y_resampled), \"Lengths of X_resampled and y_resampled do not match.\"\n",
    "\n",
    "    # Apply SMOTE on the resampled data\n",
    "    smote = SMOTE(random_state=42)\n",
    "    X_smote, y_smote = smote.fit_resample(X_resampled, y_resampled)\n",
    "\n",
    "\n",
    "    # Train model\n",
    "    model.fit(X_smote, y_smote)\n",
    "\n",
    "    # Evaluate on train data\n",
    "    y_train_pred = model.predict(X_smote)\n",
    "    train_accuracy = accuracy_score(y_smote, y_train_pred)\n",
    "    print(\"Accuracy on train data:\", train_accuracy)\n",
    "    \n",
    "    # Classification report\n",
    "    clf_report = classification_report(y_smote, y_train_pred)\n",
    "    print(\"Classification Report:\", clf_report)\n",
    "\n",
    "    # Calculate AUC-ROC\n",
    "    roc_auc = roc_auc_score(y_smote, y_train_pred)\n",
    "    print(\"ROC AUC Score on train data:\", roc_auc)\n",
    "\n",
    "    # Calculate Precision-Recall curve\n",
    "    precision, recall, thresholds = precision_recall_curve(y_smote, y_train_pred)\n",
    "    pr_auc = auc(recall, precision)\n",
    "    print(\"Precision-Recall AUC on train data:\", pr_auc)\n",
    "\n",
    "    # Plot Precision-Recall curve\n",
    "    plt.figure(figsize=(10, 6))\n",
    "    plt.plot(recall, precision, marker='.', label='Precision-Recall Curve (Train)')\n",
    "    plt.xlabel('Recall')\n",
    "    plt.ylabel('Precision')\n",
    "    roc_title = 'sample_fraction=1.0 Random Forest with DASK Balanced & SMOTE - Precision-Recall Curve for Train Set'\n",
    "    plt.title(roc_title)\n",
    "    plt.legend()\n",
    "    plt.show()\n"
   ]
  },
  {
   "cell_type": "markdown",
   "id": "3dd0e3a7",
   "metadata": {},
   "source": [
    "Threshold with 0.3 didnt lead to good results\n",
    "Train ROC AUC: 0.5029976019184652\n",
    "Train Precision-Recall AUC: 0.7507516536380037\n",
    "    \n",
    "The results show that the model has overfit to the minority class (fraud), leading to a low recall and accuracy for non-fraud cases. Here are a few strategies to improve model performance:\n",
    "\n",
    "    Increase Number of Estimators and Depth: Try increasing n_estimators to 100 or more and max_depth to allow the model to better capture patterns. You may need to balance this with computational limits.\n",
    "\n",
    "    Refine Class Weights: The class weights {0: 1, 1: 10} might be too aggressive, leading the model to overemphasize fraud cases. You could reduce the weight for fraud, such as {0: 1, 1: 5}, or even use class_weight='balanced'.\n",
    "\n",
    "    Threshold Calibration: The current threshold of 0.3 might need further adjustment. Consider evaluating several thresholds (e.g., from 0.1 to 0.5) based on validation data to find the best trade-off between precision and recall.\n",
    "\n",
    "    "
   ]
  },
  {
   "cell_type": "code",
   "execution_count": null,
   "id": "80df33fc",
   "metadata": {},
   "outputs": [],
   "source": []
  },
  {
   "cell_type": "code",
   "execution_count": 662,
   "id": "1813f432",
   "metadata": {},
   "outputs": [],
   "source": [
    "import pandas as pd\n",
    "from sklearn.utils import resample\n",
    "from sklearn.ensemble import RandomForestClassifier\n",
    "from sklearn.metrics import accuracy_score, classification_report, roc_auc_score, precision_recall_curve, auc\n",
    "from imblearn.over_sampling import SMOTE\n",
    "import matplotlib.pyplot as plt\n",
    "from itertools import combinations\n",
    "\n",
    "# Define the features to be used in the model\n",
    "optimized_features = [\n",
    "    'LogTransactionAmount', 'merch_lat', 'AverageTransactionAmountLast14Days',\n",
    "    'TransactionAmount', 'distance', 'merch_long', \n",
    "    'AverageTransactionAmountLast7Days', 'AverageTransactionAmountLast30Days',\n",
    "    'TransactionCountLast30Days', 'TransactionCountLast7Days'\n",
    "]\n",
    "\n",
    "def load_and_preprocess(df, selected_features, sample_fraction=1.0):\n",
    "    # Sampling and feature selection\n",
    "    X = df[selected_features].sample(frac=sample_fraction)\n",
    "    y = df['is_fraud']  # Assuming 'is_fraud' is the target column\n",
    "    X = X.reset_index(drop=True)\n",
    "    y = y.reset_index(drop=True)\n",
    "\n",
    "    # Add interaction terms\n",
    "    for feature1, feature2 in combinations(selected_features, 2):\n",
    "        interaction_name = f\"{feature1}_x_{feature2}\"\n",
    "        X[interaction_name] = X[feature1] * X[feature2]\n",
    "    \n",
    "    print(\"Sample of X with interactions:\", X.head())  # Preview the dataframe with interactions\n",
    "    return X, y\n",
    "\n",
    "# Model training and evaluation\n",
    "def train_model(X, y):\n",
    "    # Balance the data\n",
    "    fraud = X[y == 1]\n",
    "    non_fraud = X[y == 0]\n",
    "    non_fraud_downsampled = resample(non_fraud, replace=False, n_samples=len(fraud), random_state=42)\n",
    "\n",
    "    # Combine the downsampled non-fraud and fraud samples\n",
    "    X_resampled = pd.concat([fraud, non_fraud_downsampled]).reset_index(drop=True)\n",
    "    y_resampled = pd.concat([y.loc[fraud.index], y.loc[non_fraud_downsampled.index]]).reset_index(drop=True)\n",
    "\n",
    "    # Apply SMOTE to generate synthetic samples of the minority class\n",
    "    smote = SMOTE(random_state=42)\n",
    "    X_smote, y_smote = smote.fit_resample(X_resampled, y_resampled)\n",
    "\n",
    "    # Train the RandomForest model\n",
    "    model = RandomForestClassifier(n_estimators=100, max_depth=10, random_state=42, class_weight={0: 1, 1: 10})\n",
    "    model.fit(X_smote, y_smote)\n",
    "    \n",
    "    # Evaluate on training data\n",
    "    y_train_pred = model.predict(X_smote)\n",
    "    print(\"Training Accuracy:\", accuracy_score(y_smote, y_train_pred))\n",
    "    print(\"Classification Report (Train):\\n\", classification_report(y_smote, y_train_pred))\n",
    "    \n",
    "    # Calculate and display AUC and Precision-Recall curves\n",
    "    print(\"Train ROC AUC:\", roc_auc_score(y_smote, y_train_pred))\n",
    "    precision, recall, _ = precision_recall_curve(y_smote, y_train_pred)\n",
    "    print(\"Train Precision-Recall AUC:\", auc(recall, precision))\n",
    "    plt.plot(recall, precision, label=\"Train Precision-Recall Curve\")\n",
    "    plt.xlabel(\"Recall\")\n",
    "    plt.ylabel(\"Precision\")\n",
    "    plt.title(\"Train Precision-Recall Curve\")\n",
    "    plt.legend()\n",
    "    plt.show()\n",
    "    \n",
    "    return model\n",
    "\n",
    "def evaluate_model(model, X_test, y_test, threshold=0.3):\n",
    "    # Predict probabilities and adjust threshold\n",
    "    y_test_probs = model.predict_proba(X_test)[:, 1]\n",
    "    y_test_pred_adjusted = (y_test_probs >= threshold).astype(int)\n",
    "    \n",
    "    \n",
    "    \n",
    "    # Evaluation metrics\n",
    "    test_accuracy = accuracy_score(y_test, y_test_pred_adjusted)\n",
    "    print(\"Adjusted Threshold Test Accuracy:\", test_accuracy)\n",
    "    print(\"Classification Report (Test, Adjusted Threshold):\\n\", classification_report(y_test, y_test_pred_adjusted))\n",
    "    print(\"Test ROC AUC:\", roc_auc_score(y_test, y_test_pred_adjusted))\n",
    "\n",
    "    precision, recall, _ = precision_recall_curve(y_test, y_test_pred_adjusted)\n",
    "    print(\"Test Precision-Recall AUC:\", auc(recall, precision))\n",
    "    plt.plot(recall, precision, label=\"Test Precision-Recall Curve\")\n",
    "    plt.xlabel(\"Recall\")\n",
    "    plt.ylabel(\"Precision\")\n",
    "    plt.title(\"Test Precision-Recall Curve\")\n",
    "    plt.legend()\n",
    "    plt.show()\n",
    "\n",
    "\n"
   ]
  },
  {
   "cell_type": "code",
   "execution_count": 664,
   "id": "fb5fa544",
   "metadata": {},
   "outputs": [
    {
     "name": "stdout",
     "output_type": "stream",
     "text": [
      "Sample of X with interactions:    LogTransactionAmount  merch_lat  AverageTransactionAmountLast14Days  \\\n",
      "0              3.135929  40.191927                           51.550037   \n",
      "1              4.457945  46.098331                          108.173043   \n",
      "2              4.009513  39.784631                           90.556208   \n",
      "3              2.238580  26.605325                           70.153143   \n",
      "4              3.806440  41.246775                           49.430000   \n",
      "\n",
      "   TransactionAmount    distance  merch_long  \\\n",
      "0              22.01   90.612618  -90.179475   \n",
      "1              85.31   49.683552 -119.529060   \n",
      "2              54.12   88.943263  -97.178677   \n",
      "3               8.38  104.786783  -80.836050   \n",
      "4              43.99   68.911501  -73.113350   \n",
      "\n",
      "   AverageTransactionAmountLast7Days  AverageTransactionAmountLast30Days  \\\n",
      "0                          36.949394                           47.830036   \n",
      "1                         105.553333                           90.902793   \n",
      "2                         103.302511                           64.618059   \n",
      "3                          69.241250                           72.037273   \n",
      "4                          50.085000                           52.383500   \n",
      "\n",
      "   TransactionCountLast30Days  TransactionCountLast7Days  ...  \\\n",
      "0                       143.0                       33.0  ...   \n",
      "1                       163.0                       42.0  ...   \n",
      "2                        54.0                       18.0  ...   \n",
      "3                        66.0                       16.0  ...   \n",
      "4                        40.0                       14.0  ...   \n",
      "\n",
      "   merch_long_x_AverageTransactionAmountLast7Days  \\\n",
      "0                                    -3332.076947   \n",
      "1                                   -12616.690713   \n",
      "2                                   -10038.801361   \n",
      "3                                    -5597.189147   \n",
      "4                                    -3661.882135   \n",
      "\n",
      "   merch_long_x_AverageTransactionAmountLast30Days  \\\n",
      "0                                     -4313.287569   \n",
      "1                                    -10865.525355   \n",
      "2                                     -6279.497509   \n",
      "3                                     -5823.208580   \n",
      "4                                     -3829.933170   \n",
      "\n",
      "   merch_long_x_TransactionCountLast30Days  \\\n",
      "0                            -12895.664925   \n",
      "1                            -19483.236780   \n",
      "2                             -5247.648558   \n",
      "3                             -5335.179300   \n",
      "4                             -2924.534000   \n",
      "\n",
      "   merch_long_x_TransactionCountLast7Days  \\\n",
      "0                            -2975.922675   \n",
      "1                            -5020.220520   \n",
      "2                            -1749.216186   \n",
      "3                            -1293.376800   \n",
      "4                            -1023.586900   \n",
      "\n",
      "   AverageTransactionAmountLast7Days_x_AverageTransactionAmountLast30Days  \\\n",
      "0                                        1767.290856                        \n",
      "1                                        9595.092772                        \n",
      "2                                        6675.207785                        \n",
      "3                                        4987.950810                        \n",
      "4                                        2623.627597                        \n",
      "\n",
      "   AverageTransactionAmountLast7Days_x_TransactionCountLast30Days  \\\n",
      "0                                        5283.763333                \n",
      "1                                       17205.193333                \n",
      "2                                        5578.335600                \n",
      "3                                        4569.922500                \n",
      "4                                        2003.400000                \n",
      "\n",
      "   AverageTransactionAmountLast7Days_x_TransactionCountLast7Days  \\\n",
      "0                                          1219.3300               \n",
      "1                                          4433.2400               \n",
      "2                                          1859.4452               \n",
      "3                                          1107.8600               \n",
      "4                                           701.1900               \n",
      "\n",
      "   AverageTransactionAmountLast30Days_x_TransactionCountLast30Days  \\\n",
      "0                                          6839.6952                 \n",
      "1                                         14817.1552                 \n",
      "2                                          3489.3752                 \n",
      "3                                          4754.4600                 \n",
      "4                                          2095.3400                 \n",
      "\n",
      "   AverageTransactionAmountLast30Days_x_TransactionCountLast7Days  \\\n",
      "0                                        1578.391200                \n",
      "1                                        3817.917291                \n",
      "2                                        1163.125067                \n",
      "3                                        1152.596364                \n",
      "4                                         733.369000                \n",
      "\n",
      "   TransactionCountLast30Days_x_TransactionCountLast7Days  \n",
      "0                                             4719.0       \n",
      "1                                             6846.0       \n",
      "2                                              972.0       \n",
      "3                                             1056.0       \n",
      "4                                              560.0       \n",
      "\n",
      "[5 rows x 55 columns]\n",
      "Training Accuracy: 0.5029976019184652\n",
      "Classification Report (Train):\n",
      "               precision    recall  f1-score   support\n",
      "\n",
      "         0.0       1.00      0.01      0.01      7506\n",
      "         1.0       0.50      1.00      0.67      7506\n",
      "\n",
      "    accuracy                           0.50     15012\n",
      "   macro avg       0.75      0.50      0.34     15012\n",
      "weighted avg       0.75      0.50      0.34     15012\n",
      "\n",
      "Train ROC AUC: 0.5029976019184652\n",
      "Train Precision-Recall AUC: 0.7507516536380037\n"
     ]
    },
    {
     "data": {
      "image/png": "[encoded data removed]",
      "text/plain": [
       "<Figure size 640x480 with 1 Axes>"
      ]
     },
     "metadata": {},
     "output_type": "display_data"
    }
   ],
   "source": [
    "# Load data\n",
    "if use_test_data:\n",
    "    X_test, y_test = load_and_preprocess(df, optimized_features, sample_fraction=1.0)\n",
    "    evaluate_model(model, X_test, y_test)\n",
    "else:\n",
    "    X_train, y_train = load_and_preprocess(df, optimized_features, sample_fraction=1.0)\n",
    "    model = train_model(X_train, y_train)\n"
   ]
  },
  {
   "cell_type": "code",
   "execution_count": 665,
   "id": "610da2ed",
   "metadata": {},
   "outputs": [
    {
     "name": "stdout",
     "output_type": "stream",
     "text": [
      "Top Features:\n",
      "                                               Feature  Importance\n",
      "5                                          merch_long    0.044718\n",
      "20                      merch_lat_x_TransactionAmount    0.041012\n",
      "9                           TransactionCountLast7Days    0.037536\n",
      "25             merch_lat_x_TransactionCountLast30Days    0.037386\n",
      "26              merch_lat_x_TransactionCountLast7Days    0.035594\n",
      "10                   LogTransactionAmount_x_merch_lat    0.034185\n",
      "51  AverageTransactionAmountLast7Days_x_Transactio...    0.032537\n",
      "1                                           merch_lat    0.028497\n",
      "34                       TransactionAmount_x_distance    0.028179\n",
      "22                             merch_lat_x_merch_long    0.026746\n"
     ]
    },
    {
     "data": {
      "image/png": "[encoded data removed]",
      "text/plain": [
       "<Figure size 1000x600 with 1 Axes>"
      ]
     },
     "metadata": {},
     "output_type": "display_data"
    }
   ],
   "source": [
    "from sklearn.exceptions import NotFittedError\n",
    "\n",
    "try:\n",
    "    # Retrieve feature importances from the trained model\n",
    "    importances = model.feature_importances_\n",
    "    features = X_train.columns\n",
    "    feature_importances = pd.DataFrame({'Feature': features, 'Importance': importances})\n",
    "    feature_importances = feature_importances.sort_values(by='Importance', ascending=False)\n",
    "\n",
    "    # Print top 10 most important features\n",
    "    print(\"Top Features:\\n\", feature_importances.head(10))\n",
    "    \n",
    "    # Visualize the top 10 features\n",
    "    plt.figure(figsize=(10, 6))\n",
    "    plt.barh(feature_importances['Feature'][:10][::-1], feature_importances['Importance'][:10][::-1])\n",
    "    plt.xlabel('Importance')\n",
    "    plt.title('Top 10 Feature Importances')\n",
    "    plt.show()\n",
    "\n",
    "except NotFittedError:\n",
    "    print(\"Model is not fitted yet. Please ensure the model is trained before analyzing feature importances.\")\n"
   ]
  },
  {
   "cell_type": "code",
   "execution_count": null,
   "id": "208e91db",
   "metadata": {},
   "outputs": [],
   "source": []
  },
  {
   "cell_type": "code",
   "execution_count": 666,
   "id": "12fb86af",
   "metadata": {},
   "outputs": [],
   "source": [
    "timestamp = time.strftime(\"%Y%m%d_%H%M%S\")  # Format: YYYYMMDD_HHMMSS\n",
    "\n",
    "\n",
    "# Define the report title and output filename\n",
    "classification_report_title = f\" Report \"\n",
    "classification_report_filename = f\"{model_specs}_{dataset_type}_{classification_report_title}_{timestamp}.txt\"\n",
    "\n",
    "top_features = feature_importances.head(10).to_string(index=False)\n",
    "\n",
    "# Construct the full report including accuracy, ROC AUC, Precision-Recall AUC, and classification report\n",
    "accuracy = test_accuracy if use_test_data else train_accuracy\n",
    "full_report = (\n",
    "    f\"Accuracy: {accuracy:.4f}\\n\"\n",
    "    f\"ROC AUC Score: {roc_auc:.4f}\\n\"\n",
    "    f\"Precision-Recall AUC: {pr_auc:.4f}\\n\\n\"\n",
    "    f\"Top 10 Feature Importances:\\n{top_features}\\n\\n\"\n",
    "    f\"{clf_report}\"\n",
    ")\n",
    "\n",
    "# Save the classification report with accuracy, ROC AUC, and Precision-Recall AUC to a text file\n",
    "with open(os.path.join(reports_output_dir, classification_report_filename), 'w') as f:\n",
    "    f.write(full_report)  # Writing the combined report string to the file\n"
   ]
  },
  {
   "cell_type": "code",
   "execution_count": 667,
   "id": "d83b384d",
   "metadata": {},
   "outputs": [
    {
     "name": "stdout",
     "output_type": "stream",
     "text": [
      "END - Random Forest with DASK Balanced & SMOTE Model .....   completed at Fri Nov  1 13:39:34 2024. Elapsed time: 1 minutes and 11.43 seconds\n",
      "\n"
     ]
    }
   ],
   "source": [
    "log_time(f\"{model_specs}_{dataset_type} END Model ....  \", start_time)\n",
    "start_time = time.time()"
   ]
  },
  {
   "cell_type": "code",
   "execution_count": 668,
   "id": "875d9134",
   "metadata": {},
   "outputs": [
    {
     "name": "stdout",
     "output_type": "stream",
     "text": [
      "Closed the DASK CLient completed at Fri Nov  1 13:39:34 2024. Elapsed time: 0 minutes and 0.49 seconds\n",
      "\n"
     ]
    }
   ],
   "source": [
    "\n",
    "# Close Dask client when done\n",
    "client.close()\n",
    "log_time(\"Closed the DASK Client\", start_time)\n",
    "log_time(\".................................................  \", start_time)\n",
    "start_time = time.time()"
   ]
  },
  {
   "cell_type": "code",
   "execution_count": 669,
   "id": "4713ea62",
   "metadata": {},
   "outputs": [
    {
     "name": "stdout",
     "output_type": "stream",
     "text": [
      "Model saved to /Users/sadhvichandragiri/desktop/coding/ZHAW_Project/ML_BigData_Repo_1/models/random_forest_smore_using_dask_threshold_0.3_Train.pkl\n"
     ]
    }
   ],
   "source": [
    "import pickle\n",
    "import os\n",
    "\n",
    "# Specify the output directory\n",
    "output_dir_model = '/Users/sadhvichandragiri/desktop/coding/ZHAW_Project/ML_BigData_Repo_1/models'\n",
    "if not os.path.exists(output_dir_model):\n",
    "    os.makedirs(output_dir_model)  # Ensure the directory exists\n",
    "\n",
    "# Define model filename\n",
    "model_outputfilename = f\"{model_specs.replace(' ', '_').replace(',', '').lower()}_{dataset_type}.pkl\"\n",
    "\n",
    "# Save the model\n",
    "with open(os.path.join(output_dir_model, model_outputfilename), 'wb') as model_file:\n",
    "    pickle.dump(model, model_file)\n",
    "\n",
    "print(f\"Model saved to {os.path.join(output_dir_model, model_outputfilename)}\")\n"
   ]
  },
  {
   "cell_type": "code",
   "execution_count": 670,
   "id": "0d57811b",
   "metadata": {},
   "outputs": [
    {
     "name": "stdout",
     "output_type": "stream",
     "text": [
      "Notebook ended at: Fri Nov  1 13:39:34 2024\n",
      "Total execution time: 11 minutes and 46.73 seconds\n",
      "Random Forest SMORE using DASK Threshold_0.3_Train Ended at...  completed at Fri Nov  1 13:39:34 2024. Elapsed time: 11 minutes and 46.74 seconds\n",
      "\n"
     ]
    }
   ],
   "source": [
    "import os\n",
    "import time\n",
    "\n",
    "# Assuming start_time is defined earlier in the notebook\n",
    "end_time_notebook = time.time()\n",
    "elapsed_time = end_time_notebook - start_time_notebook\n",
    "\n",
    "# Print and format the notebook end time and total execution time\n",
    "print(f\"Notebook ended at: {time.ctime(end_time_notebook)}\")\n",
    "print(f\"Total execution time: {elapsed_time // 60:.0f} minutes and {elapsed_time % 60:.2f} seconds\")\n",
    "\n",
    "\n",
    "log_time(f\"{model_specs}_{dataset_type} Notebook Ended at... \", start_time_notebook)\n"
   ]
  },
  {
   "cell_type": "markdown",
   "id": "44b3bb83",
   "metadata": {},
   "source": [
    "# Observation for this run on SMOTE Run on Train:"
   ]
  },
  {
   "cell_type": "markdown",
   "id": "b6fd9254",
   "metadata": {},
   "source": [
    "### Results with model resulted only 50% accuracy on test daat\n",
    "model = RandomForestClassifier(n_estimators=100, max_depth=20, random_state=42, class_weight='balanced')\n",
    "\n",
    "    \n",
    "        The results indicate that the model performs exceptionally well on the training data, yet fails to generalize on the test data, achieving only around 50% accuracy, with a very low ROC AUC and Precision-Recall AUC. This disparity is a strong indication of overfitting. Here are possible reasons and recommended steps to address this:\n",
    "    Possible Causes of Overfitting\n",
    "\n",
    "        SMOTE with Downsampling: Combining SMOTE and downsampling can create a highly synthetic training set that doesn’t reflect the natural distribution and variance in the test set. This can lead to a model that learns patterns specific to the synthetic data but fails on real, unseen data.\n",
    "\n",
    "        Complexity of the Model: The RandomForestClassifier with high depth (max_depth=20) and a large number of estimators (n_estimators=100) can lead to overfitting, especially when trained on synthetic data. It may memorize patterns that aren’t representative of real-world data.\n",
    "\n",
    "        Class Imbalance in Test Data: The classification report shows a high imbalance in the test set, with the majority class (non-fraud) heavily dominating. This indicates that the model may not generalize well on naturally imbalanced data, as it was trained on a balanced dataset.\n",
    "\n",
    "### Trying now with \n",
    "#### model = RandomForestClassifier(n_estimators=50, max_depth=10, random_state=42, class_weight='balanced')\n"
   ]
  },
  {
   "cell_type": "markdown",
   "id": "44db1ae2",
   "metadata": {},
   "source": [
    "model = RandomForestClassifier(n_estimators=50, max_depth=10, random_state=42, class_weight='balanced') sample factor = 0.4\n",
    "These results suggest that the model is no longer overfitting as severely on the training data. An accuracy of around 88% on the training set, along with balanced precision and recall scores, indicates that the adjustments in sample size and model complexity (lowering n_estimators and max_depth) have improved generalization.\n",
    "Key Insights from the Results\n",
    "\n",
    "    Balanced Precision and Recall: The precision and recall scores are close to each other, which is ideal for fraud detection as both metrics are important in identifying fraud (minority class) without too many false positives.\n",
    "\n",
    "    AUC Scores: The ROC AUC and Precision-Recall AUC scores are both strong, with Precision-Recall AUC at 0.91. This suggests that the model is performing well in distinguishing between fraud and non-fraud cases within the training data."
   ]
  },
  {
   "cell_type": "code",
   "execution_count": null,
   "id": "9c1db5fd",
   "metadata": {},
   "outputs": [],
   "source": []
  },
  {
   "cell_type": "raw",
   "id": "89bf79b3",
   "metadata": {},
   "source": [
    "model = RandomForestClassifier(n_estimators=50, max_depth=10, random_state=42, class_weight='balanced') sample factor = 0.8\n",
    "Balanced Precision and Recall:\n",
    "\n",
    "    The precision and recall for both classes (0.0 for non-fraud and 1.0 for fraud) are close, indicating balanced performance across classes. This is crucial in fraud detection, where you want to minimize both false positives and false negatives.\n",
    "\n",
    "Accuracy and AUC Scores:\n",
    "\n",
    "    An accuracy of 84.72% and ROC AUC of 0.8472 show good performance in distinguishing between fraudulent and non-fraudulent transactions.\n",
    "    The Precision-Recall AUC of 0.8827 suggests that the model is effective at identifying fraud, as this metric is particularly relevant in imbalanced datasets.\n",
    "\n",
    "Top Features:\n",
    "\n",
    "    The most important features are dominated by interaction terms involving merch_lat and merch_long (latitude and longitude of the merchant), which likely capture location-based patterns. These features may help the model identify unusual transaction locations, often a sign of potential fraud.\n",
    "    Transaction amounts and counts over various time frames (e.g., AverageTransactionAmountLast7Days, TransactionCountLast7Days) are also highly influential, which aligns well with typical patterns in fraudulent behavior."
   ]
  },
  {
   "cell_type": "code",
   "execution_count": null,
   "id": "b76c97bb",
   "metadata": {},
   "outputs": [],
   "source": []
  },
  {
   "cell_type": "markdown",
   "id": "312fcf8d",
   "metadata": {},
   "source": [
    "    samople factor = 1.0 full data \n",
    "    model = RandomForestClassifier(n_estimators=50, max_depth=10, random_state=42, class_weight='balanced')\n",
    "    \n",
    "    Training Accuracy and AUC Scores:\n",
    "        Accuracy: At 80.2%, the model has a balanced accuracy score that is more realistic and reflects better generalization compared to earlier overfitted runs.\n",
    "        ROC AUC Score: At 0.802, this suggests that the model is generally effective at distinguishing between fraud and non-fraud cases.\n",
    "        Precision-Recall AUC: The Precision-Recall AUC of 0.854 indicates a strong performance in identifying fraud cases, which is a critical metric in fraud detection.\n",
    "\n",
    "    Balanced Precision and Recall:\n",
    "        The precision and recall values are well-balanced for both classes (0.0 for non-fraud and 1.0 for fraud), with precision around 78-82% and recall around 77-83%.\n",
    "        This balance is crucial in fraud detection, as it suggests the model isn’t overly biased toward the majority class, reducing both false positives and false negatives effectively.\n",
    "\n",
    "    Class Distribution and Handling:\n",
    "        With downsampling of the majority class followed by SMOTE to balance the data, the model seems to have achieved a reasonable trade-off between capturing sufficient fraud cases and maintaining generalizability.\n",
    "\n",
    "Next Steps\n",
    "\n",
    "    Evaluate on the Test Set (fraudTest.csv):"
   ]
  },
  {
   "cell_type": "code",
   "execution_count": null,
   "id": "72358366",
   "metadata": {},
   "outputs": [],
   "source": []
  },
  {
   "cell_type": "markdown",
   "id": "aa6afd35",
   "metadata": {},
   "source": [
    "model = RandomForestClassifier(n_estimators=100, max_depth=10, random_state=42, class_weight={0: 1, 1: 10})\n",
    "\n",
    "Training Accuracy: 0.5029976019184652\n",
    "Classification Report (Train):\n",
    "               precision    recall  f1-score   support\n",
    "\n",
    "         0.0       1.00      0.01      0.01      7506\n",
    "         1.0       0.50      1.00      0.67      7506\n",
    "\n",
    "    accuracy                           0.50     15012\n",
    "   macro avg       0.75      0.50      0.34     15012\n",
    "weighted avg       0.75      0.50      0.34     15012\n",
    "\n",
    "Train ROC AUC: 0.5029976019184652\n",
    "Train Precision-Recall AUC: 0.7507516536380037"
   ]
  },
  {
   "cell_type": "code",
   "execution_count": null,
   "id": "340e874a",
   "metadata": {},
   "outputs": [],
   "source": []
  }
 ],
 "metadata": {
  "kernelspec": {
   "display_name": "Python (ZHAW_Project)",
   "language": "python",
   "name": "zhaw_project"
  },
  "language_info": {
   "codemirror_mode": {
    "name": "ipython",
    "version": 3
   },
   "file_extension": ".py",
   "mimetype": "text/x-python",
   "name": "python",
   "nbconvert_exporter": "python",
   "pygments_lexer": "ipython3",
   "version": "3.10.15"
  }
 },
 "nbformat": 4,
 "nbformat_minor": 5
}
