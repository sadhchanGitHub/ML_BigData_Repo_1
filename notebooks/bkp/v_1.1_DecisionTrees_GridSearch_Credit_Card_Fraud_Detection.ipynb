{
 "cells": [
  {
   "cell_type": "markdown",
   "id": "cc821639",
   "metadata": {},
   "source": [
    "# v2 - Decision Trees GridSearch \n",
    "\n",
    "1. Using DASK to lad Initial Dataset\n",
    "2. MultiProcessing for FeatureEngineering - distance, count_transactions_within_last_hour,betweeness centrality, "
   ]
  },
  {
   "cell_type": "code",
   "execution_count": 138,
   "id": "d3e22053",
   "metadata": {},
   "outputs": [],
   "source": [
    "import os\n",
    "import time\n",
    "import numpy as np\n",
    "import pandas as pd\n",
    "import matplotlib.pyplot as plt\n",
    "import seaborn as sns\n",
    "import networkx as nx\n",
    "from sklearn import preprocessing\n",
    "from sklearn.model_selection import GridSearchCV\n",
    "from sklearn.model_selection import train_test_split\n",
    "from sklearn.linear_model import LogisticRegression\n",
    "from sklearn.linear_model import LinearRegression\n",
    "from sklearn.tree import DecisionTreeClassifier\n",
    "import geopy\n",
    "from geopy.distance import geodesic\n",
    "import pickle\n"
   ]
  },
  {
   "cell_type": "code",
   "execution_count": 139,
   "id": "d3ff9499",
   "metadata": {},
   "outputs": [],
   "source": [
    "import sys\n",
    "sys.path.append('../references')  # Add the references folder to the system path\n"
   ]
  },
  {
   "cell_type": "code",
   "execution_count": 140,
   "id": "d635934b",
   "metadata": {},
   "outputs": [],
   "source": [
    "model_specs = 'DecisionTrees_GridSearch'"
   ]
  },
  {
   "cell_type": "code",
   "execution_count": 141,
   "id": "ab52f294",
   "metadata": {},
   "outputs": [],
   "source": [
    "start_time_notebook = time.time()\n"
   ]
  },
  {
   "cell_type": "code",
   "execution_count": 142,
   "id": "08142377",
   "metadata": {},
   "outputs": [],
   "source": [
    "start_time = time.time()\n"
   ]
  },
  {
   "cell_type": "code",
   "execution_count": 143,
   "id": "c56c046a",
   "metadata": {},
   "outputs": [],
   "source": [
    "# Directory to save the figures \n",
    "\n",
    "input_src_dir = '/Users/sadhvichandragiri/desktop/coding/ZHAW_Project/ML_BigData_Repo_1/data/raw'\n",
    "output_dir_figures_train = '/Users/sadhvichandragiri/desktop/coding/ZHAW_Project/ML_BigData_Repo_1/reports/figures/train_figures'\n",
    "output_dir_figures_test = '/Users/sadhvichandragiri/desktop/coding/ZHAW_Project/ML_BigData_Repo_1/reports/figures/test_figures'\n",
    "reports_output_dir = '/Users/sadhvichandragiri/desktop/coding/ZHAW_Project/ML_BigData_Repo_1/reports'"
   ]
  },
  {
   "cell_type": "code",
   "execution_count": 144,
   "id": "e37d27bd",
   "metadata": {},
   "outputs": [],
   "source": [
    "# Define which dataset to use\n",
    "use_test_data = True  # Set to True when using fraudtest.csv\n",
    "\n",
    "# Determine dataset type based on the variable\n",
    "dataset_type = 'Test' if use_test_data else 'Train'\n",
    "\n",
    "# Load the appropriate dataset\n",
    "\n",
    "if use_test_data:\n",
    "    output_dir_figures = output_dir_figures_test\n",
    "else:\n",
    "    output_dir_figures = output_dir_figures_train"
   ]
  },
  {
   "cell_type": "code",
   "execution_count": 145,
   "id": "bd0bc5e2",
   "metadata": {},
   "outputs": [],
   "source": [
    "# Generate the preprocess file name dynamically\n",
    "# Get the current timestamp\n",
    "timestamp = time.strftime(\"%Y%m%d_%H%M%S\")  # Format: YYYYMMDD_HHMMSS\n",
    "\n",
    "logfile_title = 'LogFile'\n",
    "logfile_name = f\"{model_specs}_{dataset_type}_{logfile_title.replace(',', '').lower().split('.')[0]}_{timestamp}.txt\"\n",
    "\n",
    "logfile_path = os.path.join(reports_output_dir, logfile_name)\n",
    "\n",
    "# Function to log times to a file\n",
    "def log_time(step_name, start_time):\n",
    "    end_time = time.time()\n",
    "    elapsed_time = end_time - start_time\n",
    "    log_message = (f\"{step_name} completed at {time.ctime(end_time)}. \"\n",
    "                   f\"Elapsed time: {elapsed_time // 60:.0f} minutes and {elapsed_time % 60:.2f} seconds\\n\")\n",
    "    \n",
    "    # Append log to file\n",
    "    with open(logfile_path, 'a') as f:\n",
    "        f.write(log_message)\n",
    "    \n",
    "    # Print the message to the console as well\n",
    "    print(log_message)\n"
   ]
  },
  {
   "cell_type": "raw",
   "id": "5fde3bf7",
   "metadata": {},
   "source": [
    "# Load the appropriate dataset\n",
    "\n",
    "if use_test_data:\n",
    "    df = pd.read_csv(f\"{input_src_dir}/fraudTest.csv\")  # Concatenate the directory with the filename\n",
    "else:\n",
    "    df = pd.read_csv(f\"{input_src_dir}/fraudTrain.csv\")\n"
   ]
  },
  {
   "cell_type": "code",
   "execution_count": 146,
   "id": "383fd5cc",
   "metadata": {},
   "outputs": [
    {
     "name": "stdout",
     "output_type": "stream",
     "text": [
      "DecisionTrees_Balanced_SMOTE_GridSearch_Test Notebook  started at...  completed at Fri Nov  1 22:57:50 2024. Elapsed time: 0 minutes and 0.05 seconds\n",
      "\n"
     ]
    }
   ],
   "source": [
    "\n",
    "log_time(f\"{model_specs}_{dataset_type} Notebook  started at... \", start_time_notebook)\n",
    "start_time = time.time()\n"
   ]
  },
  {
   "cell_type": "code",
   "execution_count": 147,
   "id": "5de3b281",
   "metadata": {},
   "outputs": [
    {
     "name": "stdout",
     "output_type": "stream",
     "text": [
      "Starting the DASK Client completed at Fri Nov  1 22:57:50 2024. Elapsed time: 0 minutes and 0.01 seconds\n",
      "\n"
     ]
    },
    {
     "name": "stderr",
     "output_type": "stream",
     "text": [
      "/Users/sadhvichandragiri/opt/anaconda3/envs/ZHAW_Project/lib/python3.10/site-packages/distributed/node.py:187: UserWarning: Port 8787 is already in use.\n",
      "Perhaps you already have a cluster running?\n",
      "Hosting the HTTP server on port 62295 instead\n",
      "  warnings.warn(\n"
     ]
    }
   ],
   "source": [
    "from dask.distributed import Client\n",
    "from sklearn.ensemble import RandomForestClassifier\n",
    "import dask.dataframe as dd\n",
    "\n",
    "log_time(\"Starting the DASK Client\", start_time)\n",
    "\n",
    "# Start Dask client\n",
    "client = Client()"
   ]
  },
  {
   "cell_type": "code",
   "execution_count": 148,
   "id": "78faa26a",
   "metadata": {},
   "outputs": [],
   "source": [
    "\n",
    "\n",
    "# Load the dataset directly into Dask\n",
    "if use_test_data:\n",
    "    df_pre = dd.read_csv(f\"{input_src_dir}/fraudTest.csv\", assume_missing=True)\n",
    "else:\n",
    "    df_pre = dd.read_csv(f\"{input_src_dir}/fraudTrain.csv\", assume_missing=True)\n",
    "\n",
    "\n",
    "# Now proceed with preprocessing, feature engineering, and model training on `df`\n"
   ]
  },
  {
   "cell_type": "code",
   "execution_count": 149,
   "id": "66bca2a9",
   "metadata": {},
   "outputs": [
    {
     "name": "stdout",
     "output_type": "stream",
     "text": [
      "Number of partitions: 5\n",
      "Columns: Index(['Unnamed: 0', 'TransactionTime', 'CreditCardNumber', 'merchant',\n",
      "       'category', 'TransactionAmount', 'first', 'last', 'gender', 'street',\n",
      "       'city', 'state', 'zip', 'lat', 'long', 'city_pop', 'job', 'DateOfBirth',\n",
      "       'trans_num', 'unix_time', 'merch_lat', 'merch_long', 'is_fraud'],\n",
      "      dtype='object')\n",
      "   Unnamed: 0      TransactionTime  CreditCardNumber  \\\n",
      "0         0.0  2020-06-21 12:14:25      2.291164e+15   \n",
      "1         1.0  2020-06-21 12:14:33      3.573030e+15   \n",
      "2         2.0  2020-06-21 12:14:53      3.598215e+15   \n",
      "3         3.0  2020-06-21 12:15:15      3.591920e+15   \n",
      "4         4.0  2020-06-21 12:15:17      3.526826e+15   \n",
      "\n",
      "                               merchant        category  TransactionAmount  \\\n",
      "0                 fraud_Kirlin and Sons   personal_care               2.86   \n",
      "1                  fraud_Sporer-Keebler   personal_care              29.84   \n",
      "2  fraud_Swaniawski, Nitzsche and Welch  health_fitness              41.28   \n",
      "3                     fraud_Haley Group        misc_pos              60.05   \n",
      "4                 fraud_Johnston-Casper          travel               3.19   \n",
      "\n",
      "    first      last gender                       street  ...      lat  \\\n",
      "0    Jeff   Elliott      M            351 Darlene Green  ...  33.9659   \n",
      "1  Joanne  Williams      F             3638 Marsh Union  ...  40.3207   \n",
      "2  Ashley     Lopez      F         9333 Valentine Point  ...  40.6729   \n",
      "3   Brian  Williams      M  32941 Krystal Mill Apt. 552  ...  28.5697   \n",
      "4  Nathan    Massey      M     5783 Evan Roads Apt. 465  ...  44.2529   \n",
      "\n",
      "       long  city_pop                     job  DateOfBirth  \\\n",
      "0  -80.9355  333497.0     Mechanical engineer   1968-03-19   \n",
      "1 -110.4360     302.0  Sales professional, IT   1990-01-17   \n",
      "2  -73.5365   34496.0       Librarian, public   1970-10-21   \n",
      "3  -80.8191   54767.0            Set designer   1987-07-25   \n",
      "4  -85.0170    1126.0      Furniture designer   1955-07-06   \n",
      "\n",
      "                          trans_num     unix_time  merch_lat  merch_long  \\\n",
      "0  2da90c7d74bd46a0caf3777415b3ebd3  1.371817e+09  33.986391  -81.200714   \n",
      "1  324cc204407e99f51b0d6ca0055005e7  1.371817e+09  39.450498 -109.960431   \n",
      "2  c81755dbbbea9d5c77f094348a7579be  1.371817e+09  40.495810  -74.196111   \n",
      "3  2159175b9efe66dc301f149d3d5abf8c  1.371817e+09  28.812398  -80.883061   \n",
      "4  57ff021bd3f328f8738bb535c302a31b  1.371817e+09  44.959148  -85.884734   \n",
      "\n",
      "   is_fraud  \n",
      "0       0.0  \n",
      "1       0.0  \n",
      "2       0.0  \n",
      "3       0.0  \n",
      "4       0.0  \n",
      "\n",
      "[5 rows x 23 columns]\n"
     ]
    }
   ],
   "source": [
    "# Optionally repartition the dataset if necessary\n",
    "df_pre = df_pre.repartition(npartitions=5)\n",
    "\n",
    "\n",
    "# Strip whitespace from column names and rename\n",
    "df_pre.columns = df_pre.columns.str.strip()\n",
    "df_pre = df_pre.rename(columns={'amt': 'TransactionAmount', 'cc_num': 'CreditCardNumber', 'dob': 'DateOfBirth', 'trans_date_trans_time': 'TransactionTime'})\n",
    "\n",
    "# Repartition to ensure consistency\n",
    "df_pre = df_pre.repartition(npartitions=5)\n",
    "\n",
    "# Preview without converting to Pandas\n",
    "print(\"Number of partitions:\", df_pre.npartitions)\n",
    "print(\"Columns:\", df_pre.columns)\n",
    "print(df_pre.head())  # No .compute() here\n",
    "\n",
    "# Final transformations or computations\n",
    "# Only use .compute() at the very end if needed, for example:\n",
    "df = df_pre.compute()  # Converts to Pandas for the entire dataset\n"
   ]
  },
  {
   "cell_type": "code",
   "execution_count": 150,
   "id": "ccf4f812",
   "metadata": {},
   "outputs": [
    {
     "name": "stdout",
     "output_type": "stream",
     "text": [
      "Index(['Unnamed: 0', 'TransactionTime', 'CreditCardNumber', 'merchant',\n",
      "       'category', 'TransactionAmount', 'first', 'last', 'gender', 'street',\n",
      "       'city', 'state', 'zip', 'lat', 'long', 'city_pop', 'job', 'DateOfBirth',\n",
      "       'trans_num', 'unix_time', 'merch_lat', 'merch_long', 'is_fraud'],\n",
      "      dtype='object')\n",
      "(555719, 23)\n"
     ]
    }
   ],
   "source": [
    "print(df.columns)\n",
    "print(df.shape)\n"
   ]
  },
  {
   "cell_type": "code",
   "execution_count": 151,
   "id": "15d07d02",
   "metadata": {},
   "outputs": [],
   "source": [
    "df.columns = df.columns.str.strip()\n"
   ]
  },
  {
   "cell_type": "code",
   "execution_count": 152,
   "id": "eb234480",
   "metadata": {},
   "outputs": [
    {
     "name": "stdout",
     "output_type": "stream",
     "text": [
      "Index(['Unnamed: 0', 'TransactionTime', 'CreditCardNumber', 'merchant',\n",
      "       'category', 'TransactionAmount', 'first', 'last', 'gender', 'street',\n",
      "       'city', 'state', 'zip', 'lat', 'long', 'city_pop', 'job', 'DateOfBirth',\n",
      "       'trans_num', 'unix_time', 'merch_lat', 'merch_long', 'is_fraud'],\n",
      "      dtype='object')\n"
     ]
    }
   ],
   "source": [
    "df = df.rename(columns={'amt': 'TransactionAmount', 'cc_num': 'CreditCardNumber', 'dob': 'DateOfBirth', 'trans_date_trans_time': 'TransactionTime'})\n",
    "print(df.columns)\n"
   ]
  },
  {
   "cell_type": "code",
   "execution_count": 153,
   "id": "74f4c2d9",
   "metadata": {},
   "outputs": [
    {
     "name": "stdout",
     "output_type": "stream",
     "text": [
      "Columns: Index(['Unnamed: 0', 'TransactionTime', 'CreditCardNumber', 'merchant',\n",
      "       'category', 'TransactionAmount', 'first', 'last', 'gender', 'street',\n",
      "       'city', 'state', 'zip', 'lat', 'long', 'city_pop', 'job', 'DateOfBirth',\n",
      "       'trans_num', 'unix_time', 'merch_lat', 'merch_long', 'is_fraud',\n",
      "       'TransactionID'],\n",
      "      dtype='object')\n"
     ]
    }
   ],
   "source": [
    "# Convert to Pandas and generate TransactionID\n",
    "df = df_pre.compute()\n",
    "df = df.reset_index(drop=True)\n",
    "df['TransactionID'] = df.index + 1  # Unique TransactionID\n",
    "\n",
    "print(\"Columns:\", df.columns)\n"
   ]
  },
  {
   "cell_type": "code",
   "execution_count": 154,
   "id": "d454f706",
   "metadata": {},
   "outputs": [
    {
     "name": "stdout",
     "output_type": "stream",
     "text": [
      "is_fraud\n",
      "0.0    553574\n",
      "1.0      2145\n",
      "Name: count, dtype: int64\n",
      "is_fraud\n",
      "0.0    99.614014\n",
      "1.0     0.385986\n",
      "Name: proportion, dtype: float64\n"
     ]
    }
   ],
   "source": [
    "# Count of fraud and non-fraud transactions\n",
    "fraud_counts = df['is_fraud'].value_counts()\n",
    "print(fraud_counts)\n",
    "\n",
    "# Optionally, you can get it in percentage terms\n",
    "fraud_percentage = df['is_fraud'].value_counts(normalize=True) * 100\n",
    "print(fraud_percentage)"
   ]
  },
  {
   "cell_type": "code",
   "execution_count": 155,
   "id": "5c60dd27",
   "metadata": {},
   "outputs": [
    {
     "data": {
      "text/plain": [
       "924"
      ]
     },
     "execution_count": 155,
     "metadata": {},
     "output_type": "execute_result"
    }
   ],
   "source": [
    "#how many unique credit cards in the data set ??\n",
    "df['CreditCardNumber'].nunique()"
   ]
  },
  {
   "cell_type": "code",
   "execution_count": 156,
   "id": "391577c3",
   "metadata": {},
   "outputs": [
    {
     "name": "stdout",
     "output_type": "stream",
     "text": [
      "Index(['Unnamed: 0', 'TransactionTime', 'CreditCardNumber', 'merchant',\n",
      "       'category', 'TransactionAmount', 'first', 'last', 'gender', 'street',\n",
      "       'city', 'state', 'zip', 'lat', 'long', 'city_pop', 'job', 'DateOfBirth',\n",
      "       'trans_num', 'unix_time', 'merch_lat', 'merch_long', 'is_fraud',\n",
      "       'TransactionID'],\n",
      "      dtype='object')\n"
     ]
    }
   ],
   "source": [
    "print(df.columns)"
   ]
  },
  {
   "cell_type": "code",
   "execution_count": 157,
   "id": "75b3c066",
   "metadata": {},
   "outputs": [],
   "source": [
    "# Convert TransactionTime to datetime\n",
    "df['TransactionTime'] = pd.to_datetime(df['TransactionTime'])\n",
    "\n",
    "# Optional: Convert DateOfBirth to datetime, if needed\n",
    "df['DateOfBirth'] = pd.to_datetime(df['DateOfBirth'], errors='coerce')"
   ]
  },
  {
   "cell_type": "code",
   "execution_count": 158,
   "id": "52941f07",
   "metadata": {},
   "outputs": [
    {
     "name": "stdout",
     "output_type": "stream",
     "text": [
      "DatetimeIndex(['2020-06-21 12:14:25', '2020-06-21 12:14:33',\n",
      "               '2020-06-21 12:14:53', '2020-06-21 12:15:15',\n",
      "               '2020-06-21 12:15:17', '2020-06-21 12:15:37',\n",
      "               '2020-06-21 12:15:44', '2020-06-21 12:15:50',\n",
      "               '2020-06-21 12:16:10', '2020-06-21 12:16:11',\n",
      "               ...\n",
      "               '2020-12-31 23:57:18', '2020-12-31 23:57:50',\n",
      "               '2020-12-31 23:57:56', '2020-12-31 23:58:04',\n",
      "               '2020-12-31 23:58:34', '2020-12-31 23:59:07',\n",
      "               '2020-12-31 23:59:09', '2020-12-31 23:59:15',\n",
      "               '2020-12-31 23:59:24', '2020-12-31 23:59:34'],\n",
      "              dtype='datetime64[ns]', name='TransactionTime', length=555719, freq=None)\n"
     ]
    }
   ],
   "source": [
    "# Set 'TransactionTime' as the index permanently\n",
    "df.set_index('TransactionTime', inplace=True)\n",
    "\n",
    "# Verify the index\n",
    "print(df.index)\n"
   ]
  },
  {
   "cell_type": "code",
   "execution_count": 159,
   "id": "55397673",
   "metadata": {},
   "outputs": [
    {
     "name": "stdout",
     "output_type": "stream",
     "text": [
      "Minimum Transaction Time: 2020-06-21 12:14:25\n",
      "Maximum Transaction Time: 2020-12-31 23:59:34\n"
     ]
    }
   ],
   "source": [
    "# Get the minimum and maximum transaction times from the index\n",
    "min_time = df.index.min()\n",
    "max_time = df.index.max()\n",
    "\n",
    "print(f\"Minimum Transaction Time: {min_time}\")\n",
    "print(f\"Maximum Transaction Time: {max_time}\")\n"
   ]
  },
  {
   "cell_type": "code",
   "execution_count": 160,
   "id": "a1fc7ac7",
   "metadata": {},
   "outputs": [
    {
     "data": {
      "text/html": [
       "<div>\n",
       "<style scoped>\n",
       "    .dataframe tbody tr th:only-of-type {\n",
       "        vertical-align: middle;\n",
       "    }\n",
       "\n",
       "    .dataframe tbody tr th {\n",
       "        vertical-align: top;\n",
       "    }\n",
       "\n",
       "    .dataframe thead th {\n",
       "        text-align: right;\n",
       "    }\n",
       "</style>\n",
       "<table border=\"1\" class=\"dataframe\">\n",
       "  <thead>\n",
       "    <tr style=\"text-align: right;\">\n",
       "      <th></th>\n",
       "      <th>Unnamed: 0</th>\n",
       "      <th>CreditCardNumber</th>\n",
       "      <th>merchant</th>\n",
       "      <th>category</th>\n",
       "      <th>TransactionAmount</th>\n",
       "      <th>first</th>\n",
       "      <th>last</th>\n",
       "      <th>gender</th>\n",
       "      <th>street</th>\n",
       "      <th>city</th>\n",
       "      <th>...</th>\n",
       "      <th>long</th>\n",
       "      <th>city_pop</th>\n",
       "      <th>job</th>\n",
       "      <th>DateOfBirth</th>\n",
       "      <th>trans_num</th>\n",
       "      <th>unix_time</th>\n",
       "      <th>merch_lat</th>\n",
       "      <th>merch_long</th>\n",
       "      <th>is_fraud</th>\n",
       "      <th>TransactionID</th>\n",
       "    </tr>\n",
       "    <tr>\n",
       "      <th>TransactionTime</th>\n",
       "      <th></th>\n",
       "      <th></th>\n",
       "      <th></th>\n",
       "      <th></th>\n",
       "      <th></th>\n",
       "      <th></th>\n",
       "      <th></th>\n",
       "      <th></th>\n",
       "      <th></th>\n",
       "      <th></th>\n",
       "      <th></th>\n",
       "      <th></th>\n",
       "      <th></th>\n",
       "      <th></th>\n",
       "      <th></th>\n",
       "      <th></th>\n",
       "      <th></th>\n",
       "      <th></th>\n",
       "      <th></th>\n",
       "      <th></th>\n",
       "      <th></th>\n",
       "    </tr>\n",
       "  </thead>\n",
       "  <tbody>\n",
       "    <tr>\n",
       "      <th>2020-06-21 12:14:25</th>\n",
       "      <td>0.0</td>\n",
       "      <td>2.291164e+15</td>\n",
       "      <td>fraud_Kirlin and Sons</td>\n",
       "      <td>personal_care</td>\n",
       "      <td>2.86</td>\n",
       "      <td>Jeff</td>\n",
       "      <td>Elliott</td>\n",
       "      <td>M</td>\n",
       "      <td>351 Darlene Green</td>\n",
       "      <td>Columbia</td>\n",
       "      <td>...</td>\n",
       "      <td>-80.9355</td>\n",
       "      <td>333497.0</td>\n",
       "      <td>Mechanical engineer</td>\n",
       "      <td>1968-03-19</td>\n",
       "      <td>2da90c7d74bd46a0caf3777415b3ebd3</td>\n",
       "      <td>1.371817e+09</td>\n",
       "      <td>33.986391</td>\n",
       "      <td>-81.200714</td>\n",
       "      <td>0.0</td>\n",
       "      <td>1</td>\n",
       "    </tr>\n",
       "    <tr>\n",
       "      <th>2020-06-21 12:14:33</th>\n",
       "      <td>1.0</td>\n",
       "      <td>3.573030e+15</td>\n",
       "      <td>fraud_Sporer-Keebler</td>\n",
       "      <td>personal_care</td>\n",
       "      <td>29.84</td>\n",
       "      <td>Joanne</td>\n",
       "      <td>Williams</td>\n",
       "      <td>F</td>\n",
       "      <td>3638 Marsh Union</td>\n",
       "      <td>Altonah</td>\n",
       "      <td>...</td>\n",
       "      <td>-110.4360</td>\n",
       "      <td>302.0</td>\n",
       "      <td>Sales professional, IT</td>\n",
       "      <td>1990-01-17</td>\n",
       "      <td>324cc204407e99f51b0d6ca0055005e7</td>\n",
       "      <td>1.371817e+09</td>\n",
       "      <td>39.450498</td>\n",
       "      <td>-109.960431</td>\n",
       "      <td>0.0</td>\n",
       "      <td>2</td>\n",
       "    </tr>\n",
       "    <tr>\n",
       "      <th>2020-06-21 12:14:53</th>\n",
       "      <td>2.0</td>\n",
       "      <td>3.598215e+15</td>\n",
       "      <td>fraud_Swaniawski, Nitzsche and Welch</td>\n",
       "      <td>health_fitness</td>\n",
       "      <td>41.28</td>\n",
       "      <td>Ashley</td>\n",
       "      <td>Lopez</td>\n",
       "      <td>F</td>\n",
       "      <td>9333 Valentine Point</td>\n",
       "      <td>Bellmore</td>\n",
       "      <td>...</td>\n",
       "      <td>-73.5365</td>\n",
       "      <td>34496.0</td>\n",
       "      <td>Librarian, public</td>\n",
       "      <td>1970-10-21</td>\n",
       "      <td>c81755dbbbea9d5c77f094348a7579be</td>\n",
       "      <td>1.371817e+09</td>\n",
       "      <td>40.495810</td>\n",
       "      <td>-74.196111</td>\n",
       "      <td>0.0</td>\n",
       "      <td>3</td>\n",
       "    </tr>\n",
       "    <tr>\n",
       "      <th>2020-06-21 12:15:15</th>\n",
       "      <td>3.0</td>\n",
       "      <td>3.591920e+15</td>\n",
       "      <td>fraud_Haley Group</td>\n",
       "      <td>misc_pos</td>\n",
       "      <td>60.05</td>\n",
       "      <td>Brian</td>\n",
       "      <td>Williams</td>\n",
       "      <td>M</td>\n",
       "      <td>32941 Krystal Mill Apt. 552</td>\n",
       "      <td>Titusville</td>\n",
       "      <td>...</td>\n",
       "      <td>-80.8191</td>\n",
       "      <td>54767.0</td>\n",
       "      <td>Set designer</td>\n",
       "      <td>1987-07-25</td>\n",
       "      <td>2159175b9efe66dc301f149d3d5abf8c</td>\n",
       "      <td>1.371817e+09</td>\n",
       "      <td>28.812398</td>\n",
       "      <td>-80.883061</td>\n",
       "      <td>0.0</td>\n",
       "      <td>4</td>\n",
       "    </tr>\n",
       "    <tr>\n",
       "      <th>2020-06-21 12:15:17</th>\n",
       "      <td>4.0</td>\n",
       "      <td>3.526826e+15</td>\n",
       "      <td>fraud_Johnston-Casper</td>\n",
       "      <td>travel</td>\n",
       "      <td>3.19</td>\n",
       "      <td>Nathan</td>\n",
       "      <td>Massey</td>\n",
       "      <td>M</td>\n",
       "      <td>5783 Evan Roads Apt. 465</td>\n",
       "      <td>Falmouth</td>\n",
       "      <td>...</td>\n",
       "      <td>-85.0170</td>\n",
       "      <td>1126.0</td>\n",
       "      <td>Furniture designer</td>\n",
       "      <td>1955-07-06</td>\n",
       "      <td>57ff021bd3f328f8738bb535c302a31b</td>\n",
       "      <td>1.371817e+09</td>\n",
       "      <td>44.959148</td>\n",
       "      <td>-85.884734</td>\n",
       "      <td>0.0</td>\n",
       "      <td>5</td>\n",
       "    </tr>\n",
       "  </tbody>\n",
       "</table>\n",
       "<p>5 rows × 23 columns</p>\n",
       "</div>"
      ],
      "text/plain": [
       "                     Unnamed: 0  CreditCardNumber  \\\n",
       "TransactionTime                                     \n",
       "2020-06-21 12:14:25         0.0      2.291164e+15   \n",
       "2020-06-21 12:14:33         1.0      3.573030e+15   \n",
       "2020-06-21 12:14:53         2.0      3.598215e+15   \n",
       "2020-06-21 12:15:15         3.0      3.591920e+15   \n",
       "2020-06-21 12:15:17         4.0      3.526826e+15   \n",
       "\n",
       "                                                 merchant        category  \\\n",
       "TransactionTime                                                             \n",
       "2020-06-21 12:14:25                 fraud_Kirlin and Sons   personal_care   \n",
       "2020-06-21 12:14:33                  fraud_Sporer-Keebler   personal_care   \n",
       "2020-06-21 12:14:53  fraud_Swaniawski, Nitzsche and Welch  health_fitness   \n",
       "2020-06-21 12:15:15                     fraud_Haley Group        misc_pos   \n",
       "2020-06-21 12:15:17                 fraud_Johnston-Casper          travel   \n",
       "\n",
       "                     TransactionAmount   first      last gender  \\\n",
       "TransactionTime                                                   \n",
       "2020-06-21 12:14:25               2.86    Jeff   Elliott      M   \n",
       "2020-06-21 12:14:33              29.84  Joanne  Williams      F   \n",
       "2020-06-21 12:14:53              41.28  Ashley     Lopez      F   \n",
       "2020-06-21 12:15:15              60.05   Brian  Williams      M   \n",
       "2020-06-21 12:15:17               3.19  Nathan    Massey      M   \n",
       "\n",
       "                                          street        city  ...      long  \\\n",
       "TransactionTime                                               ...             \n",
       "2020-06-21 12:14:25            351 Darlene Green    Columbia  ...  -80.9355   \n",
       "2020-06-21 12:14:33             3638 Marsh Union     Altonah  ... -110.4360   \n",
       "2020-06-21 12:14:53         9333 Valentine Point    Bellmore  ...  -73.5365   \n",
       "2020-06-21 12:15:15  32941 Krystal Mill Apt. 552  Titusville  ...  -80.8191   \n",
       "2020-06-21 12:15:17     5783 Evan Roads Apt. 465    Falmouth  ...  -85.0170   \n",
       "\n",
       "                     city_pop                     job  DateOfBirth  \\\n",
       "TransactionTime                                                      \n",
       "2020-06-21 12:14:25  333497.0     Mechanical engineer   1968-03-19   \n",
       "2020-06-21 12:14:33     302.0  Sales professional, IT   1990-01-17   \n",
       "2020-06-21 12:14:53   34496.0       Librarian, public   1970-10-21   \n",
       "2020-06-21 12:15:15   54767.0            Set designer   1987-07-25   \n",
       "2020-06-21 12:15:17    1126.0      Furniture designer   1955-07-06   \n",
       "\n",
       "                                            trans_num     unix_time  \\\n",
       "TransactionTime                                                       \n",
       "2020-06-21 12:14:25  2da90c7d74bd46a0caf3777415b3ebd3  1.371817e+09   \n",
       "2020-06-21 12:14:33  324cc204407e99f51b0d6ca0055005e7  1.371817e+09   \n",
       "2020-06-21 12:14:53  c81755dbbbea9d5c77f094348a7579be  1.371817e+09   \n",
       "2020-06-21 12:15:15  2159175b9efe66dc301f149d3d5abf8c  1.371817e+09   \n",
       "2020-06-21 12:15:17  57ff021bd3f328f8738bb535c302a31b  1.371817e+09   \n",
       "\n",
       "                     merch_lat  merch_long  is_fraud  TransactionID  \n",
       "TransactionTime                                                      \n",
       "2020-06-21 12:14:25  33.986391  -81.200714       0.0              1  \n",
       "2020-06-21 12:14:33  39.450498 -109.960431       0.0              2  \n",
       "2020-06-21 12:14:53  40.495810  -74.196111       0.0              3  \n",
       "2020-06-21 12:15:15  28.812398  -80.883061       0.0              4  \n",
       "2020-06-21 12:15:17  44.959148  -85.884734       0.0              5  \n",
       "\n",
       "[5 rows x 23 columns]"
      ]
     },
     "execution_count": 160,
     "metadata": {},
     "output_type": "execute_result"
    }
   ],
   "source": [
    "df.head()"
   ]
  },
  {
   "cell_type": "code",
   "execution_count": 161,
   "id": "10777762",
   "metadata": {},
   "outputs": [
    {
     "name": "stdout",
     "output_type": "stream",
     "text": [
      "Initial Steps Completed File Loading, Describe, Date Conversions etc..   completed at Fri Nov  1 22:58:06 2024. Elapsed time: 0 minutes and 16.00 seconds\n",
      "\n",
      "--------------------------------------------------- ------------------   completed at Fri Nov  1 22:58:06 2024. Elapsed time: 0 minutes and 16.00 seconds\n",
      "\n"
     ]
    }
   ],
   "source": [
    "log_time(\"Initial Steps Completed File Loading, Describe, Date Conversions etc..  \", start_time)\n",
    "log_time(\"--------------------------------------------------- ------------------  \", start_time)"
   ]
  },
  {
   "cell_type": "markdown",
   "id": "e4b32d0d",
   "metadata": {},
   "source": [
    "# Feature Engineering"
   ]
  },
  {
   "cell_type": "code",
   "execution_count": 162,
   "id": "ca771ac4",
   "metadata": {},
   "outputs": [],
   "source": [
    "# Log pre-process time at various steps\n",
    "start_time = time.time()\n"
   ]
  },
  {
   "cell_type": "code",
   "execution_count": 163,
   "id": "a2a6ec4c",
   "metadata": {},
   "outputs": [
    {
     "name": "stdout",
     "output_type": "stream",
     "text": [
      "START - Feature Engineering .....   completed at Fri Nov  1 22:58:06 2024. Elapsed time: 0 minutes and 0.01 seconds\n",
      "\n"
     ]
    }
   ],
   "source": [
    "log_time(\"START - Feature Engineering .....  \", start_time)\n",
    "start_time = time.time()"
   ]
  },
  {
   "cell_type": "code",
   "execution_count": 164,
   "id": "31252f6e",
   "metadata": {},
   "outputs": [],
   "source": [
    "\n",
    "# Clip outliers if necessary\n",
    "df['TransactionAmount'] = df['TransactionAmount'].clip(upper=df['TransactionAmount'].quantile(0.99))\n",
    "\n"
   ]
  },
  {
   "cell_type": "code",
   "execution_count": 165,
   "id": "bf9e3c7a",
   "metadata": {},
   "outputs": [
    {
     "name": "stderr",
     "output_type": "stream",
     "text": [
      "/var/folders/xp/synrlbr15rx4pkqjmwqk80k80000gn/T/ipykernel_4742/1075701793.py:2: FutureWarning: A value is trying to be set on a copy of a DataFrame or Series through chained assignment using an inplace method.\n",
      "The behavior will change in pandas 3.0. This inplace method will never work because the intermediate object on which we are setting values always behaves as a copy.\n",
      "\n",
      "For example, when doing 'df[col].method(value, inplace=True)', try using 'df.method({col: value}, inplace=True)' or df[col] = df[col].method(value) instead, to perform the operation inplace on the original object.\n",
      "\n",
      "\n",
      "  df['TransactionAmount'].replace([np.inf, -np.inf], np.nan, inplace=True)\n"
     ]
    }
   ],
   "source": [
    "\n",
    "# Replace inf values with NaN (in case they exist in the 'TransactionAmount' column)\n",
    "df['TransactionAmount'].replace([np.inf, -np.inf], np.nan, inplace=True)\n"
   ]
  },
  {
   "cell_type": "markdown",
   "id": "2b21308e",
   "metadata": {},
   "source": [
    "# next type of VIZ via transaction id vs transaction count\n"
   ]
  },
  {
   "cell_type": "code",
   "execution_count": 166,
   "id": "70594f9d",
   "metadata": {},
   "outputs": [],
   "source": [
    "# Extract hour from TransactionTime\n",
    "df['Hour'] = df.index.hour  # Since TransactionTime is already set as the index\n"
   ]
  },
  {
   "cell_type": "code",
   "execution_count": 167,
   "id": "ea729e48",
   "metadata": {},
   "outputs": [
    {
     "name": "stdout",
     "output_type": "stream",
     "text": [
      "High-Risk Hours: [22, 23, 3, 0, 2, 1]\n",
      "                     Hour  HighRiskHour\n",
      "TransactionTime                        \n",
      "2020-06-21 12:14:25    12             0\n",
      "2020-06-21 12:14:33    12             0\n",
      "2020-06-21 12:14:53    12             0\n",
      "2020-06-21 12:15:15    12             0\n",
      "2020-06-21 12:15:17    12             0\n",
      "...                   ...           ...\n",
      "2020-12-31 23:59:07    23             1\n",
      "2020-12-31 23:59:09    23             1\n",
      "2020-12-31 23:59:15    23             1\n",
      "2020-12-31 23:59:24    23             1\n",
      "2020-12-31 23:59:34    23             1\n",
      "\n",
      "[555719 rows x 2 columns]\n"
     ]
    }
   ],
   "source": [
    "# Calculate fraud rate by hour\n",
    "fraud_rate_by_hour = df.groupby('Hour')['is_fraud'].mean()\n",
    "\n",
    "# Sort by fraud rate in descending order\n",
    "fraud_rate_by_hour = fraud_rate_by_hour.sort_values(ascending=False)\n",
    "\n",
    "# Define a threshold for high-risk hours (adjust as needed)\n",
    "threshold = fraud_rate_by_hour.mean()  # Mean fraud rate across all hours\n",
    "\n",
    "# Dynamically identify high-risk hours based on the threshold\n",
    "high_risk_hours = fraud_rate_by_hour[fraud_rate_by_hour > threshold].index.tolist()\n",
    "\n",
    "# Print high-risk hours for reference\n",
    "print(\"High-Risk Hours:\", high_risk_hours)\n",
    "\n",
    "# Create the HighRiskHour flag based on dynamically identified high-risk hours\n",
    "df['HighRiskHour'] = df['Hour'].apply(lambda x: 1 if x in high_risk_hours else 0)\n",
    "\n",
    "# Print a sample of the DataFrame to verify the new column\n",
    "print(df[['Hour', 'HighRiskHour']])\n"
   ]
  },
  {
   "cell_type": "markdown",
   "id": "e75736fa",
   "metadata": {},
   "source": [
    "1. Time-Based Analysis:\n",
    "Already explored daily and hourly trends in transaction volumes, but now dive deeper into fraud patterns based on time.\n",
    "\n"
   ]
  },
  {
   "cell_type": "code",
   "execution_count": 168,
   "id": "a61c0eb4",
   "metadata": {
    "scrolled": true
   },
   "outputs": [],
   "source": [
    "#Weekday vs. Weekend: Is fraud more common on weekdays or weekends?\n",
    "df['DayOfWeek'] = df.index.dayofweek  # 0 = Monday, 6 = Sunday\n",
    "fraud_by_day = df[df['is_fraud'] == 1]['DayOfWeek'].value_counts().sort_index()\n",
    "non_fraud_by_day = df[df['is_fraud'] == 0]['DayOfWeek'].value_counts().sort_index()\n",
    "\n"
   ]
  },
  {
   "cell_type": "code",
   "execution_count": 169,
   "id": "f0d77fc0",
   "metadata": {},
   "outputs": [],
   "source": [
    "\n",
    "# Define the correct day order\n",
    "day_order = ['Sunday', 'Monday', 'Tuesday', 'Wednesday', 'Thursday', 'Friday', 'Saturday']\n",
    "\n",
    "\n",
    "df['DayName'] = df.index.day_name()\n",
    "# Convert the 'DayName' column to a categorical type with the correct order\n",
    "df['DayName'] = pd.Categorical(df['DayName'], categories=day_order, ordered=True)\n",
    "\n",
    "fraud_by_day = df[df['is_fraud'] == 1]['DayName'].value_counts().sort_index()\n",
    "non_fraud_by_day = df[df['is_fraud'] == 0]['DayName'].value_counts().sort_index()\n",
    "\n"
   ]
  },
  {
   "cell_type": "code",
   "execution_count": 170,
   "id": "3edc7f62",
   "metadata": {},
   "outputs": [
    {
     "name": "stdout",
     "output_type": "stream",
     "text": [
      "Percentage of fraud on weekends: 29.84%\n",
      "Percentage of non-fraud on weekends: 27.95%\n"
     ]
    }
   ],
   "source": [
    "df['IsWeekend'] = df['DayOfWeek'].apply(lambda x: 1 if x >= 5 else 0)\n",
    "weekend_fraud = df[df['is_fraud'] == 1]['IsWeekend'].mean()\n",
    "weekend_non_fraud = df[df['is_fraud'] == 0]['IsWeekend'].mean()\n",
    "\n",
    "print(f\"Percentage of fraud on weekends: {weekend_fraud * 100:.2f}%\")\n",
    "print(f\"Percentage of non-fraud on weekends: {weekend_non_fraud * 100:.2f}%\")\n"
   ]
  },
  {
   "cell_type": "code",
   "execution_count": 171,
   "id": "67a62065",
   "metadata": {},
   "outputs": [
    {
     "name": "stdout",
     "output_type": "stream",
     "text": [
      "Part1 - TrxAmount, Hour, DayOfWeeek etc.. completed at Fri Nov  1 22:58:07 2024. Elapsed time: 0 minutes and 1.11 seconds\n",
      "\n"
     ]
    }
   ],
   "source": [
    "log_time(\"Part1 - TrxAmount, Hour, DayOfWeeek etc..\", start_time)\n",
    "start_time = time.time()\n"
   ]
  },
  {
   "cell_type": "raw",
   "id": "b51d0f2e",
   "metadata": {},
   "source": [
    "# Calculate distance between cardholder and merchant\n",
    "df['distance'] = df.apply(lambda row: geodesic((row['lat'], row['long']), (row['merch_lat'], row['merch_long'])).km, axis=1)\n"
   ]
  },
  {
   "cell_type": "code",
   "execution_count": 172,
   "id": "1f04c2dd",
   "metadata": {},
   "outputs": [
    {
     "name": "stdout",
     "output_type": "stream",
     "text": [
      "['.DS_Store', 'v_2.0_RandomForest_Credit_Card_Fraud_Detection.ipynb', 'v_2.1_RandomForest_Balanced_SMOTE_Credit_Card_Fraud_Detection.ipynb', 'v_2.2_RandomForest_Balanced_SMOTE_GridSearch_Credit_Card_Fraud_Detection.ipynb', 'v_0.0_LogisticRegression_Credit_Card_Fraud_Detection.ipynb', 'v_3.2_xgBoost_Credit_Card_Fraud_Detection.ipynb', '.gitkeep', 'v_3.1_xgBoost_SMOTE_Credit_Card_Fraud_Detection.ipynb', 'v_2.1_RandomForest_Balanced_SMOTE_Credit_Card_Fraud_Detection.ipynb copy', '__pycache__', 'v_0.1_LogisticRegression_Balanced_Credit_Card_Fraud_Detection.ipynb', '.ipynb_checkpoints', 'v_1.0_DecisionTrees_Credit_Card_Fraud_Detection.ipynb', 'v_1.1_DecisionTrees_Credit_Card_Fraud_Detection.ipynb']\n"
     ]
    }
   ],
   "source": [
    "import os\n",
    "print(os.listdir())  # List all files in the current directory\n"
   ]
  },
  {
   "cell_type": "markdown",
   "id": "3f3a9514",
   "metadata": {},
   "source": [
    "# MULTIPROCESSING : distance"
   ]
  },
  {
   "cell_type": "code",
   "execution_count": 173,
   "id": "40c0bbf1",
   "metadata": {
    "scrolled": true
   },
   "outputs": [
    {
     "name": "stderr",
     "output_type": "stream",
     "text": [
      "/Users/sadhvichandragiri/opt/anaconda3/envs/ZHAW_Project/lib/python3.10/site-packages/numpy/core/fromnumeric.py:59: FutureWarning: 'DataFrame.swapaxes' is deprecated and will be removed in a future version. Please use 'DataFrame.transpose' instead.\n",
      "  return bound(*args, **kwds)\n"
     ]
    },
    {
     "name": "stdout",
     "output_type": "stream",
     "text": [
      "Part2 - Distance Calculation with Multiprocessing (4 cores) completed at Fri Nov  1 22:58:44 2024. Elapsed time: 0 minutes and 36.96 seconds\n",
      "\n",
      "                         lat      long  merch_lat  merch_long    distance\n",
      "TransactionTime                                                          \n",
      "2020-06-21 12:14:25  33.9659  -80.9355  33.986391  -81.200714   24.613746\n",
      "2020-06-21 12:14:33  40.3207 -110.4360  39.450498 -109.960431  104.834043\n",
      "2020-06-21 12:14:53  40.6729  -73.5365  40.495810  -74.196111   59.204796\n",
      "2020-06-21 12:15:15  28.5697  -80.8191  28.812398  -80.883061   27.615117\n",
      "2020-06-21 12:15:17  44.2529  -85.0170  44.959148  -85.884734  104.423175\n"
     ]
    }
   ],
   "source": [
    "import pandas as pd\n",
    "from geopy.distance import geodesic\n",
    "import multiprocessing as mp\n",
    "import numpy as np\n",
    "import time\n",
    "import sys\n",
    "from distance_calculation import calculate_distance_chunk\n",
    "\n",
    "start_time = time.time()\n",
    "\n",
    "\n",
    "# Add the current working directory to the system path\n",
    "sys.path.append(os.getcwd())\n",
    "\n",
    "# Multiprocessing function to split the dataframe and apply the distance calculation\n",
    "def parallel_distance_calculation(df, num_partitions=None):\n",
    "    if num_partitions is None:\n",
    "        num_partitions = mp.cpu_count()  # Use all available CPU cores\n",
    "    \n",
    "    # Split the dataframe into chunks\n",
    "    df_split = np.array_split(df, num_partitions)\n",
    "    \n",
    "    # Create a multiprocessing Pool\n",
    "    with mp.Pool(num_partitions) as pool:\n",
    "        # Apply the calculate_distance_chunk function to each chunk in parallel\n",
    "        result = pool.map(calculate_distance_chunk, df_split)\n",
    "    \n",
    "    # Concatenate the results back into a single dataframe\n",
    "    return pd.concat(result)\n",
    "\n",
    "# Main block to ensure multiprocessing works correctly\n",
    "if __name__ == \"__main__\":\n",
    "    start_time = time.time()\n",
    "\n",
    "    # Assuming df has the columns ['lat', 'long', 'merch_lat', 'merch_long']\n",
    "    \n",
    "    # Run with limited number of cores (e.g., 4 cores)\n",
    "    df = parallel_distance_calculation(df, num_partitions=4)  # Use 4 cores instead of all available cores\n",
    "\n",
    "    # Log the time taken for distance calculation with multiprocessing\n",
    "    log_time(\"Part2 - Distance Calculation with Multiprocessing (4 cores)\", start_time)\n",
    "\n",
    "    # Check the first few rows to verify the result\n",
    "    print(df[['lat', 'long', 'merch_lat', 'merch_long', 'distance']].head())\n"
   ]
  },
  {
   "cell_type": "code",
   "execution_count": 174,
   "id": "7c72a4a8",
   "metadata": {},
   "outputs": [
    {
     "name": "stdout",
     "output_type": "stream",
     "text": [
      "/Users/sadhvichandragiri/Desktop/coding/ZHAW_Project/ML_BigData_Repo_1/notebooks\n"
     ]
    }
   ],
   "source": [
    "import os\n",
    "print(os.getcwd())  # This will print the current working directory\n"
   ]
  },
  {
   "cell_type": "markdown",
   "id": "8f985dcd",
   "metadata": {},
   "source": [
    "log_time(\"Part2 -  Distance Calculation\", start_time)\n",
    "start_time = time.time()\n"
   ]
  },
  {
   "cell_type": "code",
   "execution_count": 175,
   "id": "50a155e1",
   "metadata": {},
   "outputs": [
    {
     "data": {
      "text/plain": [
       "array([0., 1.])"
      ]
     },
     "execution_count": 175,
     "metadata": {},
     "output_type": "execute_result"
    }
   ],
   "source": [
    "# Check unique values in the 'is_fraud' column\n",
    "df['is_fraud'].unique()\n"
   ]
  },
  {
   "cell_type": "code",
   "execution_count": 176,
   "id": "09d464f8",
   "metadata": {},
   "outputs": [],
   "source": [
    "# Fraud vs Non-Fraud by Merchant Category\n",
    "fraud_by_category = df[df['is_fraud'] == 1]['category'].value_counts().head(10)\n",
    "non_fraud_by_category = df[df['is_fraud'] == 0]['category'].value_counts().head(10)\n",
    "\n"
   ]
  },
  {
   "cell_type": "code",
   "execution_count": 177,
   "id": "07ec224f",
   "metadata": {},
   "outputs": [
    {
     "name": "stdout",
     "output_type": "stream",
     "text": [
      "Top Fraudulent Merchant Categories: ['shopping_net', 'grocery_pos', 'misc_net', 'shopping_pos', 'gas_transport']\n"
     ]
    }
   ],
   "source": [
    "# Top 5 categories with the highest fraud counts\n",
    "top_fraud_merchant_categories = df[df['is_fraud'] == 1]['category'].value_counts().head(5).index.tolist()\n",
    "\n",
    "# Print top fraudulent categories\n",
    "print(\"Top Fraudulent Merchant Categories:\", top_fraud_merchant_categories)\n",
    "\n",
    "# Create HighRiskMerchantCategory flag\n",
    "df['HighRiskMerchantCategory'] = df['category'].apply(lambda x: 1 if x in top_fraud_merchant_categories else 0)\n",
    "\n"
   ]
  },
  {
   "cell_type": "code",
   "execution_count": 178,
   "id": "7780b1bb",
   "metadata": {},
   "outputs": [
    {
     "name": "stdout",
     "output_type": "stream",
     "text": [
      "HighRiskMerchantCategory\n",
      "0    327859\n",
      "1    227860\n",
      "Name: count, dtype: int64\n"
     ]
    }
   ],
   "source": [
    "# Print the count of 1s and 0s in HighRiskMerchantCategory\n",
    "print(df['HighRiskMerchantCategory'].value_counts())\n"
   ]
  },
  {
   "cell_type": "markdown",
   "id": "df499da3",
   "metadata": {},
   "source": [
    "# Potential Additional Features:\n",
    "Transaction Frequency:\n",
    "    Feature: How often a credit card has been used within a specific time frame (e.g., last hour or day).\n",
    "    Why: Fraudsters often make rapid successive transactions within short periods. You could create a rolling window to calculate transaction frequency.\n",
    "    How: You could calculate the number of transactions within the past X hours/days using a rolling window on the TransactionTime feature."
   ]
  },
  {
   "cell_type": "markdown",
   "id": "828d3a0e",
   "metadata": {},
   "source": [
    "#age group"
   ]
  },
  {
   "cell_type": "code",
   "execution_count": 179,
   "id": "221b8eda",
   "metadata": {},
   "outputs": [],
   "source": [
    "import pandas as pd\n",
    "\n",
    "# Ensure 'DateOfBirth' is in datetime format\n",
    "df['DateOfBirth'] = pd.to_datetime(df['DateOfBirth'], errors='coerce')  # Handle errors during conversion\n",
    "\n",
    "# Step 1: Calculate Age\n",
    "# Calculate age in years\n",
    "df['Age'] = (pd.Timestamp.now() - df['DateOfBirth']).dt.days // 365  # Age in years\n",
    "\n",
    "# Step 2: Create Age Groups\n",
    "# Define age bins and labels\n",
    "bins = [0, 18, 25, 35, 45, 55, 65, 100]  # Define your age bins, ensuring to cover all possible ages\n",
    "labels = ['0-18', '19-25', '26-35', '36-45', '46-55', '56-65', '66+']  # Corresponding labels\n",
    "\n",
    "# Create age group feature, include NaN values handling\n",
    "df['AgeGroup'] = pd.cut(df['Age'], bins=bins, labels=labels, right=False, include_lowest=True)\n",
    "\n",
    "# Verify the new features without truncating DataFrame\n",
    "#print(df[['DateOfBirth', 'Age', 'AgeGroup']].head(10))  # Display the first 10 entries\n"
   ]
  },
  {
   "cell_type": "code",
   "execution_count": 180,
   "id": "296a6aa7",
   "metadata": {},
   "outputs": [
    {
     "name": "stdout",
     "output_type": "stream",
     "text": [
      "Part3 - Merchant Categories & Age group completed at Fri Nov  1 22:58:45 2024. Elapsed time: 0 minutes and 37.53 seconds\n",
      "\n"
     ]
    }
   ],
   "source": [
    "log_time(\"Part3 - Merchant Categories & Age group\", start_time)\n",
    "start_time = time.time()\n"
   ]
  },
  {
   "cell_type": "markdown",
   "id": "39bc72de",
   "metadata": {},
   "source": [
    "# MULTIPROCESSING : count_transactions_within_last_hour"
   ]
  },
  {
   "cell_type": "code",
   "execution_count": 181,
   "id": "620555a5",
   "metadata": {},
   "outputs": [
    {
     "name": "stderr",
     "output_type": "stream",
     "text": [
      "/Users/sadhvichandragiri/opt/anaconda3/envs/ZHAW_Project/lib/python3.10/site-packages/numpy/core/fromnumeric.py:59: FutureWarning: 'DataFrame.swapaxes' is deprecated and will be removed in a future version. Please use 'DataFrame.transpose' instead.\n",
      "  return bound(*args, **kwds)\n"
     ]
    },
    {
     "name": "stdout",
     "output_type": "stream",
     "text": [
      "Part4 - TransactionFrequency Multiprocessing completed at Fri Nov  1 23:00:15 2024. Elapsed time: 1 minutes and 30.21 seconds\n",
      "\n",
      "                    TransactionFrequency\n",
      "TransactionTime                         \n",
      "2020-06-21 12:14:25                  NaN\n",
      "2020-06-21 12:14:33                  NaN\n",
      "2020-06-21 12:14:53                  NaN\n",
      "2020-06-21 12:15:15                  NaN\n",
      "2020-06-21 12:15:17                  NaN\n",
      "2020-06-21 12:15:37                  NaN\n",
      "2020-06-21 12:15:44                  NaN\n",
      "2020-06-21 12:15:50                  NaN\n",
      "2020-06-21 12:16:10                  NaN\n",
      "2020-06-21 12:16:11                  NaN\n"
     ]
    }
   ],
   "source": [
    "import pandas as pd\n",
    "import multiprocessing as mp\n",
    "import numpy as np\n",
    "import time\n",
    "from transaction_frequency import process_chunk  # Import from the .py file\n",
    "\n",
    "# Multiprocessing function to parallelize the transaction counting\n",
    "def parallel_count_transactions(df, num_partitions=None):\n",
    "    if num_partitions is None:\n",
    "        num_partitions = mp.cpu_count()  # Use all available CPU cores\n",
    "    \n",
    "    # Ensure the index is a datetime\n",
    "    df.index = pd.to_datetime(df.index)\n",
    "    \n",
    "    # Split the dataframe into chunks based on the number of partitions (CPU cores)\n",
    "    df_split = np.array_split(df, num_partitions)\n",
    "    \n",
    "    # Create a multiprocessing Pool\n",
    "    with mp.Pool(num_partitions) as pool:\n",
    "        # Apply the processing function to each chunk in parallel\n",
    "        result = pool.map(process_chunk, df_split)\n",
    "    \n",
    "    # Combine the results from each chunk into a single series, reset index for consistency\n",
    "    return pd.concat(result).reset_index(drop=True)\n",
    "\n",
    "# Assuming df has 'CreditCardNumber' as a column and transaction times are indexed\n",
    "if __name__ == \"__main__\":\n",
    "    start_time = time.time()\n",
    "\n",
    "    # Apply the parallel processing for transaction frequency counting\n",
    "    df['TransactionFrequency'] = parallel_count_transactions(df, num_partitions=4)  # Adjust num_partitions as needed\n",
    "\n",
    "    # Log the time taken for transaction frequency calculation with multiprocessing\n",
    "    log_time(\"Part4 - TransactionFrequency Multiprocessing\", start_time)\n",
    "\n",
    "    # Check the first 10 rows\n",
    "    print(df[['TransactionFrequency']].head(10))\n"
   ]
  },
  {
   "cell_type": "code",
   "execution_count": 182,
   "id": "f3e571f3",
   "metadata": {},
   "outputs": [
    {
     "name": "stdout",
     "output_type": "stream",
     "text": [
      "DatetimeIndex(['2020-06-21 12:14:25', '2020-06-21 12:14:33',\n",
      "               '2020-06-21 12:14:53', '2020-06-21 12:15:15',\n",
      "               '2020-06-21 12:15:17', '2020-06-21 12:15:37',\n",
      "               '2020-06-21 12:15:44', '2020-06-21 12:15:50',\n",
      "               '2020-06-21 12:16:10', '2020-06-21 12:16:11',\n",
      "               ...\n",
      "               '2020-12-31 23:57:18', '2020-12-31 23:57:50',\n",
      "               '2020-12-31 23:57:56', '2020-12-31 23:58:04',\n",
      "               '2020-12-31 23:58:34', '2020-12-31 23:59:07',\n",
      "               '2020-12-31 23:59:09', '2020-12-31 23:59:15',\n",
      "               '2020-12-31 23:59:24', '2020-12-31 23:59:34'],\n",
      "              dtype='datetime64[ns]', name='TransactionTime', length=555719, freq=None)\n"
     ]
    }
   ],
   "source": [
    "df.index = pd.to_datetime(df.index)\n",
    "print(df.index)"
   ]
  },
  {
   "cell_type": "code",
   "execution_count": null,
   "id": "96249ca1",
   "metadata": {},
   "outputs": [],
   "source": []
  },
  {
   "cell_type": "code",
   "execution_count": 183,
   "id": "dadb160e",
   "metadata": {},
   "outputs": [
    {
     "name": "stderr",
     "output_type": "stream",
     "text": [
      "/var/folders/xp/synrlbr15rx4pkqjmwqk80k80000gn/T/ipykernel_4742/1490275857.py:2: FutureWarning: 'H' is deprecated and will be removed in a future version, please use 'h' instead.\n",
      "  transaction_counts_hourly = df.resample('H').size()\n",
      "/var/folders/xp/synrlbr15rx4pkqjmwqk80k80000gn/T/ipykernel_4742/1490275857.py:6: FutureWarning: 'H' is deprecated and will be removed in a future version, please use 'h' instead.\n",
      "  transaction_counts = df.groupby('CreditCardNumber').resample('H').size().reset_index(name='TransactionCount')\n"
     ]
    },
    {
     "name": "stdout",
     "output_type": "stream",
     "text": [
      "   CreditCardNumber     TransactionTime  TransactionCount\n",
      "0      6.041621e+10 2020-06-21 13:00:00                 1\n",
      "1      6.041621e+10 2020-06-21 14:00:00                 0\n",
      "2      6.041621e+10 2020-06-21 15:00:00                 0\n",
      "3      6.041621e+10 2020-06-21 16:00:00                 1\n",
      "4      6.041621e+10 2020-06-21 17:00:00                 0\n",
      "5      6.041621e+10 2020-06-21 18:00:00                 0\n",
      "6      6.041621e+10 2020-06-21 19:00:00                 0\n",
      "7      6.041621e+10 2020-06-21 20:00:00                 0\n",
      "8      6.041621e+10 2020-06-21 21:00:00                 0\n",
      "9      6.041621e+10 2020-06-21 22:00:00                 0\n"
     ]
    }
   ],
   "source": [
    "# Resample the data to count transactions every hour\n",
    "transaction_counts_hourly = df.resample('H').size()\n",
    "transaction_counts_daily = df.resample('D').size()\n",
    "\n",
    "# Combine with CreditCardNumber if necessary\n",
    "transaction_counts = df.groupby('CreditCardNumber').resample('H').size().reset_index(name='TransactionCount')\n",
    "print(transaction_counts.head(10))"
   ]
  },
  {
   "cell_type": "code",
   "execution_count": 184,
   "id": "97c19713",
   "metadata": {},
   "outputs": [
    {
     "name": "stdout",
     "output_type": "stream",
     "text": [
      "   CreditCardNumber  TotalTransactionCount\n",
      "0      6.041621e+10                    678\n",
      "1      6.042293e+10                    669\n",
      "2      6.042310e+10                    228\n",
      "3      6.042785e+10                    215\n",
      "4      6.048700e+10                    239\n",
      "5      6.049060e+10                    455\n",
      "6      6.049559e+10                    224\n",
      "7      5.018030e+11                    635\n",
      "8      5.018282e+11                    218\n",
      "9      5.018311e+11                    439\n"
     ]
    }
   ],
   "source": [
    "total_transactions = df.groupby('CreditCardNumber').size().reset_index(name='TotalTransactionCount')\n",
    "print(total_transactions.head(10))\n"
   ]
  },
  {
   "cell_type": "code",
   "execution_count": 185,
   "id": "aef71d2a",
   "metadata": {},
   "outputs": [
    {
     "name": "stdout",
     "output_type": "stream",
     "text": [
      "2020-06-21    1908\n",
      "2020-06-22    3834\n",
      "2020-06-23    3602\n",
      "2020-06-24    1352\n",
      "2020-06-25    1578\n",
      "              ... \n",
      "2020-12-27    5183\n",
      "2020-12-28    6212\n",
      "2020-12-29    6123\n",
      "2020-12-30    2630\n",
      "2020-12-31    3044\n",
      "Length: 194, dtype: int64\n",
      "          Unnamed: 0  CreditCardNumber  TransactionAmount            zip  \\\n",
      "count  478827.000000      4.788270e+05      478827.000000  478827.000000   \n",
      "mean   282352.474282      4.156977e+17          63.671204   48855.657540   \n",
      "min         1.000000      6.041621e+10           1.000000    1257.000000   \n",
      "25%    139140.500000      1.800429e+14           9.510000   26292.000000   \n",
      "50%    283432.000000      3.521417e+15          46.370000   48174.000000   \n",
      "75%    429493.500000      4.635331e+15          82.260000   72042.000000   \n",
      "max    555718.000000      4.992346e+18         519.854600   99921.000000   \n",
      "std    163611.709333      1.306822e+18          78.874224   26858.296762   \n",
      "\n",
      "                 lat           long      city_pop  \\\n",
      "count  478827.000000  478827.000000  4.788270e+05   \n",
      "mean       38.539326     -90.234740  8.885169e+04   \n",
      "min        20.027100    -165.672300  2.300000e+01   \n",
      "25%        34.668900     -96.798000  7.430000e+02   \n",
      "50%        39.371600     -87.476900  2.435000e+03   \n",
      "75%        41.894800     -80.175200  2.032800e+04   \n",
      "max        65.689900     -67.950300  2.906700e+06   \n",
      "std         5.065466      13.723696  3.021841e+05   \n",
      "\n",
      "                         DateOfBirth     unix_time      merch_lat  \\\n",
      "count                         478827  4.788270e+05  478827.000000   \n",
      "mean   1974-02-03 13:41:54.331898544  1.380814e+09      38.538876   \n",
      "min              1924-10-30 00:00:00  1.371817e+09      19.027849   \n",
      "25%              1963-02-09 00:00:00  1.376035e+09      34.747276   \n",
      "50%              1976-01-02 00:00:00  1.380965e+09      39.373398   \n",
      "75%              1987-05-23 00:00:00  1.386140e+09      41.952671   \n",
      "max              2005-01-29 00:00:00  1.388534e+09      66.674714   \n",
      "std                              NaN  5.291347e+06       5.100154   \n",
      "\n",
      "          merch_long       is_fraud  TransactionID           Hour  \\\n",
      "count  478827.000000  478827.000000  478827.000000  478827.000000   \n",
      "mean      -90.234807       0.003678  282353.474282      13.161858   \n",
      "min      -166.671575       0.000000       2.000000       0.000000   \n",
      "25%       -96.907974       0.000000  139141.500000       8.000000   \n",
      "50%       -87.446584       0.000000  283433.000000      14.000000   \n",
      "75%       -80.267973       0.000000  429494.500000      19.000000   \n",
      "max       -66.952352       1.000000  555719.000000      23.000000   \n",
      "std        13.734943       0.060533  163611.709333       6.736161   \n",
      "\n",
      "        HighRiskHour      DayOfWeek      IsWeekend       distance  \\\n",
      "count  478827.000000  478827.000000  478827.000000  478827.000000   \n",
      "mean        0.229705       2.656360       0.278873      76.103409   \n",
      "min         0.000000       0.000000       0.000000       0.124180   \n",
      "25%         0.000000       1.000000       0.000000      55.305724   \n",
      "50%         0.000000       2.000000       0.000000      78.192864   \n",
      "75%         0.000000       5.000000       1.000000      98.501460   \n",
      "max         1.000000       6.000000       1.000000     150.673743   \n",
      "std         0.420644       2.220847       0.448445      29.101638   \n",
      "\n",
      "       HighRiskMerchantCategory            Age  \n",
      "count             478827.000000  478827.000000  \n",
      "mean                   0.393127      50.285143  \n",
      "min                    0.000000      19.000000  \n",
      "25%                    0.000000      37.000000  \n",
      "50%                    0.000000      48.000000  \n",
      "75%                    1.000000      61.000000  \n",
      "max                    1.000000     100.000000  \n",
      "std                    0.488445      17.411733  \n"
     ]
    }
   ],
   "source": [
    "# Calculate the time difference between consecutive transactions\n",
    "time_diff = df.index.to_series().diff().dt.total_seconds()\n",
    "# Flag rapid transactions (within 5 minutes)\n",
    "df['RapidTransactionFlag'] = time_diff < 60  # For a 1-minute threshold\n",
    "\n",
    "# Create a temporary DataFrame for rapid transactions\n",
    "rapid_transactions = df[df['RapidTransactionFlag']]\n",
    "\n",
    "# Group by date and count the number of rapid transactions\n",
    "rapid_transaction_counts = rapid_transactions.groupby(rapid_transactions.index.date).size()\n",
    "print(rapid_transaction_counts)\n",
    "\n",
    "# Get a summary of the rapid transactions\n",
    "rapid_transactions_summary = rapid_transactions.describe()\n",
    "print(rapid_transactions_summary)\n"
   ]
  },
  {
   "cell_type": "code",
   "execution_count": 186,
   "id": "64e05375",
   "metadata": {},
   "outputs": [
    {
     "name": "stdout",
     "output_type": "stream",
     "text": [
      "Index(['Unnamed: 0', 'CreditCardNumber', 'merchant', 'category',\n",
      "       'TransactionAmount', 'first', 'last', 'gender', 'street', 'city',\n",
      "       'state', 'zip', 'lat', 'long', 'city_pop', 'job', 'DateOfBirth',\n",
      "       'trans_num', 'unix_time', 'merch_lat', 'merch_long', 'is_fraud',\n",
      "       'TransactionID', 'Hour', 'HighRiskHour', 'DayOfWeek', 'DayName',\n",
      "       'IsWeekend', 'distance', 'HighRiskMerchantCategory', 'Age', 'AgeGroup',\n",
      "       'TransactionFrequency', 'RapidTransactionFlag'],\n",
      "      dtype='object')\n"
     ]
    }
   ],
   "source": [
    "print(df.columns)\n"
   ]
  },
  {
   "cell_type": "code",
   "execution_count": 187,
   "id": "bca5e448",
   "metadata": {},
   "outputs": [
    {
     "name": "stdout",
     "output_type": "stream",
     "text": [
      "Part5 - RapidTransactionFlag completed at Fri Nov  1 23:00:20 2024. Elapsed time: 1 minutes and 35.02 seconds\n",
      "\n"
     ]
    }
   ],
   "source": [
    "log_time(\"Part5 - RapidTransactionFlag\", start_time)\n",
    "start_time = time.time()\n"
   ]
  },
  {
   "cell_type": "markdown",
   "id": "eb3b200c",
   "metadata": {},
   "source": [
    "Transaction Amount Features:\n",
    "Log Transaction Amount: Normalize the TransactionAmount by taking its logarithm to reduce skewness.\n",
    "Transaction Amount Flags: Create binary flags for high-value transactions (e.g., if TransactionAmount exceeds a certain threshold)."
   ]
  },
  {
   "cell_type": "code",
   "execution_count": 188,
   "id": "da75a878",
   "metadata": {},
   "outputs": [
    {
     "name": "stdout",
     "output_type": "stream",
     "text": [
      "                     TransactionAmount  LogTransactionAmount  \\\n",
      "TransactionTime                                                \n",
      "2020-06-21 12:14:25               2.86              1.350667   \n",
      "2020-06-21 12:14:33              29.84              3.428813   \n",
      "2020-06-21 12:14:53              41.28              3.744314   \n",
      "2020-06-21 12:15:15              60.05              4.111693   \n",
      "2020-06-21 12:15:17               3.19              1.432701   \n",
      "2020-06-21 12:15:37              19.55              3.022861   \n",
      "2020-06-21 12:15:44             133.93              4.904756   \n",
      "2020-06-21 12:15:50              10.37              2.430978   \n",
      "2020-06-21 12:16:10               4.37              1.680828   \n",
      "2020-06-21 12:16:11              66.54              4.212720   \n",
      "\n",
      "                     HighValueTransactionFlag  \n",
      "TransactionTime                                \n",
      "2020-06-21 12:14:25                     False  \n",
      "2020-06-21 12:14:33                     False  \n",
      "2020-06-21 12:14:53                     False  \n",
      "2020-06-21 12:15:15                     False  \n",
      "2020-06-21 12:15:17                     False  \n",
      "2020-06-21 12:15:37                     False  \n",
      "2020-06-21 12:15:44                      True  \n",
      "2020-06-21 12:15:50                     False  \n",
      "2020-06-21 12:16:10                     False  \n",
      "2020-06-21 12:16:11                     False  \n"
     ]
    }
   ],
   "source": [
    "\n",
    "# Sample DataFrame creation\n",
    "# Assume 'df' is your DataFrame and has a 'TransactionAmount' column\n",
    "# df = pd.read_csv('your_data.csv')  # Load your actual data\n",
    "\n",
    "# Step 1: Log Transaction Amount\n",
    "# Calculate the log of TransactionAmount\n",
    "df['LogTransactionAmount'] = np.log1p(df['TransactionAmount'])  # Use log1p for stability with 0 values\n",
    "\n",
    "# Step 2: Create Transaction Amount Flags\n",
    "# Define a threshold for high-value transactions\n",
    "threshold = 100  # Adjust the threshold based on your data context\n",
    "\n",
    "# Create a flag for high-value transactions\n",
    "df['HighValueTransactionFlag'] = df['TransactionAmount'] > threshold\n",
    "\n",
    "# Verify the new features\n",
    "print(df[['TransactionAmount', 'LogTransactionAmount', 'HighValueTransactionFlag']].head(10))  # Display the first 10 entries\n"
   ]
  },
  {
   "cell_type": "markdown",
   "id": "e217bc43",
   "metadata": {},
   "source": [
    "Behavioral Features:\n",
    "Count of Transactions in Last X Days: Count how many transactions have occurred in the last 7, 14, or 30 days.\n",
    "Average Transaction Amount in Last X Days: Calculate the average transaction amount over the same periods."
   ]
  },
  {
   "cell_type": "code",
   "execution_count": 189,
   "id": "25aeefda",
   "metadata": {},
   "outputs": [
    {
     "name": "stdout",
     "output_type": "stream",
     "text": [
      "                     TransactionCountLast7Days  TransactionCountLast14Days  \\\n",
      "TransactionTime                                                              \n",
      "2020-06-21 13:05:42                        1.0                         1.0   \n",
      "2020-06-21 16:25:36                        2.0                         2.0   \n",
      "2020-06-22 07:58:33                        3.0                         3.0   \n",
      "2020-06-22 15:32:31                        4.0                         4.0   \n",
      "2020-06-23 12:28:54                        5.0                         5.0   \n",
      "2020-06-23 14:24:48                        6.0                         6.0   \n",
      "2020-06-23 16:39:40                        7.0                         7.0   \n",
      "2020-06-23 19:07:05                        8.0                         8.0   \n",
      "2020-06-23 22:45:57                        9.0                         9.0   \n",
      "2020-06-24 04:22:17                       10.0                        10.0   \n",
      "\n",
      "                     TransactionCountLast30Days  \\\n",
      "TransactionTime                                   \n",
      "2020-06-21 13:05:42                         1.0   \n",
      "2020-06-21 16:25:36                         2.0   \n",
      "2020-06-22 07:58:33                         3.0   \n",
      "2020-06-22 15:32:31                         4.0   \n",
      "2020-06-23 12:28:54                         5.0   \n",
      "2020-06-23 14:24:48                         6.0   \n",
      "2020-06-23 16:39:40                         7.0   \n",
      "2020-06-23 19:07:05                         8.0   \n",
      "2020-06-23 22:45:57                         9.0   \n",
      "2020-06-24 04:22:17                        10.0   \n",
      "\n",
      "                     AverageTransactionAmountLast7Days  \\\n",
      "TransactionTime                                          \n",
      "2020-06-21 13:05:42                         124.660000   \n",
      "2020-06-21 16:25:36                         101.590000   \n",
      "2020-06-22 07:58:33                          89.476667   \n",
      "2020-06-22 15:32:31                          89.042500   \n",
      "2020-06-23 12:28:54                         100.838000   \n",
      "2020-06-23 14:24:48                          84.503333   \n",
      "2020-06-23 16:39:40                          73.468571   \n",
      "2020-06-23 19:07:05                          65.056250   \n",
      "2020-06-23 22:45:57                          58.426667   \n",
      "2020-06-24 04:22:17                          57.279000   \n",
      "\n",
      "                     AverageTransactionAmountLast14Days  \\\n",
      "TransactionTime                                           \n",
      "2020-06-21 13:05:42                          124.660000   \n",
      "2020-06-21 16:25:36                          101.590000   \n",
      "2020-06-22 07:58:33                           89.476667   \n",
      "2020-06-22 15:32:31                           89.042500   \n",
      "2020-06-23 12:28:54                          100.838000   \n",
      "2020-06-23 14:24:48                           84.503333   \n",
      "2020-06-23 16:39:40                           73.468571   \n",
      "2020-06-23 19:07:05                           65.056250   \n",
      "2020-06-23 22:45:57                           58.426667   \n",
      "2020-06-24 04:22:17                           57.279000   \n",
      "\n",
      "                     AverageTransactionAmountLast30Days  \n",
      "TransactionTime                                          \n",
      "2020-06-21 13:05:42                          124.660000  \n",
      "2020-06-21 16:25:36                          101.590000  \n",
      "2020-06-22 07:58:33                           89.476667  \n",
      "2020-06-22 15:32:31                           89.042500  \n",
      "2020-06-23 12:28:54                          100.838000  \n",
      "2020-06-23 14:24:48                           84.503333  \n",
      "2020-06-23 16:39:40                           73.468571  \n",
      "2020-06-23 19:07:05                           65.056250  \n",
      "2020-06-23 22:45:57                           58.426667  \n",
      "2020-06-24 04:22:17                           57.279000  \n"
     ]
    }
   ],
   "source": [
    "import pandas as pd\n",
    "\n",
    "# Assuming 'TransactionTime' is already set as the index and in datetime format\n",
    "\n",
    "# Step 1: Count of Transactions in Last X Days\n",
    "for days in [7, 14, 30]:\n",
    "    # Sort data by CreditCardNumber and TransactionTime to ensure rolling works properly\n",
    "    df = df.sort_values(by=['CreditCardNumber', 'TransactionTime'])\n",
    "    \n",
    "    # Apply rolling and count the number of transactions for each card\n",
    "    df[f'TransactionCountLast{days}Days'] = (\n",
    "        df.groupby('CreditCardNumber')['CreditCardNumber']\n",
    "        .rolling(f'{days}D')\n",
    "        .count()\n",
    "        .reset_index(level=0, drop=True)\n",
    "    )\n",
    "\n",
    "# Step 2: Average Transaction Amount in Last X Days\n",
    "for days in [7, 14, 30]:\n",
    "    # Sort data by CreditCardNumber and TransactionTime to ensure rolling works properly\n",
    "    df = df.sort_values(by=['CreditCardNumber', 'TransactionTime'])\n",
    "    \n",
    "    # Calculate the average transaction amount for each credit card in the last X days\n",
    "    df[f'AverageTransactionAmountLast{days}Days'] = (\n",
    "        df.groupby('CreditCardNumber')['TransactionAmount']\n",
    "        .rolling(f'{days}D')\n",
    "        .mean()\n",
    "        .reset_index(level=0, drop=True)\n",
    "    )\n",
    "\n",
    "# Verify the new features\n",
    "print(df[['TransactionCountLast7Days', 'TransactionCountLast14Days', 'TransactionCountLast30Days',\n",
    "           'AverageTransactionAmountLast7Days', 'AverageTransactionAmountLast14Days', 'AverageTransactionAmountLast30Days']].head(10))\n"
   ]
  },
  {
   "cell_type": "code",
   "execution_count": 190,
   "id": "ebcd77cc",
   "metadata": {},
   "outputs": [
    {
     "name": "stdout",
     "output_type": "stream",
     "text": [
      "Index(['Unnamed: 0', 'CreditCardNumber', 'merchant', 'category',\n",
      "       'TransactionAmount', 'first', 'last', 'gender', 'street', 'city',\n",
      "       'state', 'zip', 'lat', 'long', 'city_pop', 'job', 'DateOfBirth',\n",
      "       'trans_num', 'unix_time', 'merch_lat', 'merch_long', 'is_fraud',\n",
      "       'TransactionID', 'Hour', 'HighRiskHour', 'DayOfWeek', 'DayName',\n",
      "       'IsWeekend', 'distance', 'HighRiskMerchantCategory', 'Age', 'AgeGroup',\n",
      "       'TransactionFrequency', 'RapidTransactionFlag', 'LogTransactionAmount',\n",
      "       'HighValueTransactionFlag', 'TransactionCountLast7Days',\n",
      "       'TransactionCountLast14Days', 'TransactionCountLast30Days',\n",
      "       'AverageTransactionAmountLast7Days',\n",
      "       'AverageTransactionAmountLast14Days',\n",
      "       'AverageTransactionAmountLast30Days'],\n",
      "      dtype='object')\n"
     ]
    }
   ],
   "source": [
    "print(df.columns)  # Display all columns in the DataFrame\n"
   ]
  },
  {
   "cell_type": "code",
   "execution_count": 191,
   "id": "bc639c6e",
   "metadata": {},
   "outputs": [
    {
     "name": "stdout",
     "output_type": "stream",
     "text": [
      "Part6 - TransactionCountLast_X_Days & AverageTrxAmountLast_X_Days completed at Fri Nov  1 23:00:25 2024. Elapsed time: 0 minutes and 5.35 seconds\n",
      "\n"
     ]
    }
   ],
   "source": [
    "log_time(\"Part6 - TransactionCountLast_X_Days & AverageTrxAmountLast_X_Days\", start_time)\n",
    "start_time = time.time()\n"
   ]
  },
  {
   "cell_type": "code",
   "execution_count": null,
   "id": "2b0a24a1",
   "metadata": {},
   "outputs": [],
   "source": []
  },
  {
   "cell_type": "markdown",
   "id": "3b4aaef3",
   "metadata": {},
   "source": [
    "# Graph Construction with NetworkX:"
   ]
  },
  {
   "cell_type": "markdown",
   "id": "18793de2",
   "metadata": {},
   "source": [
    "Highlight Fraudulent Nodes: Overlay of fraudulent and non-fraudulent credit cards on this degree distribution to see if there’s a difference in their degrees."
   ]
  },
  {
   "cell_type": "code",
   "execution_count": 192,
   "id": "e26bd1d5",
   "metadata": {},
   "outputs": [
    {
     "name": "stdout",
     "output_type": "stream",
     "text": [
      "Number of unique credit card nodes: 924\n",
      "Number of unique merchant nodes: 693\n",
      "Number of credit card nodes with degrees: 924\n",
      "Number of merchant nodes with degrees: 693\n"
     ]
    }
   ],
   "source": [
    "\n",
    "\n",
    "# Create an empty graph\n",
    "G = nx.Graph()\n",
    "\n",
    "# Add edges between credit cards and merchants, including transaction amount as an edge attribute\n",
    "for idx, row in df.iterrows():\n",
    "    credit_card = str(row['CreditCardNumber'])\n",
    "    merchant = str(row['merchant'])\n",
    "    transaction_amount = row['TransactionAmount']  # Ensure TransactionAmount exists in your dataframe\n",
    "    \n",
    "    # Add an edge with the transaction amount as an attribute\n",
    "    G.add_edge(credit_card, merchant, transaction_amount=transaction_amount)\n",
    "\n",
    "\n",
    "# Calculate degrees for all nodes in the graph\n",
    "degrees = dict(G.degree())\n",
    "\n",
    "# Filter degrees for credit cards and merchants\n",
    "credit_card_nodes = df['CreditCardNumber'].astype(str).unique()\n",
    "merchant_nodes = df['merchant'].astype(str).unique()\n",
    "\n",
    "credit_card_degrees = {node: degrees[node] for node in credit_card_nodes if node in degrees}\n",
    "merchant_degrees = {node: degrees[node] for node in merchant_nodes if node in degrees}\n",
    "\n",
    "# Debugging: Print counts to ensure correctness\n",
    "print(f\"Number of unique credit card nodes: {len(credit_card_nodes)}\")\n",
    "print(f\"Number of unique merchant nodes: {len(merchant_nodes)}\")\n",
    "print(f\"Number of credit card nodes with degrees: {len(credit_card_degrees)}\")\n",
    "print(f\"Number of merchant nodes with degrees: {len(merchant_degrees)}\")\n",
    "\n",
    "# Create a new DataFrame for easier plotting\n",
    "degree_df = pd.DataFrame({\n",
    "    'CreditCardDegree': pd.Series(credit_card_degrees),\n",
    "    'MerchantDegree': pd.Series(merchant_degrees)\n",
    "})\n",
    "\n",
    "\n"
   ]
  },
  {
   "cell_type": "code",
   "execution_count": 193,
   "id": "a55584fd",
   "metadata": {},
   "outputs": [],
   "source": [
    "# Add degree information back to the original DataFrame\n",
    "df['degree'] = df['CreditCardNumber'].astype(str).map(credit_card_degrees)\n",
    "\n"
   ]
  },
  {
   "cell_type": "code",
   "execution_count": 194,
   "id": "6a8f6116",
   "metadata": {},
   "outputs": [],
   "source": [
    "# Check edges and their attributes\n",
    "#for edge in G.edges(data=True):\n",
    "#    print(edge)\n",
    "\n",
    "#do NOT print this, huge list\n"
   ]
  },
  {
   "cell_type": "code",
   "execution_count": 195,
   "id": "a9c525e6",
   "metadata": {},
   "outputs": [],
   "source": [
    "df['CreditCardNumber'] = df['CreditCardNumber'].astype(str)\n"
   ]
  },
  {
   "cell_type": "code",
   "execution_count": 196,
   "id": "5115524e",
   "metadata": {},
   "outputs": [],
   "source": [
    "fraud_mapping = df.set_index('CreditCardNumber')['is_fraud'].to_dict()\n"
   ]
  },
  {
   "cell_type": "code",
   "execution_count": 197,
   "id": "f9e261bf",
   "metadata": {},
   "outputs": [
    {
     "name": "stdout",
     "output_type": "stream",
     "text": [
      "Part7 - NetworkX Start Step completed at Fri Nov  1 23:01:11 2024. Elapsed time: 0 minutes and 46.28 seconds\n",
      "\n"
     ]
    }
   ],
   "source": [
    "log_time(\"Part7 - NetworkX Start Step\", start_time)\n",
    "start_time = time.time()\n"
   ]
  },
  {
   "cell_type": "code",
   "execution_count": null,
   "id": "baa04d62",
   "metadata": {},
   "outputs": [],
   "source": []
  },
  {
   "cell_type": "code",
   "execution_count": 198,
   "id": "e509da70",
   "metadata": {},
   "outputs": [],
   "source": [
    "#print(fraud_mapping.head(5))\n",
    "#only testing purposes"
   ]
  },
  {
   "cell_type": "raw",
   "id": "167571cb",
   "metadata": {},
   "source": [
    "betweenness_centrality"
   ]
  },
  {
   "cell_type": "raw",
   "id": "0093ce9f",
   "metadata": {},
   "source": [
    "# Calculate betweenness centrality\n",
    "betweenness_centrality = nx.betweenness_centrality(G)\n",
    "\n"
   ]
  },
  {
   "cell_type": "markdown",
   "id": "57ac75df",
   "metadata": {},
   "source": [
    "# MULTIPROCESSING : betweenness_centrality"
   ]
  },
  {
   "cell_type": "code",
   "execution_count": 199,
   "id": "50d69fea",
   "metadata": {},
   "outputs": [
    {
     "name": "stdout",
     "output_type": "stream",
     "text": [
      "Part8 - Betweenness Centrality Calculation with Multiprocessing completed at Fri Nov  1 23:34:20 2024. Elapsed time: 33 minutes and 8.13 seconds\n",
      "\n",
      "[('60416207185.0', 6.866934985630104e-05), ('fraud_Kutch-Ferry', 0.0003782526235637667), ('fraud_Halvorson Group', 0.00022372276499079655), ('fraud_Conroy-Cruickshank', 0.00043926880614731214), ('fraud_Larkin Ltd', 0.0003300758225045274), ('fraud_Leffler-Goldner', 0.0002759436321997116), ('fraud_Kihn, Abernathy and Douglas', 0.0002977530309658762), ('fraud_Altenwerth, Cartwright and Koss', 0.0003741107388775957), ('fraud_Cartwright PLC', 0.000338769069184188), ('fraud_Ritchie, Oberbrunner and Cremin', 7.542017831392305e-05)]\n"
     ]
    }
   ],
   "source": [
    "import networkx as nx\n",
    "import time\n",
    "from networkx_graph_betweeness_centrality import parallel_betweenness_centrality\n",
    "\n",
    "# Assuming G is your graph\n",
    "if __name__ == \"__main__\":\n",
    "    start_time = time.time()\n",
    "\n",
    "    # Calculate betweenness centrality using parallel processing\n",
    "    betweenness_centrality = parallel_betweenness_centrality(G, num_partitions=4)  \n",
    "\n",
    "    # Log the time taken for betweenness centrality calculation with multiprocessing\n",
    "    log_time(\"Part8 - Betweenness Centrality Calculation with Multiprocessing\", start_time)\n",
    "    start_time = time.time()\n",
    "\n",
    "    # Check a few centrality values\n",
    "    print(list(betweenness_centrality.items())[:10])\n"
   ]
  },
  {
   "cell_type": "raw",
   "id": "4e7b4462",
   "metadata": {},
   "source": [
    "import os\n",
    "print(os.listdir())\n"
   ]
  },
  {
   "cell_type": "code",
   "execution_count": 200,
   "id": "85bd6fad",
   "metadata": {},
   "outputs": [],
   "source": [
    "df['betweenness_centrality'] = df['CreditCardNumber'].map(betweenness_centrality)\n"
   ]
  },
  {
   "cell_type": "code",
   "execution_count": 201,
   "id": "fb8bf772",
   "metadata": {},
   "outputs": [
    {
     "name": "stdout",
     "output_type": "stream",
     "text": [
      "count    5.557190e+05\n",
      "mean     7.601584e-05\n",
      "std      3.431355e-05\n",
      "min      7.500703e-09\n",
      "25%      4.970571e-05\n",
      "50%      7.859341e-05\n",
      "75%      1.056097e-04\n",
      "max      1.412551e-04\n",
      "Name: betweenness_centrality, dtype: float64\n",
      "0\n"
     ]
    }
   ],
   "source": [
    "print(df['betweenness_centrality'].describe())\n",
    "print(df['betweenness_centrality'].isna().sum())  # Check for missing values\n"
   ]
  },
  {
   "cell_type": "code",
   "execution_count": 202,
   "id": "e5e4b947",
   "metadata": {},
   "outputs": [
    {
     "name": "stdout",
     "output_type": "stream",
     "text": [
      "60416207185: None\n",
      "fraud_Kutch-Ferry: 0.0003782526235637667\n"
     ]
    }
   ],
   "source": [
    "# Check betweenness centrality for specific credit card numbers\n",
    "sample_nodes = ['60416207185', 'fraud_Kutch-Ferry']  # Replace with actual nodes\n",
    "for node in sample_nodes:\n",
    "    print(f\"{node}: {betweenness_centrality.get(node)}\")\n"
   ]
  },
  {
   "cell_type": "markdown",
   "id": "439124c6",
   "metadata": {},
   "source": [
    "1. Investigate Nodes with High Betweenness Centrality:\n",
    "\n",
    "Now that you’ve visualized nodes with high betweenness centrality, you can:\n",
    "\n",
    "    Examine if fraudulent nodes tend to have high betweenness centrality. This might indicate that these nodes are acting as \"connectors\" between different parts of the network, which could be a sign of suspicious behavior.\n",
    "    Compare centrality between fraud and non-fraud nodes to see if there's a pattern.\n",
    "\n"
   ]
  },
  {
   "cell_type": "markdown",
   "id": "b13fdd8e",
   "metadata": {},
   "source": [
    "2. Visualize Communities in the Network:\n",
    "\n",
    "You could apply community detection to uncover fraud rings or clusters of merchants targeted by fraudsters. The Louvain algorithm is great for this."
   ]
  },
  {
   "cell_type": "code",
   "execution_count": 203,
   "id": "b5f148a5",
   "metadata": {},
   "outputs": [],
   "source": [
    "import community.community_louvain as community_louvain\n",
    "\n",
    "\n",
    "# Apply Louvain method for community detection\n",
    "partition = community_louvain.best_partition(G)\n",
    "\n"
   ]
  },
  {
   "cell_type": "markdown",
   "id": "aee872fb",
   "metadata": {},
   "source": [
    "Fraud Node Highlighting:\n",
    "\n",
    "    Fraudulent nodes (from df['is_fraud'] == 1) are colored red to make them stand out. The rest of the nodes are still colored based on their communities.\n",
    "    This should help you easily spot any fraudulent nodes in the network.\n",
    "\n",
    "Top 10 Most Central Nodes:\n",
    "\n",
    "    We calculate betweenness centrality and extract the top 10 most central nodes.\n",
    "    These nodes are visualized with their connections, which should help declutter the graph and focus on the key players in the transaction network."
   ]
  },
  {
   "cell_type": "code",
   "execution_count": 204,
   "id": "8fd26394",
   "metadata": {},
   "outputs": [],
   "source": [
    "\n",
    "# Apply Louvain method for community detection\n",
    "partition = community_louvain.best_partition(G)\n",
    "\n",
    "# Create positions for nodes using a spring layout\n",
    "pos = nx.spring_layout(G)\n",
    "\n",
    "# Add the community information to the DataFrame\n",
    "df['community'] = df['CreditCardNumber'].map(partition)\n",
    "\n",
    "# Highlight fraud nodes separately\n",
    "fraud_nodes = df[df['is_fraud'] == 1]['CreditCardNumber'].values\n",
    "\n",
    "\n"
   ]
  },
  {
   "cell_type": "code",
   "execution_count": 205,
   "id": "95613930",
   "metadata": {},
   "outputs": [],
   "source": [
    "# Add the community information to the DataFrame\n",
    "df['community'] = df['CreditCardNumber'].map(partition)\n",
    "\n",
    "# Calculate the percentage of fraud in each community\n",
    "community_fraud = df.groupby('community')['is_fraud'].mean()\n",
    "\n"
   ]
  },
  {
   "cell_type": "code",
   "execution_count": 206,
   "id": "d9407a0e",
   "metadata": {},
   "outputs": [
    {
     "name": "stdout",
     "output_type": "stream",
     "text": [
      "community\n",
      "0    0.003049\n",
      "1    0.006748\n",
      "2    0.003638\n",
      "3    0.003918\n",
      "Name: is_fraud, dtype: float64\n"
     ]
    }
   ],
   "source": [
    "\n",
    "# Print fraud rate per community\n",
    "print(community_fraud)\n"
   ]
  },
  {
   "cell_type": "code",
   "execution_count": 207,
   "id": "17572504",
   "metadata": {},
   "outputs": [
    {
     "name": "stdout",
     "output_type": "stream",
     "text": [
      "community\n",
      "0    223332\n",
      "1     74248\n",
      "2    173155\n",
      "3     84984\n",
      "dtype: int64\n"
     ]
    }
   ],
   "source": [
    "community_size = df.groupby('community').size()\n",
    "print(community_size)\n"
   ]
  },
  {
   "cell_type": "code",
   "execution_count": 208,
   "id": "43cca311",
   "metadata": {},
   "outputs": [],
   "source": [
    "# Combine fraud rates and community sizes into a single DataFrame\n",
    "fraud_vs_size = pd.concat([community_fraud, df.groupby('community').size()], axis=1)\n",
    "fraud_vs_size.columns = ['FraudRate', 'CommunitySize']\n",
    "\n"
   ]
  },
  {
   "cell_type": "code",
   "execution_count": 209,
   "id": "accbc68f",
   "metadata": {},
   "outputs": [
    {
     "name": "stdout",
     "output_type": "stream",
     "text": [
      "community\n",
      "1    0.006748\n",
      "3    0.003918\n",
      "2    0.003638\n",
      "0    0.003049\n",
      "Name: is_fraud, dtype: float64\n"
     ]
    }
   ],
   "source": [
    "top_fraud_communities = community_fraud.sort_values(ascending=False).head(5)\n",
    "print(top_fraud_communities)\n"
   ]
  },
  {
   "cell_type": "code",
   "execution_count": 210,
   "id": "4a875aea",
   "metadata": {},
   "outputs": [],
   "source": [
    "# Get the community labels of the top fraud communities\n",
    "top_community_labels = top_fraud_communities.index.tolist()\n",
    "\n",
    "# Filter the DataFrame for only the top fraud communities\n",
    "top_communities_df = df[df['community'].isin(top_community_labels)]\n"
   ]
  },
  {
   "cell_type": "code",
   "execution_count": 211,
   "id": "88b0bb95",
   "metadata": {},
   "outputs": [
    {
     "name": "stdout",
     "output_type": "stream",
     "text": [
      "merchant\n",
      "fraud_Romaguera, Cruickshank and Greenholt    0.021739\n",
      "fraud_Lemke-Gutmann                           0.021505\n",
      "fraud_Mosciski, Ziemann and Farrell           0.020690\n",
      "fraud_Heathcote, Yost and Kertzmann           0.020482\n",
      "fraud_Rodriguez, Yost and Jenkins             0.019960\n",
      "fraud_Medhurst PLC                            0.019430\n",
      "fraud_Bashirian Group                         0.018987\n",
      "fraud_Kris-Weimann                            0.018939\n",
      "fraud_Heathcote LLC                           0.018703\n",
      "fraud_Bednar Group                            0.018519\n",
      "Name: is_fraud, dtype: float64\n"
     ]
    }
   ],
   "source": [
    "# Show Only the Top Merchants by Fraud Rate:\n",
    "# Instead of displaying all merchants, you can filter the plot to show only the top 10 or 20 merchants with the highest fraud rates.\n",
    "\n",
    "# Calculate fraud rate by merchant in the top fraud communities\n",
    "merchant_fraud_rate = top_communities_df.groupby('merchant')['is_fraud'].mean()\n",
    "\n",
    "# Sort merchants by fraud rate in descending order\n",
    "top_merchants = merchant_fraud_rate.sort_values(ascending=False).head(10)\n",
    "\n",
    "# Print top 10 merchants with highest fraud rate\n",
    "print(top_merchants)\n"
   ]
  },
  {
   "cell_type": "code",
   "execution_count": 212,
   "id": "bbd1dc14",
   "metadata": {},
   "outputs": [],
   "source": [
    "\n",
    "# Assuming 'category' is a column representing merchant categories\n",
    "merchantcategory_fraud = top_communities_df.groupby('category')['is_fraud'].mean()\n",
    "\n",
    "# Sort the fraud rate by merchant category in descending order\n",
    "merchantcategory_fraud_sorted = merchantcategory_fraud.sort_values(ascending=False)\n"
   ]
  },
  {
   "cell_type": "code",
   "execution_count": 213,
   "id": "2e7c000f",
   "metadata": {},
   "outputs": [
    {
     "name": "stdout",
     "output_type": "stream",
     "text": [
      "Part9 - Community & Top Merchants completed at Sat Nov  2 00:06:26 2024. Elapsed time: 65 minutes and 14.45 seconds\n",
      "\n"
     ]
    }
   ],
   "source": [
    "\n",
    "log_time(\"Part9 - Community & Top Merchants\", start_time)\n",
    "start_time = time.time()\n"
   ]
  },
  {
   "cell_type": "code",
   "execution_count": 214,
   "id": "154aa31d",
   "metadata": {},
   "outputs": [
    {
     "name": "stdout",
     "output_type": "stream",
     "text": [
      "Graph Density: 0.2513486042481799\n"
     ]
    }
   ],
   "source": [
    "# Check the density of the graph (a measure of sparsity)\n",
    "density = nx.density(G)\n",
    "print(f\"Graph Density: {density}\")\n"
   ]
  },
  {
   "cell_type": "code",
   "execution_count": 215,
   "id": "5e360c64",
   "metadata": {},
   "outputs": [
    {
     "name": "stdout",
     "output_type": "stream",
     "text": [
      "Average Degree of Nodes: 406.17934446505876\n"
     ]
    }
   ],
   "source": [
    "# Calculate and print the average degree\n",
    "degree_sequence = [degree for node, degree in G.degree()]\n",
    "average_degree = sum(degree_sequence) / len(degree_sequence)\n",
    "print(f\"Average Degree of Nodes: {average_degree}\")\n"
   ]
  },
  {
   "cell_type": "code",
   "execution_count": 216,
   "id": "5fa3b21e",
   "metadata": {},
   "outputs": [
    {
     "name": "stdout",
     "output_type": "stream",
     "text": [
      "Part10 - Density completed at Sat Nov  2 00:06:26 2024. Elapsed time: 0 minutes and 0.04 seconds\n",
      "\n"
     ]
    }
   ],
   "source": [
    "log_time(\"Part10 - Density\", start_time)\n",
    "start_time = time.time()\n"
   ]
  },
  {
   "cell_type": "code",
   "execution_count": 217,
   "id": "452804a2",
   "metadata": {},
   "outputs": [
    {
     "name": "stdout",
     "output_type": "stream",
     "text": [
      "Index(['Unnamed: 0', 'CreditCardNumber', 'merchant', 'category',\n",
      "       'TransactionAmount', 'first', 'last', 'gender', 'street', 'city',\n",
      "       'state', 'zip', 'lat', 'long', 'city_pop', 'job', 'DateOfBirth',\n",
      "       'trans_num', 'unix_time', 'merch_lat', 'merch_long', 'is_fraud',\n",
      "       'TransactionID', 'Hour', 'HighRiskHour', 'DayOfWeek', 'DayName',\n",
      "       'IsWeekend', 'distance', 'HighRiskMerchantCategory', 'Age', 'AgeGroup',\n",
      "       'TransactionFrequency', 'RapidTransactionFlag', 'LogTransactionAmount',\n",
      "       'HighValueTransactionFlag', 'TransactionCountLast7Days',\n",
      "       'TransactionCountLast14Days', 'TransactionCountLast30Days',\n",
      "       'AverageTransactionAmountLast7Days',\n",
      "       'AverageTransactionAmountLast14Days',\n",
      "       'AverageTransactionAmountLast30Days', 'degree',\n",
      "       'betweenness_centrality', 'community'],\n",
      "      dtype='object')\n"
     ]
    }
   ],
   "source": [
    "print(df.columns)"
   ]
  },
  {
   "cell_type": "code",
   "execution_count": 218,
   "id": "d5be3c6a",
   "metadata": {},
   "outputs": [],
   "source": [
    "selected_features = [\n",
    "    'TransactionAmount', 'LogTransactionAmount', 'HighValueTransactionFlag',\n",
    "    'TransactionCountLast7Days', 'TransactionCountLast14Days', 'TransactionCountLast30Days',\n",
    "    'AverageTransactionAmountLast7Days', 'AverageTransactionAmountLast14Days', 'AverageTransactionAmountLast30Days',\n",
    "    'Hour', 'HighRiskHour', 'DayOfWeek', 'IsWeekend', 'TransactionFrequency', 'RapidTransactionFlag',\n",
    "    'lat', 'long', 'merch_lat', 'merch_long', 'distance', 'city_pop',\n",
    "    'Age', 'AgeGroup', 'gender', 'state', 'city',\n",
    "    'degree', 'betweenness_centrality', 'community'\n",
    "]\n",
    "\n",
    "df_selected_features = df[selected_features]\n"
   ]
  },
  {
   "cell_type": "markdown",
   "id": "51f21f1e",
   "metadata": {},
   "source": [
    "# Page rank as new feature"
   ]
  },
  {
   "cell_type": "code",
   "execution_count": 219,
   "id": "6fda32dc",
   "metadata": {},
   "outputs": [],
   "source": [
    "# Calculate PageRank for each node in the graph\n",
    "pagerank = nx.pagerank(G)\n",
    "\n",
    "# Map the PageRank values to the 'CreditCardNumber' in the DataFrame\n",
    "df['pagerank'] = df['CreditCardNumber'].map(pagerank)\n"
   ]
  },
  {
   "cell_type": "code",
   "execution_count": 220,
   "id": "53596e20",
   "metadata": {},
   "outputs": [
    {
     "name": "stdout",
     "output_type": "stream",
     "text": [
      "0\n"
     ]
    }
   ],
   "source": [
    "# Check for NaN values in the pagerank column\n",
    "print(df['pagerank'].isna().sum())\n"
   ]
  },
  {
   "cell_type": "code",
   "execution_count": 221,
   "id": "f5e2620b",
   "metadata": {},
   "outputs": [
    {
     "name": "stdout",
     "output_type": "stream",
     "text": [
      "count    555719.000000\n",
      "mean          0.000636\n",
      "std           0.000139\n",
      "min           0.000099\n",
      "25%           0.000548\n",
      "50%           0.000669\n",
      "75%           0.000751\n",
      "max           0.000850\n",
      "Name: pagerank, dtype: float64\n"
     ]
    }
   ],
   "source": [
    "# Check descriptive statistics of pagerank values\n",
    "print(df['pagerank'].describe())\n",
    "\n"
   ]
  },
  {
   "cell_type": "code",
   "execution_count": 222,
   "id": "a525047f",
   "metadata": {},
   "outputs": [
    {
     "name": "stdout",
     "output_type": "stream",
     "text": [
      "Number of nodes with zero PageRank: 0\n"
     ]
    }
   ],
   "source": [
    "# Check how many nodes have a PageRank of zero\n",
    "zero_pagerank_count = (df['pagerank'] == 0).sum()\n",
    "print(f\"Number of nodes with zero PageRank: {zero_pagerank_count}\")\n"
   ]
  },
  {
   "cell_type": "code",
   "execution_count": 223,
   "id": "c97f80b2",
   "metadata": {},
   "outputs": [
    {
     "name": "stdout",
     "output_type": "stream",
     "text": [
      "Average PageRank for Fraud: 0.0005267197095238786\n",
      "Average PageRank for Non-Fraud: 0.0006366062405655646\n"
     ]
    }
   ],
   "source": [
    "# Compare the average PageRank for fraud and non-fraud transactions\n",
    "fraud_avg_pagerank = df[df['is_fraud'] == 1]['pagerank'].mean()\n",
    "non_fraud_avg_pagerank = df[df['is_fraud'] == 0]['pagerank'].mean()\n",
    "\n",
    "print(f\"Average PageRank for Fraud: {fraud_avg_pagerank}\")\n",
    "print(f\"Average PageRank for Non-Fraud: {non_fraud_avg_pagerank}\")\n"
   ]
  },
  {
   "cell_type": "code",
   "execution_count": 224,
   "id": "47121274",
   "metadata": {},
   "outputs": [],
   "source": [
    "selected_features.append('pagerank')\n",
    "df_selected_features = df[selected_features]\n"
   ]
  },
  {
   "cell_type": "code",
   "execution_count": 225,
   "id": "439c0ecd",
   "metadata": {},
   "outputs": [
    {
     "name": "stdout",
     "output_type": "stream",
     "text": [
      "Index(['TransactionAmount', 'LogTransactionAmount', 'HighValueTransactionFlag',\n",
      "       'TransactionCountLast7Days', 'TransactionCountLast14Days',\n",
      "       'TransactionCountLast30Days', 'AverageTransactionAmountLast7Days',\n",
      "       'AverageTransactionAmountLast14Days',\n",
      "       'AverageTransactionAmountLast30Days', 'Hour', 'HighRiskHour',\n",
      "       'DayOfWeek', 'IsWeekend', 'TransactionFrequency',\n",
      "       'RapidTransactionFlag', 'lat', 'long', 'merch_lat', 'merch_long',\n",
      "       'distance', 'city_pop', 'Age', 'AgeGroup', 'gender', 'state', 'city',\n",
      "       'degree', 'betweenness_centrality', 'community', 'pagerank'],\n",
      "      dtype='object')\n"
     ]
    }
   ],
   "source": [
    "print(df_selected_features.columns)"
   ]
  },
  {
   "cell_type": "code",
   "execution_count": 226,
   "id": "ae9a67f2",
   "metadata": {},
   "outputs": [
    {
     "name": "stdout",
     "output_type": "stream",
     "text": [
      "(555719, 46)\n"
     ]
    }
   ],
   "source": [
    "print(df.shape)"
   ]
  },
  {
   "cell_type": "code",
   "execution_count": 227,
   "id": "a89b08a0",
   "metadata": {},
   "outputs": [
    {
     "name": "stdout",
     "output_type": "stream",
     "text": [
      "Part11 - PageRank completed at Sat Nov  2 00:06:29 2024. Elapsed time: 0 minutes and 2.88 seconds\n",
      "\n"
     ]
    }
   ],
   "source": [
    "log_time(\"Part11 - PageRank\", start_time)\n",
    "start_time = time.time()\n"
   ]
  },
  {
   "cell_type": "code",
   "execution_count": 228,
   "id": "e17cecc8",
   "metadata": {},
   "outputs": [],
   "source": [
    "# Decision Trees start"
   ]
  },
  {
   "cell_type": "code",
   "execution_count": 229,
   "id": "56237852",
   "metadata": {},
   "outputs": [
    {
     "name": "stdout",
     "output_type": "stream",
     "text": [
      "END - Feature Engineering .....   completed at Sat Nov  2 00:06:29 2024. Elapsed time: 0 minutes and 0.02 seconds\n",
      "\n"
     ]
    }
   ],
   "source": [
    "log_time(\"END - Feature Engineering .....  \", start_time)\n",
    "start_time = time.time()"
   ]
  },
  {
   "cell_type": "code",
   "execution_count": null,
   "id": "8ac908b1",
   "metadata": {},
   "outputs": [],
   "source": []
  },
  {
   "cell_type": "code",
   "execution_count": 230,
   "id": "163f30c6",
   "metadata": {},
   "outputs": [
    {
     "name": "stdout",
     "output_type": "stream",
     "text": [
      "DecisionTrees_Balanced_SMOTE_GridSearch_Test START Model ....   completed at Sat Nov  2 00:06:29 2024. Elapsed time: 0 minutes and 0.01 seconds\n",
      "\n"
     ]
    }
   ],
   "source": [
    "log_time(f\"{model_specs}_{dataset_type} START Model ....  \", start_time)\n",
    "start_time = time.time()"
   ]
  },
  {
   "cell_type": "code",
   "execution_count": null,
   "id": "aa0b4689",
   "metadata": {},
   "outputs": [],
   "source": []
  },
  {
   "cell_type": "code",
   "execution_count": 231,
   "id": "c0892344",
   "metadata": {},
   "outputs": [],
   "source": [
    "import os\n",
    "import time\n",
    "import pandas as pd\n",
    "import matplotlib.pyplot as plt\n",
    "from sklearn.impute import SimpleImputer\n",
    "from sklearn.metrics import classification_report, roc_auc_score, roc_curve, precision_recall_curve, accuracy_score\n",
    "from decisiontree_gridsearch_modelutils import perform_grid_search\n",
    "\n",
    "# Parameters\n",
    "param_grid = {\n",
    "    'max_depth': [10, 20], \n",
    "    'min_samples_split': [20, 50], \n",
    "    'min_samples_leaf': [2, 5], \n",
    "    'criterion': ['gini']\n",
    "}\n",
    "sample_fraction = 0.3  # Fraction to sample for memory efficiency\n",
    "\n",
    "# Step 1: Preprocess Data\n",
    "def preprocess_data(df, selected_features, sample_fraction=1.0):\n",
    "    df_sampled = df.sample(frac=sample_fraction, random_state=42)\n",
    "    X = df_sampled[selected_features]\n",
    "    y = df_sampled['is_fraud']\n",
    "    \n",
    "    X_encoded = pd.get_dummies(X, drop_first=True)\n",
    "    imputer = SimpleImputer(strategy='mean')\n",
    "    X_imputed = imputer.fit_transform(X_encoded)\n",
    "    \n",
    "    return X_imputed, y\n",
    "\n",
    "# Step 2: Train Model with Grid Search\n",
    "def train_model(X, y, param_grid):\n",
    "    best_model = perform_grid_search(X, y, param_grid)\n",
    "    return best_model\n",
    "\n",
    "# Step 3: Generate Classification Report and ROC Curve\n",
    "def generate_classification_report_and_roc(model, X, y, dataset_type, reports_output_dir):\n",
    "\n",
    "    # Generate a timestamp for the report filename\n",
    "    timestamp = time.strftime(\"%Y%m%d_%H%M%S\")\n",
    "\n",
    "    y_pred = model.predict(X)\n",
    "    accuracy = accuracy_score(y, y_pred)\n",
    "    clf_report = classification_report(y, y_pred)\n",
    "    print(f\"{dataset_type} Classification Report:\\n\", clf_report)\n",
    "    \n",
    "\n",
    "    \n",
    "    # Calculate probabilities and AUC\n",
    "    y_probs = model.predict_proba(X)[:, 1]\n",
    "    roc_auc = roc_auc_score(y, y_probs)\n",
    "    fpr, tpr, _ = roc_curve(y, y_probs)\n",
    "    precision, recall, _ = precision_recall_curve(y, y_probs)\n",
    "    auc_pr = auc(recall, precision)\n",
    "    print(f\"{dataset_type} ROC AUC:\", roc_auc)\n",
    "    print(f\"{dataset_type} Precision-Recall AUC:\", auc_pr)\n",
    "    \n",
    "    # Plot ROC curve\n",
    "    plt.figure()\n",
    "    plt.plot(fpr, tpr, color='blue', label=f'{dataset_type} ROC curve (AUC = {roc_auc:.2f})')\n",
    "    plt.plot([0, 1], [0, 1], color='gray', linestyle='--')\n",
    "    plt.xlabel('False Positive Rate')\n",
    "    plt.ylabel('True Positive Rate')\n",
    "    plt.title(f'ROC Curve - {dataset_type}')\n",
    "    plt.legend(loc=\"lower right\")\n",
    "    \n",
    "\n",
    "    plot_filename = f\"{model_specs}_{dataset_type}_RoC_Curve_{timestamp}.png\"\n",
    "    plt.savefig(os.path.join(reports_output_dir, plot_filename))\n",
    "    plt.close()\n",
    "    print(f\"{dataset_type} ROC curve saved to {plot_filename}\")\n",
    "    \n",
    "    # Create and save classification report\n",
    "    report_filename = f\"{model_specs}_{dataset_type}_Report_{timestamp}.txt\"\n",
    "    report_path = os.path.join(reports_output_dir, report_filename)\n",
    "    full_report = (\n",
    "        f\"Accuracy: {accuracy:.4f}\\n\\n\"\n",
    "        f\"Classification Report:\\n{clf_report}\\n\\n\"\n",
    "        f\"ROC AUC: {roc_auc:.4f}\\n\"\n",
    "        f\"Precision-Recall AUC: {auc_pr:.4f}\"\n",
    "    )\n",
    "    with open(report_path, \"w\") as f:\n",
    "        f.write(full_report)\n",
    "    print(f\"Classification report saved to {report_path}\")\n",
    "\n",
    "def save_trained_model(model_name):\n",
    "    \n",
    "    output_dir_model = '/Users/sadhvichandragiri/desktop/coding/ZHAW_Project/ML_BigData_Repo_1/models'\n",
    "\n",
    "    # Define model filename\n",
    "    model_outputfilename = f\"{model_specs.replace(' ', '_').replace(',', '').lower()}_{dataset_type}.pkl\"\n",
    "\n",
    "    # Assuming best_rf_model is your final or best model\n",
    "    try:\n",
    "        # Save the model\n",
    "        with open(os.path.join(output_dir_model, model_outputfilename), 'wb') as model_file:\n",
    "            pickle.dump(model_name, model_file)\n",
    "\n",
    "        print(f\"Model saved to {os.path.join(output_dir_model, model_outputfilename)}\")\n",
    "\n",
    "    except NameError:\n",
    "        print(f\"Error: {model_specs} is not defined. Please ensure the model is assigned before saving.\")\n",
    "\n",
    "# Load the trained model\n",
    "def load_trained_model(model_specs, dataset_type, output_dir_model='/Users/sadhvichandragiri/desktop/coding/ZHAW_Project/ML_BigData_Repo_1/models'):\n",
    "    \"\"\"\n",
    "    Loads a trained model from the specified directory.\n",
    "    \n",
    "    Args:\n",
    "        model_specs (str): Specifications or name for the model.\n",
    "        dataset_type (str): Indicates if it’s for 'Train' or 'Test'.\n",
    "        output_dir_model (str): Directory where the model is saved.\n",
    "        \n",
    "    Returns:\n",
    "        model: The loaded model.\n",
    "    \"\"\"\n",
    "    model_outputfilename = f\"{model_specs.replace(' ', '_').replace(',', '').lower()}_{dataset_type}.pkl\"\n",
    "    model_path = os.path.join(output_dir_model, model_outputfilename)\n",
    "\n",
    "    # Load the model if it exists\n",
    "    if os.path.exists(model_path):\n",
    "        with open(model_path, 'rb') as model_file:\n",
    "            model = pickle.load(model_file)\n",
    "        print(f\"Model loaded from {model_path}\")\n",
    "        return model\n",
    "    else:\n",
    "        print(f\"Model file not found at {model_path}\")\n",
    "        return None\n",
    "    \n",
    "def predict_with_model(model, X, y, dataset_type, reports_output_dir):\n",
    "    \"\"\"\n",
    "    Use the loaded model to predict and evaluate results.\n",
    "    \n",
    "    Args:\n",
    "        model: The trained model.\n",
    "        X (DataFrame): Input features for prediction.\n",
    "        y (Series): True labels for evaluation.\n",
    "        dataset_type (str): Indicates if it’s 'Train' or 'Test' data.\n",
    "        reports_output_dir (str): Directory to save the evaluation report.\n",
    "    \"\"\"\n",
    "    y_pred = model.predict(X)\n",
    "    accuracy = accuracy_score(y, y_pred)\n",
    "    clf_report = classification_report(y, y_pred)\n",
    "    print(f\"{dataset_type} Classification Report:\\n\", clf_report)\n",
    "    \n",
    "    # Generate ROC curve and AUC\n",
    "    y_probs = model.predict_proba(X)[:, 1]\n",
    "    roc_auc = roc_auc_score(y, y_probs)\n",
    "    fpr, tpr, _ = roc_curve(y, y_probs)\n",
    "    \n",
    "    # Plot ROC Curve\n",
    "    plt.figure()\n",
    "    plt.plot(fpr, tpr, color='blue', label=f'{dataset_type} ROC curve (AUC = {roc_auc:.2f})')\n",
    "    plt.plot([0, 1], [0, 1], color='gray', linestyle='--')\n",
    "    plt.xlabel('False Positive Rate')\n",
    "    plt.ylabel('True Positive Rate')\n",
    "    plt.title(f'ROC Curve - {dataset_type}')\n",
    "    plt.legend(loc=\"lower right\")\n",
    "    \n",
    "    plot_filename = f\"{model_specs}_{dataset_type}_ROC_Curve.png\"\n",
    "    plt.savefig(os.path.join(reports_output_dir, plot_filename))\n",
    "    plt.close()\n",
    "    print(f\"{dataset_type} ROC curve saved to {plot_filename}\")\n",
    "    \n",
    "    # Save Classification Report\n",
    "    report_filename = f\"{model_specs}_{dataset_type}_Classification_Report.txt\"\n",
    "    report_path = os.path.join(reports_output_dir, report_filename)\n",
    "    full_report = (\n",
    "        f\"Accuracy: {accuracy:.4f}\\n\\n\"\n",
    "        f\"Classification Report:\\n{clf_report}\\n\\n\"\n",
    "        f\"ROC AUC: {roc_auc:.4f}\\n\"\n",
    "    )\n",
    "    with open(report_path, \"w\") as f:\n",
    "        f.write(full_report)\n",
    "    print(f\"{dataset_type} Classification report saved to {report_path}\")\n",
    "    \n",
    "# Step 4: Main Execution\n",
    "def main(df, selected_features, param_grid, reports_output_dir, use_test_data=False):\n",
    "    X, y = preprocess_data(df, selected_features, sample_fraction)\n",
    "    \n",
    "    if use_test_data:\n",
    "        loaded_model = load_trained_model(model_specs=\"DecisionTree_Model\", dataset_type=\"Train\")\n",
    "        if loaded_model:\n",
    "            # Predict using the loaded model\n",
    "            predict_with_model(loaded_model, X, y, \"Test\", reports_output_dir)\n",
    "        else:\n",
    "            print(\"No pre-trained model found.\")\n",
    "    else:\n",
    "        best_model = train_model(X, y, param_grid)\n",
    "        dataset_type = 'Test' if use_test_data else 'Train'\n",
    "        generate_classification_report_and_roc(best_model, X, y, dataset_type, reports_output_dir)\n",
    "        save_trained_model(best_model)\n",
    "\n",
    "        \n",
    "\n",
    "    \n"
   ]
  },
  {
   "cell_type": "code",
   "execution_count": 232,
   "id": "15fa200a",
   "metadata": {},
   "outputs": [
    {
     "name": "stdout",
     "output_type": "stream",
     "text": [
      "/Users/sadhvichandragiri/desktop/coding/ZHAW_Project/ML_BigData_Repo_1/reports\n"
     ]
    }
   ],
   "source": [
    "print(reports_output_dir)"
   ]
  },
  {
   "cell_type": "code",
   "execution_count": 233,
   "id": "cc422657",
   "metadata": {},
   "outputs": [
    {
     "name": "stdout",
     "output_type": "stream",
     "text": [
      "Model loaded from /Users/sadhvichandragiri/desktop/coding/ZHAW_Project/ML_BigData_Repo_1/models/decisiontree_model_Train.pkl\n",
      "Test Classification Report:\n",
      "               precision    recall  f1-score   support\n",
      "\n",
      "         0.0       1.00      1.00      1.00    166071\n",
      "         1.0       0.78      0.31      0.44       645\n",
      "\n",
      "    accuracy                           1.00    166716\n",
      "   macro avg       0.89      0.65      0.72    166716\n",
      "weighted avg       1.00      1.00      1.00    166716\n",
      "\n",
      "Test ROC curve saved to DecisionTree_Model_Test_ROC_Curve.png\n",
      "Test Classification report saved to /Users/sadhvichandragiri/desktop/coding/ZHAW_Project/ML_BigData_Repo_1/reports/DecisionTree_Model_Test_Classification_Report.txt\n"
     ]
    }
   ],
   "source": [
    "# Example Usage\n",
    "\n",
    "# Assuming `df` is your data DataFrame and includes the 'is_fraud' target column\n",
    "# Define the features you want to use for training/testing\n",
    "selected_features = [\n",
    "    'LogTransactionAmount', 'TransactionAmount', 'HighValueTransactionFlag',\n",
    "    'TransactionCountLast7Days', 'TransactionCountLast30Days', \n",
    "    'AverageTransactionAmountLast7Days', 'AverageTransactionAmountLast14Days', \n",
    "    'AverageTransactionAmountLast30Days', 'Hour', 'HighRiskHour', 'IsWeekend', \n",
    "    'RapidTransactionFlag', 'lat', 'long', 'merch_lat', 'merch_long', \n",
    "    'distance', 'city_pop', 'AgeGroup', 'degree', 'betweenness_centrality', 'pagerank'\n",
    "]\n",
    "\n",
    "\n",
    "if use_test_data:\n",
    "    main(df, selected_features, param_grid, reports_output_dir, use_test_data=True)\n",
    "\n",
    "else:\n",
    "    main(df, selected_features, param_grid, reports_output_dir, use_test_data=False)\n",
    "        \n",
    "    \n"
   ]
  },
  {
   "cell_type": "markdown",
   "id": "5cea9ad7",
   "metadata": {},
   "source": [
    "1. Load and Preprocess the Data for the Decision Tree model"
   ]
  },
  {
   "cell_type": "code",
   "execution_count": null,
   "id": "7ced879f",
   "metadata": {},
   "outputs": [],
   "source": []
  },
  {
   "cell_type": "code",
   "execution_count": null,
   "id": "09ac2aba",
   "metadata": {},
   "outputs": [],
   "source": []
  },
  {
   "cell_type": "code",
   "execution_count": 234,
   "id": "30c613fa",
   "metadata": {},
   "outputs": [
    {
     "name": "stdout",
     "output_type": "stream",
     "text": [
      "DecisionTree_Model_Test END Model ....   completed at Sat Nov  2 00:06:31 2024. Elapsed time: 0 minutes and 2.57 seconds\n",
      "\n"
     ]
    }
   ],
   "source": [
    "log_time(f\"{model_specs}_{dataset_type} END Model ....  \", start_time)\n",
    "start_time = time.time()"
   ]
  },
  {
   "cell_type": "code",
   "execution_count": 235,
   "id": "292c1c2f",
   "metadata": {},
   "outputs": [
    {
     "name": "stdout",
     "output_type": "stream",
     "text": [
      "Closed the DASK Client completed at Sat Nov  2 00:06:32 2024. Elapsed time: 0 minutes and 0.97 seconds\n",
      "\n",
      ".................................................   completed at Sat Nov  2 00:06:32 2024. Elapsed time: 0 minutes and 0.97 seconds\n",
      "\n"
     ]
    }
   ],
   "source": [
    "\n",
    "# Close Dask client when done\n",
    "client.close()\n",
    "log_time(\"Closed the DASK Client\", start_time)\n",
    "log_time(\".................................................  \", start_time)\n",
    "start_time = time.time()"
   ]
  },
  {
   "cell_type": "code",
   "execution_count": 237,
   "id": "0229d5d5",
   "metadata": {},
   "outputs": [
    {
     "name": "stdout",
     "output_type": "stream",
     "text": [
      "Notebook ended at: Sat Nov  2 00:06:32 2024\n",
      "Total execution time: 68 minutes and 42.43 seconds\n",
      "DecisionTree_Model_Test Notebook Ended at...  completed at Sat Nov  2 00:06:32 2024. Elapsed time: 68 minutes and 42.43 seconds\n",
      "\n"
     ]
    }
   ],
   "source": [
    "import os\n",
    "import time\n",
    "\n",
    "# Assuming start_time is defined earlier in the notebook\n",
    "end_time_notebook = time.time()\n",
    "elapsed_time = end_time_notebook - start_time_notebook\n",
    "\n",
    "# Print and format the notebook end time and total execution time\n",
    "print(f\"Notebook ended at: {time.ctime(end_time_notebook)}\")\n",
    "print(f\"Total execution time: {elapsed_time // 60:.0f} minutes and {elapsed_time % 60:.2f} seconds\")\n",
    "\n",
    "\n",
    "log_time(f\"{model_specs}_{dataset_type} Notebook Ended at... \", start_time_notebook)\n"
   ]
  },
  {
   "cell_type": "code",
   "execution_count": null,
   "id": "6e8c3e7f",
   "metadata": {},
   "outputs": [],
   "source": []
  },
  {
   "cell_type": "raw",
   "id": "3d8d0f14",
   "metadata": {},
   "source": [
    "The results from the 30% sample show a strong overall model performance, especially in terms of accuracy and precision for class 0 (non-fraud), but there is room for improvement in the recall for class 1 (fraud), which is at 0.66. Here are a few key takeaways and next steps:\n",
    "Key Takeaways:\n",
    "\n",
    "    High Precision, Lower Recall for Fraud:\n",
    "        Precision for class 1 (fraud) is quite high at 0.89, meaning when the model predicts fraud, it’s usually correct.\n",
    "        Recall for class 1 is 0.66, meaning it misses about 34% of the actual fraud cases. This indicates the model is more conservative in identifying fraud.\n",
    "\n",
    "    Overall Strong Accuracy:\n",
    "        The overall accuracy and metrics for class 0 (non-fraud) are perfect, but since fraud detection is the primary goal, improving recall for fraud should be a priority."
   ]
  },
  {
   "cell_type": "raw",
   "id": "3fc828d3",
   "metadata": {},
   "source": [
    "Since the results with the 10% and 30% data samples are quite similar, it suggests a few important things:\n",
    "Key Insights:\n",
    "\n",
    "    Model Stability:\n",
    "        Your Decision Tree model appears to generalize well across different sample sizes. The performance metrics (precision, recall, F1-score) are consistent, indicating that the model isn't sensitive to the size of the dataset, at least between 10% and 30%.\n",
    "\n",
    "    Diminishing Returns from Larger Samples:\n",
    "        The fact that increasing the data size didn’t lead to significant improvements in recall for fraud detection suggests that more data beyond 10% might not drastically change the model's performance. It may indicate that the model has learned most of the fraud patterns present in the dataset even at a 10% sample size.\n",
    "\n",
    "    Potential for Model Saturation:\n",
    "        The Decision Tree model might be approaching a performance ceiling with this dataset. To further improve recall for fraud detection, you may need to explore more powerful models like Random Forest, which can capture more complex patterns.\n",
    "\n",
    "Next Steps:\n",
    "\n",
    "    Proceed with Random Forest (with Dask):\n",
    "        Since the Decision Tree isn't improving much with more data, moving to Random Forest might help increase recall while maintaining or even improving precision and overall performance.\n",
    "\n",
    "    Try Class Imbalance Techniques:\n",
    "        You could apply techniques like SMOTE or adjusting the class weights in the model to give more importance to detecting fraud cases (class 1), which may help improve recall.\n",
    "\n",
    "    Consider Hyperparameter Tuning:\n",
    "        If you’re sticking with Decision Trees for now, refining the hyperparameters further may slightly improve results, but the gains might be marginal compared to switching models."
   ]
  }
 ],
 "metadata": {
  "kernelspec": {
   "display_name": "Python (ZHAW_Project)",
   "language": "python",
   "name": "zhaw_project"
  },
  "language_info": {
   "codemirror_mode": {
    "name": "ipython",
    "version": 3
   },
   "file_extension": ".py",
   "mimetype": "text/x-python",
   "name": "python",
   "nbconvert_exporter": "python",
   "pygments_lexer": "ipython3",
   "version": "3.10.15"
  }
 },
 "nbformat": 4,
 "nbformat_minor": 5
}
