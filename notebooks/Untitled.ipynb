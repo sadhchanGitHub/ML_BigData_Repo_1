{
 "cells": [
  {
   "cell_type": "code",
   "execution_count": 2,
   "id": "fecf2c15",
   "metadata": {},
   "outputs": [
    {
     "name": "stdout",
     "output_type": "stream",
     "text": [
      "Collecting dask-ml\n",
      "  Downloading dask_ml-2024.4.4-py3-none-any.whl (149 kB)\n",
      "\u001b[K     |████████████████████████████████| 149 kB 3.2 MB/s eta 0:00:01\n",
      "\u001b[?25hRequirement already satisfied: numba>=0.51.0 in /Users/sadhvichandragiri/opt/anaconda3/lib/python3.9/site-packages (from dask-ml) (0.60.0)\n",
      "Requirement already satisfied: scikit-learn>=1.2.0 in /Users/sadhvichandragiri/opt/anaconda3/lib/python3.9/site-packages (from dask-ml) (1.5.2)\n",
      "Requirement already satisfied: dask[array,dataframe]>=2.4.0 in /Users/sadhvichandragiri/opt/anaconda3/lib/python3.9/site-packages (from dask-ml) (2021.10.0)\n",
      "Requirement already satisfied: numpy>=1.20.0 in /Users/sadhvichandragiri/opt/anaconda3/lib/python3.9/site-packages (from dask-ml) (1.22.4)\n",
      "Requirement already satisfied: pandas>=0.24.2 in /Users/sadhvichandragiri/opt/anaconda3/lib/python3.9/site-packages (from dask-ml) (1.3.4)\n",
      "Collecting dask-glm>=0.2.0\n",
      "  Downloading dask_glm-0.3.2-py2.py3-none-any.whl (13 kB)\n",
      "Requirement already satisfied: distributed>=2.4.0 in /Users/sadhvichandragiri/opt/anaconda3/lib/python3.9/site-packages (from dask-ml) (2021.10.0)\n",
      "Requirement already satisfied: multipledispatch>=0.4.9 in /Users/sadhvichandragiri/opt/anaconda3/lib/python3.9/site-packages (from dask-ml) (0.6.0)\n",
      "Requirement already satisfied: packaging in /Users/sadhvichandragiri/opt/anaconda3/lib/python3.9/site-packages (from dask-ml) (21.0)\n",
      "Requirement already satisfied: scipy in /Users/sadhvichandragiri/opt/anaconda3/lib/python3.9/site-packages (from dask-ml) (1.7.1)\n",
      "Collecting sparse>=0.7.0\n",
      "  Downloading sparse-0.15.4-py2.py3-none-any.whl (237 kB)\n",
      "\u001b[K     |████████████████████████████████| 237 kB 6.1 MB/s eta 0:00:01\n",
      "\u001b[?25hRequirement already satisfied: cloudpickle>=0.2.2 in /Users/sadhvichandragiri/opt/anaconda3/lib/python3.9/site-packages (from dask-glm>=0.2.0->dask-ml) (2.0.0)\n",
      "Requirement already satisfied: fsspec>=0.6.0 in /Users/sadhvichandragiri/opt/anaconda3/lib/python3.9/site-packages (from dask[array,dataframe]>=2.4.0->dask-ml) (2021.8.1)\n",
      "Requirement already satisfied: partd>=0.3.10 in /Users/sadhvichandragiri/opt/anaconda3/lib/python3.9/site-packages (from dask[array,dataframe]>=2.4.0->dask-ml) (1.2.0)\n",
      "Requirement already satisfied: pyyaml in /Users/sadhvichandragiri/opt/anaconda3/lib/python3.9/site-packages (from dask[array,dataframe]>=2.4.0->dask-ml) (6.0)\n",
      "Requirement already satisfied: toolz>=0.8.2 in /Users/sadhvichandragiri/opt/anaconda3/lib/python3.9/site-packages (from dask[array,dataframe]>=2.4.0->dask-ml) (0.11.1)\n",
      "Requirement already satisfied: msgpack>=0.6.0 in /Users/sadhvichandragiri/opt/anaconda3/lib/python3.9/site-packages (from distributed>=2.4.0->dask-ml) (1.0.2)\n",
      "Requirement already satisfied: psutil>=5.0 in /Users/sadhvichandragiri/opt/anaconda3/lib/python3.9/site-packages (from distributed>=2.4.0->dask-ml) (5.8.0)\n",
      "Requirement already satisfied: sortedcontainers!=2.0.0,!=2.0.1 in /Users/sadhvichandragiri/opt/anaconda3/lib/python3.9/site-packages (from distributed>=2.4.0->dask-ml) (2.4.0)\n",
      "Requirement already satisfied: jinja2 in /Users/sadhvichandragiri/opt/anaconda3/lib/python3.9/site-packages (from distributed>=2.4.0->dask-ml) (2.11.3)\n",
      "Requirement already satisfied: zict>=0.1.3 in /Users/sadhvichandragiri/opt/anaconda3/lib/python3.9/site-packages (from distributed>=2.4.0->dask-ml) (2.0.0)\n",
      "Requirement already satisfied: click>=6.6 in /Users/sadhvichandragiri/opt/anaconda3/lib/python3.9/site-packages (from distributed>=2.4.0->dask-ml) (8.0.3)\n",
      "Requirement already satisfied: tblib>=1.6.0 in /Users/sadhvichandragiri/opt/anaconda3/lib/python3.9/site-packages (from distributed>=2.4.0->dask-ml) (1.7.0)\n",
      "Requirement already satisfied: tornado>=6.0.3 in /Users/sadhvichandragiri/opt/anaconda3/lib/python3.9/site-packages (from distributed>=2.4.0->dask-ml) (6.1)\n",
      "Requirement already satisfied: setuptools in /Users/sadhvichandragiri/opt/anaconda3/lib/python3.9/site-packages (from distributed>=2.4.0->dask-ml) (58.0.4)\n",
      "Requirement already satisfied: six in /Users/sadhvichandragiri/opt/anaconda3/lib/python3.9/site-packages (from multipledispatch>=0.4.9->dask-ml) (1.16.0)\n",
      "Requirement already satisfied: llvmlite<0.44,>=0.43.0dev0 in /Users/sadhvichandragiri/opt/anaconda3/lib/python3.9/site-packages (from numba>=0.51.0->dask-ml) (0.43.0)\n",
      "Requirement already satisfied: pyparsing>=2.0.2 in /Users/sadhvichandragiri/opt/anaconda3/lib/python3.9/site-packages (from packaging->dask-ml) (3.0.4)\n",
      "Requirement already satisfied: python-dateutil>=2.7.3 in /Users/sadhvichandragiri/opt/anaconda3/lib/python3.9/site-packages (from pandas>=0.24.2->dask-ml) (2.8.2)\n",
      "Requirement already satisfied: pytz>=2017.3 in /Users/sadhvichandragiri/opt/anaconda3/lib/python3.9/site-packages (from pandas>=0.24.2->dask-ml) (2021.3)\n",
      "Requirement already satisfied: locket in /Users/sadhvichandragiri/opt/anaconda3/lib/python3.9/site-packages/locket-0.2.1-py3.9.egg (from partd>=0.3.10->dask[array,dataframe]>=2.4.0->dask-ml) (0.2.1)\n",
      "Requirement already satisfied: threadpoolctl>=3.1.0 in /Users/sadhvichandragiri/opt/anaconda3/lib/python3.9/site-packages (from scikit-learn>=1.2.0->dask-ml) (3.5.0)\n",
      "Requirement already satisfied: joblib>=1.2.0 in /Users/sadhvichandragiri/opt/anaconda3/lib/python3.9/site-packages (from scikit-learn>=1.2.0->dask-ml) (1.4.2)\n",
      "Requirement already satisfied: heapdict in /Users/sadhvichandragiri/opt/anaconda3/lib/python3.9/site-packages (from zict>=0.1.3->distributed>=2.4.0->dask-ml) (1.0.1)\n",
      "Requirement already satisfied: MarkupSafe>=0.23 in /Users/sadhvichandragiri/opt/anaconda3/lib/python3.9/site-packages (from jinja2->distributed>=2.4.0->dask-ml) (1.1.1)\n",
      "Installing collected packages: sparse, dask-glm, dask-ml\n",
      "Successfully installed dask-glm-0.3.2 dask-ml-2024.4.4 sparse-0.15.4\n"
     ]
    }
   ],
   "source": [
    "!pip install dask-ml"
   ]
  },
  {
   "cell_type": "code",
   "execution_count": 1,
   "id": "16024de6",
   "metadata": {},
   "outputs": [
    {
     "name": "stdout",
     "output_type": "stream",
     "text": [
      "Dask-ML tree module is not installed.\n"
     ]
    }
   ],
   "source": [
    "try:\n",
    "    import dask_ml.tree\n",
    "    print(\"Dask-ML tree module is installed and ready to use.\")\n",
    "except ModuleNotFoundError:\n",
    "    print(\"Dask-ML tree module is not installed.\")\n"
   ]
  },
  {
   "cell_type": "code",
   "execution_count": 2,
   "id": "9638724c",
   "metadata": {},
   "outputs": [
    {
     "name": "stdout",
     "output_type": "stream",
     "text": [
      "Name: dask-ml\r\n",
      "Version: 2024.4.4\r\n",
      "Summary: A library for distributed and parallel machine learning\r\n",
      "Home-page: \r\n",
      "Author: \r\n",
      "Author-email: Tom Augspurger <taugspurger@anaconda.com>\r\n",
      "License: Copyright (c) 2017, Anaconda, Inc. and contributors\r\n",
      "        All rights reserved.\r\n",
      "        \r\n",
      "        Redistribution and use in source and binary forms, with or without modification,\r\n",
      "        are permitted provided that the following conditions are met:\r\n",
      "        \r\n",
      "        Redistributions of source code must retain the above copyright notice,\r\n",
      "        this list of conditions and the following disclaimer.\r\n",
      "        \r\n",
      "        Redistributions in binary form must reproduce the above copyright notice,\r\n",
      "        this list of conditions and the following disclaimer in the documentation\r\n",
      "        and/or other materials provided with the distribution.\r\n",
      "        \r\n",
      "        Neither the name of Anaconda nor the names of any contributors may be used to\r\n",
      "        endorse or promote products derived from this software without specific prior\r\n",
      "        written permission.\r\n",
      "        \r",
      "\r\n",
      "        THIS SOFTWARE IS PROVIDED BY THE COPYRIGHT HOLDERS AND CONTRIBUTORS \"AS IS\"\r\n",
      "        AND ANY EXPRESS OR IMPLIED WARRANTIES, INCLUDING, BUT NOT LIMITED TO, THE\r\n",
      "        IMPLIED WARRANTIES OF MERCHANTABILITY AND FITNESS FOR A PARTICULAR PURPOSE\r\n",
      "        ARE DISCLAIMED. IN NO EVENT SHALL THE COPYRIGHT OWNER OR CONTRIBUTORS BE\r\n",
      "        LIABLE FOR ANY DIRECT, INDIRECT, INCIDENTAL, SPECIAL, EXEMPLARY, OR\r\n",
      "        CONSEQUENTIAL DAMAGES (INCLUDING, BUT NOT LIMITED TO, PROCUREMENT OF\r\n",
      "        SUBSTITUTE GOODS OR SERVICES; LOSS OF USE, DATA, OR PROFITS; OR BUSINESS\r\n",
      "        INTERRUPTION) HOWEVER CAUSED AND ON ANY THEORY OF LIABILITY, WHETHER IN\r\n",
      "        CONTRACT, STRICT LIABILITY, OR TORT (INCLUDING NEGLIGENCE OR OTHERWISE)\r\n",
      "        ARISING IN ANY WAY OUT OF THE USE OF THIS SOFTWARE, EVEN IF ADVISED OF\r\n",
      "        THE POSSIBILITY OF SUCH DAMAGE.\r\n",
      "Location: /Users/sadhvichandragiri/opt/anaconda3/lib/python3.9/site-packages\r\n",
      "Requires: pandas, scipy, numba, distributed, numpy, scikit-learn, dask, dask-glm, packaging, multipledispatch\r\n",
      "Required-by: \r\n"
     ]
    }
   ],
   "source": [
    "!pip show dask-ml\n"
   ]
  },
  {
   "cell_type": "code",
   "execution_count": 3,
   "id": "f9737017",
   "metadata": {},
   "outputs": [
    {
     "name": "stdout",
     "output_type": "stream",
     "text": [
      "['__all__', '__builtins__', '__cached__', '__doc__', '__file__', '__loader__', '__name__', '__package__', '__path__', '__spec__', '__version__', '_compat', '_partial', '_typing', '_utils', 'metrics', 'model_selection', 'utils', 'wrappers']\n"
     ]
    }
   ],
   "source": [
    "import dask_ml\n",
    "print(dir(dask_ml))\n"
   ]
  },
  {
   "cell_type": "code",
   "execution_count": 4,
   "id": "b57d9bcb",
   "metadata": {},
   "outputs": [
    {
     "name": "stdout",
     "output_type": "stream",
     "text": [
      "Dask-ML main module is available.\n"
     ]
    }
   ],
   "source": [
    "import dask_ml\n",
    "print(\"Dask-ML main module is available.\")\n"
   ]
  },
  {
   "cell_type": "code",
   "execution_count": 5,
   "id": "5da959e1",
   "metadata": {},
   "outputs": [
    {
     "ename": "ModuleNotFoundError",
     "evalue": "No module named 'dask_ml.tree'",
     "output_type": "error",
     "traceback": [
      "\u001b[0;31m---------------------------------------------------------------------------\u001b[0m",
      "\u001b[0;31mModuleNotFoundError\u001b[0m                       Traceback (most recent call last)",
      "Cell \u001b[0;32mIn[5], line 1\u001b[0m\n\u001b[0;32m----> 1\u001b[0m \u001b[38;5;28;01mfrom\u001b[39;00m \u001b[38;5;21;01mdask_ml\u001b[39;00m\u001b[38;5;21;01m.\u001b[39;00m\u001b[38;5;21;01mtree\u001b[39;00m \u001b[38;5;28;01mimport\u001b[39;00m DecisionTreeClassifier\n",
      "\u001b[0;31mModuleNotFoundError\u001b[0m: No module named 'dask_ml.tree'"
     ]
    }
   ],
   "source": [
    "from dask_ml.tree import DecisionTreeClassifier\n"
   ]
  },
  {
   "cell_type": "code",
   "execution_count": null,
   "id": "332cd0cb",
   "metadata": {},
   "outputs": [],
   "source": []
  }
 ],
 "metadata": {
  "kernelspec": {
   "display_name": "Python (ZHAW_Project)",
   "language": "python",
   "name": "zhaw_project"
  },
  "language_info": {
   "codemirror_mode": {
    "name": "ipython",
    "version": 3
   },
   "file_extension": ".py",
   "mimetype": "text/x-python",
   "name": "python",
   "nbconvert_exporter": "python",
   "pygments_lexer": "ipython3",
   "version": "3.10.15"
  }
 },
 "nbformat": 4,
 "nbformat_minor": 5
}
